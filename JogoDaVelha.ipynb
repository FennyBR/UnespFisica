{
  "nbformat": 4,
  "nbformat_minor": 0,
  "metadata": {
    "colab": {
      "provenance": [],
      "authorship_tag": "ABX9TyPA4PwRsjcMjj6djOwQSsfS",
      "include_colab_link": true
    },
    "kernelspec": {
      "name": "python3",
      "display_name": "Python 3"
    },
    "language_info": {
      "name": "python"
    }
  },
  "cells": [
    {
      "cell_type": "markdown",
      "metadata": {
        "id": "view-in-github",
        "colab_type": "text"
      },
      "source": [
        "<a href=\"https://colab.research.google.com/github/FennyBR/UnespFisica/blob/main/JogoDaVelha.ipynb\" target=\"_parent\"><img src=\"https://colab.research.google.com/assets/colab-badge.svg\" alt=\"Open In Colab\"/></a>"
      ]
    },
    {
      "cell_type": "markdown",
      "source": [
        "#**Trabalho de Lingugaem Computacional - Física 2023**\n",
        "##**Jogo da Velha**\n",
        "Discentes / RA:\n",
        "<font color=#008F39>\n",
        "- Larissa Villas Boas Ciorlin /\n",
        "</font>\n",
        "<font color=#00A8FF>\n",
        "- Milena dos Santos Alvarenga /\n",
        "</font>"
      ],
      "metadata": {
        "id": "nCw2e4Z4Zllb"
      }
    },
    {
      "cell_type": "code",
      "execution_count": null,
      "metadata": {
        "id": "BM0vOOhoZXkY"
      },
      "outputs": [],
      "source": [
        "import numpy as np\n",
        "import random\n",
        "\n",
        "# Caracteres fantasia utilizados\n",
        "# ♥: alt + 3\n",
        "# ♫: alt + 14\n",
        "# ↓: alt + 25\n",
        "# →: alt + 26\n",
        "\n",
        "ganhador = 0\n",
        "num = 1\n",
        "l = c = 9\n",
        "\n",
        "velha = np.zeros([3,3], dtype=str)\n",
        "\n",
        "for i in range(3):\n",
        "  for j in range(3):\n",
        "    velha[i,j] = ' '\n",
        "\n",
        "\n",
        "def mostrar_jogo():\n",
        "  print('\\n\\t      ↓ → ¹   ²   ³\\n\\t      ¹  ',\n",
        "        velha[0,0],'|',velha[0,1],'|',velha[0,2],'\\n\\t\\t ———————————\\n\\t      ²  ',\n",
        "        velha[1,0],'|',velha[1,1],'|',velha[1,2],'\\n\\t\\t ———————————\\n\\t      ³  ',\n",
        "        velha[2,0],'|',velha[2,1],'|',velha[2,2],'\\n')\n",
        "\n",
        "  print('Decida a sua próxima ação:')\n",
        "  i = int(input('Em qual LINHA você deseja jogar? ')) - 1\n",
        "  j = int(input('Em qual COLUNA você deseja jogar? ')) - 1\n",
        "\n",
        "\n",
        "# def verifica_jogada():\n",
        "\n",
        "  while i > 2 or i < 0 or j > 2 or j < 0 or velha[i,j] != ' ':\n",
        "    print('Escolha um lugar válido para jogar!')\n",
        "\n",
        "    i = int(input('Em qual LINHA você deseja jogar? ')) - 1\n",
        "    j = int(input('Em qual COLUNA você deseja jogar? ')) - 1\n",
        "\n",
        "  velha[i,j] = '♥'\n",
        "\n",
        "  # i = 0\n",
        "  # j = 0\n",
        "\n",
        "\n",
        "\n",
        "\n",
        "def pc_aleatoria():\n",
        "\n",
        "  l = random.randint(0,2) #linha\n",
        "  c = random.randint(0,2) #coluna\n",
        "\n",
        "  while not velha[l,c] == ' ':\n",
        "    l = random.randint(0,2) #linha\n",
        "    c = random.randint(0,2) #coluna\n",
        "\n",
        "  velha[l,c] = '♫'\n",
        "\n",
        "\n",
        "# def ver_ganhador():\n",
        "#   if\n",
        "\n",
        "\n",
        "\n",
        "## PROGRAMA PRINCIPAL\n",
        "print('Atenção! Você é o ♥ e o computador é o ♫. \\nLinha: → \\nColuna: ↓')\n",
        "\n",
        "while ganhador == 0:\n",
        "  print('\\n------------- Rodada número', num,'-------------')\n",
        "  num = num + 1\n",
        "\n",
        "  mostrar_jogo();\n",
        "  pc_aleatoria();\n",
        "  # ver_ganhador();\n",
        "\n"
      ]
    }
  ]
}