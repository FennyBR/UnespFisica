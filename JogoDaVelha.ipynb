{
  "nbformat": 4,
  "nbformat_minor": 0,
  "metadata": {
    "colab": {
      "provenance": [],
      "authorship_tag": "ABX9TyPAeE6DkvCECDYIghZofWtV",
      "include_colab_link": true
    },
    "kernelspec": {
      "name": "python3",
      "display_name": "Python 3"
    },
    "language_info": {
      "name": "python"
    }
  },
  "cells": [
    {
      "cell_type": "markdown",
      "metadata": {
        "id": "view-in-github",
        "colab_type": "text"
      },
      "source": [
        "<a href=\"https://colab.research.google.com/github/FennyBR/UnespFisica/blob/main/JogoDaVelha.ipynb\" target=\"_parent\"><img src=\"https://colab.research.google.com/assets/colab-badge.svg\" alt=\"Open In Colab\"/></a>"
      ]
    },
    {
      "cell_type": "markdown",
      "source": [
        "#**Trabalho de Lingugaem Computacional - Física 2023**\n",
        "##**Jogo da Velha**\n",
        "Discentes / RA:\n",
        "<font color=#008F39>\n",
        "- Larissa Villas Boas Ciorlin /\n",
        "</font>\n",
        "<font color=#00A8FF>\n",
        "- Milena dos Santos Alvarenga /\n",
        "</font>"
      ],
      "metadata": {
        "id": "nCw2e4Z4Zllb"
      }
    },
    {
      "cell_type": "code",
      "execution_count": 44,
      "metadata": {
        "colab": {
          "base_uri": "https://localhost:8080/",
          "height": 644
        },
        "id": "BM0vOOhoZXkY",
        "outputId": "d26710d9-5cce-4b43-bcae-2459fc395bfc"
      },
      "outputs": [
        {
          "name": "stdout",
          "output_type": "stream",
          "text": [
            "Atenção! Você é o ♥ e o computador é o ♫. \n",
            "Linha: → \n",
            "Coluna: ↓\n",
            "\n",
            "\t\tRodada número 1\n",
            "\n",
            "\t      ↓ → ¹   ²   ³\n",
            "\t      ¹     |   |   \n",
            "\t\t ———————————\n",
            "\t      ²     |   |   \n",
            "\t\t ———————————\n",
            "\t      ³     |   |   \n",
            "\n",
            "Decida a sua próxima ação:\n",
            "Em qual LINHA você deseja jogar? 2\n",
            "Em qual COLUNA você deseja jogar? 2\n"
          ]
        },
        {
          "output_type": "error",
          "ename": "UnboundLocalError",
          "evalue": "ignored",
          "traceback": [
            "\u001b[0;31m---------------------------------------------------------------------------\u001b[0m",
            "\u001b[0;31mUnboundLocalError\u001b[0m                         Traceback (most recent call last)",
            "\u001b[0;32m<ipython-input-44-b60aee826b47>\u001b[0m in \u001b[0;36m<cell line: 67>\u001b[0;34m()\u001b[0m\n\u001b[1;32m     77\u001b[0m   \u001b[0mi\u001b[0m \u001b[0;34m=\u001b[0m \u001b[0mint\u001b[0m\u001b[0;34m(\u001b[0m\u001b[0minput\u001b[0m\u001b[0;34m(\u001b[0m\u001b[0;34m'Em qual LINHA você deseja jogar? '\u001b[0m\u001b[0;34m)\u001b[0m\u001b[0;34m)\u001b[0m \u001b[0;34m-\u001b[0m \u001b[0;36m1\u001b[0m\u001b[0;34m\u001b[0m\u001b[0;34m\u001b[0m\u001b[0m\n\u001b[1;32m     78\u001b[0m   \u001b[0mj\u001b[0m \u001b[0;34m=\u001b[0m \u001b[0mint\u001b[0m\u001b[0;34m(\u001b[0m\u001b[0minput\u001b[0m\u001b[0;34m(\u001b[0m\u001b[0;34m'Em qual COLUNA você deseja jogar? '\u001b[0m\u001b[0;34m)\u001b[0m\u001b[0;34m)\u001b[0m \u001b[0;34m-\u001b[0m \u001b[0;36m1\u001b[0m\u001b[0;34m\u001b[0m\u001b[0;34m\u001b[0m\u001b[0m\n\u001b[0;32m---> 79\u001b[0;31m   \u001b[0mmostrar_jogo\u001b[0m\u001b[0;34m(\u001b[0m\u001b[0mi\u001b[0m\u001b[0;34m,\u001b[0m\u001b[0mj\u001b[0m\u001b[0;34m)\u001b[0m\u001b[0;34m;\u001b[0m\u001b[0;34m\u001b[0m\u001b[0;34m\u001b[0m\u001b[0m\n\u001b[0m\u001b[1;32m     80\u001b[0m   \u001b[0mpc_aleatoria\u001b[0m\u001b[0;34m(\u001b[0m\u001b[0;34m)\u001b[0m\u001b[0;34m;\u001b[0m\u001b[0;34m\u001b[0m\u001b[0;34m\u001b[0m\u001b[0m\n\u001b[1;32m     81\u001b[0m \u001b[0;34m\u001b[0m\u001b[0m\n",
            "\u001b[0;32m<ipython-input-44-b60aee826b47>\u001b[0m in \u001b[0;36mmostrar_jogo\u001b[0;34m(linha, coluna)\u001b[0m\n\u001b[1;32m     32\u001b[0m \u001b[0;31m# def verifica_jogada():\u001b[0m\u001b[0;34m\u001b[0m\u001b[0;34m\u001b[0m\u001b[0m\n\u001b[1;32m     33\u001b[0m \u001b[0;34m\u001b[0m\u001b[0m\n\u001b[0;32m---> 34\u001b[0;31m   \u001b[0;32mwhile\u001b[0m \u001b[0mi\u001b[0m \u001b[0;34m>\u001b[0m \u001b[0;36m2\u001b[0m \u001b[0;32mor\u001b[0m \u001b[0mi\u001b[0m \u001b[0;34m<\u001b[0m \u001b[0;36m0\u001b[0m \u001b[0;32mor\u001b[0m \u001b[0mj\u001b[0m \u001b[0;34m>\u001b[0m \u001b[0;36m2\u001b[0m \u001b[0;32mor\u001b[0m \u001b[0mj\u001b[0m \u001b[0;34m<\u001b[0m \u001b[0;36m0\u001b[0m \u001b[0;32mor\u001b[0m \u001b[0mvelha\u001b[0m\u001b[0;34m[\u001b[0m\u001b[0mi\u001b[0m\u001b[0;34m,\u001b[0m\u001b[0mj\u001b[0m\u001b[0;34m]\u001b[0m \u001b[0;34m!=\u001b[0m \u001b[0;34m' '\u001b[0m\u001b[0;34m:\u001b[0m\u001b[0;34m\u001b[0m\u001b[0;34m\u001b[0m\u001b[0m\n\u001b[0m\u001b[1;32m     35\u001b[0m     \u001b[0mprint\u001b[0m\u001b[0;34m(\u001b[0m\u001b[0;34m'Escolha um lugar válido para jogar!'\u001b[0m\u001b[0;34m)\u001b[0m\u001b[0;34m\u001b[0m\u001b[0;34m\u001b[0m\u001b[0m\n\u001b[1;32m     36\u001b[0m \u001b[0;34m\u001b[0m\u001b[0m\n",
            "\u001b[0;31mUnboundLocalError\u001b[0m: local variable 'i' referenced before assignment"
          ]
        }
      ],
      "source": [
        "import numpy as np\n",
        "import random\n",
        "\n",
        "# Caracteres fantasia utilizados\n",
        "# ♥: alt + 3\n",
        "# ♫: alt + 14\n",
        "# ↓: alt + 25\n",
        "# →: alt + 26\n",
        "\n",
        "ganhador = 0\n",
        "num = 1\n",
        "l = c = 9\n",
        "\n",
        "velha = np.zeros([3,3], dtype=str)\n",
        "\n",
        "for i in range(3):\n",
        "  for j in range(3):\n",
        "    velha[i,j] = ' '\n",
        "\n",
        "\n",
        "def mostrar_jogo():\n",
        "  print('\\n\\t      ↓ → ¹   ²   ³\\n\\t      ¹  ',\n",
        "        velha[0,0],'|',velha[0,1],'|',velha[0,2],'\\n\\t\\t ———————————\\n\\t      ²  ',\n",
        "        velha[1,0],'|',velha[1,1],'|',velha[1,2],'\\n\\t\\t ———————————\\n\\t      ³  ',\n",
        "        velha[2,0],'|',velha[2,1],'|',velha[2,2],'\\n')\n",
        "\n",
        "  print('Decida a sua próxima ação:')\n",
        "  i = int(input('Em qual LINHA você deseja jogar? ')) - 1\n",
        "  j = int(input('Em qual COLUNA você deseja jogar? ')) - 1\n",
        "\n",
        "\n",
        "# def verifica_jogada():\n",
        "\n",
        "  while i > 2 or i < 0 or j > 2 or j < 0 or velha[i,j] != ' ':\n",
        "    print('Escolha um lugar válido para jogar!')\n",
        "\n",
        "    i = int(input('Em qual LINHA você deseja jogar? ')) - 1\n",
        "    j = int(input('Em qual COLUNA você deseja jogar? ')) - 1\n",
        "\n",
        "  velha[i,j] = '♥'\n",
        "\n",
        "  # i = 0\n",
        "  # j = 0\n",
        "\n",
        "\n",
        "\n",
        "\n",
        "def pc_aleatoria():\n",
        "\n",
        "  l = random.randint(0,2) #linha\n",
        "  c = random.randint(0,2) #coluna\n",
        "\n",
        "  while not velha[l,c] == ' ':\n",
        "    l = random.randint(0,2) #linha\n",
        "    c = random.randint(0,2) #coluna\n",
        "\n",
        "  velha[l,c] = '♫'\n",
        "\n",
        "\n",
        "def ver_ganhador():\n",
        "  if\n",
        "\n",
        "\n",
        "\n",
        "## PROGRAMA PRINCIPAL\n",
        "print('Atenção! Você é o ♥ e o computador é o ♫. \\nLinha: → \\nColuna: ↓')\n",
        "\n",
        "while ganhador == 0:\n",
        "  print('\\n\\t\\tRodada número', num)\n",
        "  num = num + 1\n",
        "\n",
        "  mostrar_jogo();\n",
        "  pc_aleatoria();\n",
        "  ver_ganhador();\n",
        "\n"
      ]
    }
  ]
}