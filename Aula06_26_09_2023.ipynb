{
  "nbformat": 4,
  "nbformat_minor": 0,
  "metadata": {
    "colab": {
      "provenance": [],
      "authorship_tag": "ABX9TyNTEB6tCjkG8/Z4AyYv+D4z",
      "include_colab_link": true
    },
    "kernelspec": {
      "name": "python3",
      "display_name": "Python 3"
    },
    "language_info": {
      "name": "python"
    }
  },
  "cells": [
    {
      "cell_type": "markdown",
      "metadata": {
        "id": "view-in-github",
        "colab_type": "text"
      },
      "source": [
        "<a href=\"https://colab.research.google.com/github/FennyBR/UnespFisica/blob/main/Aula06_26_09_2023.ipynb\" target=\"_parent\"><img src=\"https://colab.research.google.com/assets/colab-badge.svg\" alt=\"Open In Colab\"/></a>"
      ]
    },
    {
      "cell_type": "markdown",
      "source": [
        "# **Aula 06 - 26/09/2023**\n",
        "Exercícios 2,5/32"
      ],
      "metadata": {
        "id": "-0UdUMlpM8b-"
      }
    },
    {
      "cell_type": "markdown",
      "source": [
        "1. Imprimir todos os números de 1 a 100."
      ],
      "metadata": {
        "id": "e3XtXaQwN4tb"
      }
    },
    {
      "cell_type": "code",
      "source": [
        "for i in range (1,101,1):\n",
        "   print(i)\n"
      ],
      "metadata": {
        "id": "8DJaSOP_N40z"
      },
      "execution_count": null,
      "outputs": []
    },
    {
      "cell_type": "code",
      "source": [
        "i = 0\n",
        "\n",
        "while i <= 100:\n",
        "  print(i)\n",
        "  i = i + 1\n"
      ],
      "metadata": {
        "id": "o9zlMOOAUg41"
      },
      "execution_count": null,
      "outputs": []
    },
    {
      "cell_type": "markdown",
      "source": [
        "2. Imprimir todos os números múltiplos de 7 de 1 a 1000."
      ],
      "metadata": {
        "id": "c9P63adpN5CD"
      }
    },
    {
      "cell_type": "code",
      "source": [
        "for i in range(1,1001,1):\n",
        "  resto = i % 7\n",
        "\n",
        "  if resto == 0:\n",
        "      print (i)\n"
      ],
      "metadata": {
        "id": "eK4WZ3N9N5Iz"
      },
      "execution_count": null,
      "outputs": []
    },
    {
      "cell_type": "markdown",
      "source": [
        "3. Faça um programa que receba um número e verifique se ele é primo."
      ],
      "metadata": {
        "id": "vWtehQ9IN5PD"
      }
    },
    {
      "cell_type": "code",
      "source": [
        "cont = 0\n",
        "i =0\n",
        "\n",
        "num = int(input('Digite um número: '))\n",
        "\n",
        "for i in range (2, num, 1):\n",
        "  if num % i == 0:\n",
        "    cont = cont + 1\n",
        "\n",
        "if cont == 0:\n",
        "  print('O número é primo')\n",
        "else:\n",
        "  print('O número NÃO é primo')\n"
      ],
      "metadata": {
        "id": "b5Q44QExU0sr"
      },
      "execution_count": null,
      "outputs": []
    },
    {
      "cell_type": "code",
      "source": [
        "num = int(input('Digite um número: '))\n",
        "\n",
        "cont = 0\n",
        "i = 0\n",
        "\n",
        "while i <= num:\n",
        "   i = i + 1\n",
        "   if num % i == 0:\n",
        "      cont = cont + 1\n",
        "\n",
        "\n",
        "if cont <= 2:\n",
        "  print('O número é primo')\n",
        "else:\n",
        "  print('O número NÃO é primo')\n"
      ],
      "metadata": {
        "colab": {
          "base_uri": "https://localhost:8080/"
        },
        "id": "LJh64wzUN5V6",
        "outputId": "f5cd9b03-f2e4-4df2-c34a-026e4f956a09"
      },
      "execution_count": null,
      "outputs": [
        {
          "output_type": "stream",
          "name": "stdout",
          "text": [
            "Digite um número: 5\n",
            "O número é primo\n"
          ]
        }
      ]
    },
    {
      "cell_type": "markdown",
      "source": [
        "4. Desenvolver um algoritmo que efetue a soma de todos os números ímpares entre 1 até 500."
      ],
      "metadata": {
        "id": "QH98ZKnuN5cz"
      }
    },
    {
      "cell_type": "code",
      "source": [],
      "metadata": {
        "id": "XdjqYYLqN5kD"
      },
      "execution_count": null,
      "outputs": []
    },
    {
      "cell_type": "markdown",
      "source": [
        "5. Faça um programa que verifique e mostre os números entre 1000 e 2000 (inclusive) que,\n",
        "quando divididos por 11, produzam resto igual a 5."
      ],
      "metadata": {
        "id": "F2mzPDDLN5rz"
      }
    },
    {
      "cell_type": "code",
      "source": [],
      "metadata": {
        "id": "Ou5kVEx2N5zq"
      },
      "execution_count": null,
      "outputs": []
    },
    {
      "cell_type": "markdown",
      "source": [
        "6. Faça um programa que exiba os números de 1 a 100 que sejam múltiplos pelo valor que\n",
        "o usuário digitar. Ex: Entrada: 3, Saída: 3, 6, 9, 12, 15, 18, ..., 96, 99."
      ],
      "metadata": {
        "id": "jPguD3a7N56S"
      }
    },
    {
      "cell_type": "code",
      "source": [],
      "metadata": {
        "id": "DUsk8DhJN6A6"
      },
      "execution_count": null,
      "outputs": []
    },
    {
      "cell_type": "markdown",
      "source": [
        "7. Elabore um programa que receba a média de 6 alunos, e exiba:\n",
        "\n",
        "\n",
        "\n",
        "*   Reprovado, se a nota estiver abaixo de 3\n",
        "\n",
        "*   Exame, caso a nota esteja entre 3 e 5\n",
        "*   Aprovado, caso a nota seja maior que 5\n"
      ],
      "metadata": {
        "id": "Qmy3yJvFN6KD"
      }
    },
    {
      "cell_type": "code",
      "source": [],
      "metadata": {
        "id": "stnCnX4YN6TT"
      },
      "execution_count": null,
      "outputs": []
    },
    {
      "cell_type": "markdown",
      "source": [
        "8. Calcular o fatorial de um número: n! = 5*4*3*2*1"
      ],
      "metadata": {
        "id": "1yC6kle9N6Z7"
      }
    },
    {
      "cell_type": "code",
      "source": [],
      "metadata": {
        "id": "T-WZG8jPN6gO"
      },
      "execution_count": null,
      "outputs": []
    },
    {
      "cell_type": "markdown",
      "source": [
        "9. Faça um programa que calcule o rendimento de juros compostos de investimento para\n",
        "um usuário. O programa deve receber o valor inicial, a taxa mensal de juros, e a\n",
        "quantidade de meses que o valor inicial será aplicado. Ex: RS100 e 1% ao mês, no\n",
        "primeiro mês o valor será RS101, no segundo mês os juros serão calculados a partir dos\n",
        "RS101 e não mais dos RS100 e assim por diante. (Não utilizar fórmulas prontas!)"
      ],
      "metadata": {
        "id": "zQYh7k1iN6mL"
      }
    },
    {
      "cell_type": "code",
      "source": [],
      "metadata": {
        "id": "gDD3KF-YN6s6"
      },
      "execution_count": null,
      "outputs": []
    },
    {
      "cell_type": "markdown",
      "source": [
        "10. Faça um programa que receba um valor inteiro n, inteiro e positivo, calcule e mostre a\n",
        "seguinte soma:\n",
        "\n"
      ],
      "metadata": {
        "id": "c9jhlepBN6zD"
      }
    },
    {
      "cell_type": "code",
      "source": [],
      "metadata": {
        "id": "JqfsCXmON65K"
      },
      "execution_count": null,
      "outputs": []
    },
    {
      "cell_type": "markdown",
      "source": [
        "11. Elabore um programa que recebe um valor de base e um valor de expoente e exiba seu\n",
        "resultado. Ex: base=4 e expoente=5 => 4\n",
        "\n",
        "5=4* 4 * 4 * 4* 4. (não utilize funções prontas!!!)."
      ],
      "metadata": {
        "id": "FLQxnCmjN6-6"
      }
    },
    {
      "cell_type": "code",
      "source": [],
      "metadata": {
        "id": "A2fFOBWIN7FK"
      },
      "execution_count": null,
      "outputs": []
    },
    {
      "cell_type": "markdown",
      "source": [
        "12. Faça um programa que receba a idade de 8 alunos e retorne o aluno mais velho, mais novo\n",
        "e a média das idades calculadas."
      ],
      "metadata": {
        "id": "YuGiFGJ-N7Lb"
      }
    },
    {
      "cell_type": "code",
      "source": [],
      "metadata": {
        "id": "dzr3pXJ_N7R7"
      },
      "execution_count": null,
      "outputs": []
    },
    {
      "cell_type": "markdown",
      "source": [
        "13. Faça um programa que mostre todas as tabuadas de 1 a 10."
      ],
      "metadata": {
        "id": "oF4Tl3wkN-2b"
      }
    },
    {
      "cell_type": "code",
      "source": [],
      "metadata": {
        "id": "9suFtwN0N-8b"
      },
      "execution_count": null,
      "outputs": []
    },
    {
      "cell_type": "markdown",
      "source": [
        "14. Faça um programa que receba 10 notas digitas pelo usuário, contabilize e exiba:\n",
        "\n",
        "\n",
        "*   a) Notas maiores do que 8, notas de 5 a 8 e notas menores do que 5.\n",
        "*   b) A média das notas digitadas\n",
        "\n"
      ],
      "metadata": {
        "id": "1SYdJNO2N_CL"
      }
    },
    {
      "cell_type": "code",
      "source": [],
      "metadata": {
        "id": "j90Ht4usN_Ij"
      },
      "execution_count": null,
      "outputs": []
    },
    {
      "cell_type": "markdown",
      "source": [],
      "metadata": {
        "id": "DnKSZZTZN_Pj"
      }
    },
    {
      "cell_type": "code",
      "source": [],
      "metadata": {
        "id": "wATHW__JN_Vc"
      },
      "execution_count": null,
      "outputs": []
    },
    {
      "cell_type": "markdown",
      "source": [
        "16. Faça um programa que receba a idade, altura de 5 pessoas. Calcule e mostre:\n",
        "\n",
        "\n",
        "\n",
        "\n",
        "\n",
        "*   A quantidade de pessoas com idade superior a 50 anos;\n",
        "*   A média das alturas das pessoas entre 10 e 20 anos.\n",
        "\n"
      ],
      "metadata": {
        "id": "tp_qRMbDN_b8"
      }
    },
    {
      "cell_type": "code",
      "source": [],
      "metadata": {
        "id": "IFZhkHAsN_3r"
      },
      "execution_count": null,
      "outputs": []
    },
    {
      "cell_type": "markdown",
      "source": [
        "17. Faça um programa que receba várias idades e que calcule e mostre a média das idades\n",
        "digitadas. Finalize digitando idade igual a 0. (Obs: Este programa funciona apenas\n",
        "com while)"
      ],
      "metadata": {
        "id": "WAx6mtXmPB_U"
      }
    },
    {
      "cell_type": "code",
      "source": [],
      "metadata": {
        "id": "JdcdsrBUPCFE"
      },
      "execution_count": null,
      "outputs": []
    },
    {
      "cell_type": "markdown",
      "source": [
        "18. Faça um programa que receba vários números, calcule e mostre:\n",
        "\n",
        "\n",
        "\n",
        "*   A quantidade de números inferiores a 35\n",
        "\n",
        "*   A média de números positivos\n",
        "*   A porcentagem de números entre 50 e 100 entre todos números digitados\n",
        "\n",
        "(Obs: Este programa funciona apenas com while)"
      ],
      "metadata": {
        "id": "rCnlZxFWPFv0"
      }
    },
    {
      "cell_type": "code",
      "source": [],
      "metadata": {
        "id": "htUo6S6ZPFa8"
      },
      "execution_count": null,
      "outputs": []
    }
  ]
}