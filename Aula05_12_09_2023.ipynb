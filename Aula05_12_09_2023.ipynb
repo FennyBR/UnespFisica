{
  "nbformat": 4,
  "nbformat_minor": 0,
  "metadata": {
    "colab": {
      "provenance": [],
      "authorship_tag": "ABX9TyN7Eqhf03KjkjfUzVw/7aJ6",
      "include_colab_link": true
    },
    "kernelspec": {
      "name": "python3",
      "display_name": "Python 3"
    },
    "language_info": {
      "name": "python"
    }
  },
  "cells": [
    {
      "cell_type": "markdown",
      "metadata": {
        "id": "view-in-github",
        "colab_type": "text"
      },
      "source": [
        "<a href=\"https://colab.research.google.com/github/FennyBR/UnespFisica/blob/main/Aula05_12_09_2023.ipynb\" target=\"_parent\"><img src=\"https://colab.research.google.com/assets/colab-badge.svg\" alt=\"Open In Colab\"/></a>"
      ]
    },
    {
      "cell_type": "markdown",
      "source": [
        "# **Aula 05 - 12/09/2023**\n",
        "FOR e WHILE\n"
      ],
      "metadata": {
        "id": "MVo8cChcLUgJ"
      }
    },
    {
      "cell_type": "markdown",
      "source": [
        "## FOR"
      ],
      "metadata": {
        "id": "aaJv33lFQX8p"
      }
    },
    {
      "cell_type": "code",
      "execution_count": null,
      "metadata": {
        "id": "AbbYhdHWEmWC"
      },
      "outputs": [],
      "source": [
        "# O valor de x, valor inicial automaticamente 0\n",
        "\n",
        "for x in range(10):\n",
        "  print('Valor de x nesta execução: ', x)\n",
        "\n",
        "# Valor inicial diferente de zero, sempre para um antes do RANGE\n",
        "\n",
        "for ra in range(23000,23011):\n",
        "  print('RA do aluno: ', ra)\n"
      ]
    },
    {
      "cell_type": "code",
      "source": [
        "# Valor inicial, final e incremento\n",
        "\n",
        "for i in range (1,11,3):\n",
        "  print('Valor de i =', i)\n",
        "\n",
        "# Valor inicial, final e decremento\n",
        "\n",
        "print('\\nContagem regressiva!')\n",
        "for c in range (3,-1,-1):\n",
        "  print('Contagem... ', c)\n"
      ],
      "metadata": {
        "id": "SCNibSCIL4v4"
      },
      "execution_count": null,
      "outputs": []
    },
    {
      "cell_type": "code",
      "source": [
        "# Equivalências\n",
        "\n",
        "print('for nº1')\n",
        "for i in range(10):\n",
        "  print(i)\n",
        "\n",
        "# equivale a\n",
        "print('\\nfor nº2')\n",
        "for i in range(0,10):\n",
        "  print(i)\n",
        "\n",
        "# que também equivale a\n",
        "print('\\nfor nº3')\n",
        "for i in range(0,10,1):\n",
        "  print(i)\n"
      ],
      "metadata": {
        "id": "7sHsgSQPPIai",
        "colab": {
          "base_uri": "https://localhost:8080/"
        },
        "outputId": "b22e180f-301f-4790-f173-a3ebdce26bc6"
      },
      "execution_count": null,
      "outputs": [
        {
          "output_type": "stream",
          "name": "stdout",
          "text": [
            "for nº1\n",
            "0\n",
            "1\n",
            "2\n",
            "3\n",
            "4\n",
            "5\n",
            "6\n",
            "7\n",
            "8\n",
            "9\n",
            "\n",
            "for nº2\n",
            "0\n",
            "1\n",
            "2\n",
            "3\n",
            "4\n",
            "5\n",
            "6\n",
            "7\n",
            "8\n",
            "9\n",
            "\n",
            "for nº3\n",
            "0\n",
            "2\n",
            "4\n",
            "6\n",
            "8\n"
          ]
        }
      ]
    },
    {
      "cell_type": "code",
      "source": [
        "# Acumulador\n",
        "\n",
        "soma = 0\n",
        "\n",
        "for i in range (1,6):\n",
        "  num = float(input('Digite um número: '))\n",
        "  soma = soma + num  #Acumulando o valor da variável num na variável soma\n",
        "\n",
        "print('A soma dos 5 valores é: ', soma) #Exibindo somatório\n"
      ],
      "metadata": {
        "id": "BqiA6oQLR-1Y"
      },
      "execution_count": null,
      "outputs": []
    },
    {
      "cell_type": "code",
      "source": [
        "# Contador\n",
        "\n",
        "cont = 0\n",
        "\n",
        "for i in range(1,6):\n",
        "  num = float(input('Digite um número: '))\n",
        "  if num > 5:\n",
        "    cont = cont + 1\n",
        "\n",
        "print('Quantidade de número maiores do que 5: ', cont)"
      ],
      "metadata": {
        "colab": {
          "base_uri": "https://localhost:8080/"
        },
        "id": "ZbEMOLFtVq6y",
        "outputId": "24d6d560-7b73-490e-a7cc-aa0db42ad975"
      },
      "execution_count": null,
      "outputs": [
        {
          "output_type": "stream",
          "name": "stdout",
          "text": [
            "Digite um número: 6\n",
            "Digite um número: 2\n",
            "Digite um número: 4\n",
            "Digite um número: 7\n",
            "Digite um número: 8\n",
            "Quantidade de número maiores do que 5:  3\n"
          ]
        }
      ]
    },
    {
      "cell_type": "markdown",
      "source": [
        "## WHILE"
      ],
      "metadata": {
        "id": "slQrkkAcQf-T"
      }
    },
    {
      "cell_type": "code",
      "source": [
        "x = 0\n",
        "y = 0\n",
        "\n",
        "while x != 5:\n",
        "  print('Valor de x =', x)\n",
        "  x = x + 1\n",
        "\n",
        "print('Valor após o while: ', x)\n",
        "\n",
        "while y < 5:\n",
        "  print('Valor de y =', y)\n",
        "  y = y + 1\n",
        "\n",
        "print('Valor após o while: ', y)\n"
      ],
      "metadata": {
        "colab": {
          "base_uri": "https://localhost:8080/"
        },
        "id": "gmmZOtR2Qthb",
        "outputId": "b150fd51-4ff8-4323-aff0-b0ac2ffe0a48"
      },
      "execution_count": null,
      "outputs": [
        {
          "output_type": "stream",
          "name": "stdout",
          "text": [
            "Valor de x = 0\n",
            "Valor de x = 1\n",
            "Valor de x = 2\n",
            "Valor de x = 3\n",
            "Valor de x = 4\n",
            "Valor após o while:  5\n",
            "Valor de y = 0\n",
            "Valor de y = 1\n",
            "Valor de y = 2\n",
            "Valor de y = 3\n",
            "Valor de y = 4\n",
            "Valor após o while:  5\n"
          ]
        }
      ]
    },
    {
      "cell_type": "code",
      "source": [
        "continua = 'sim'\n",
        "while continua == 'sim':\n",
        "  n1 = int(input('n1:'))\n",
        "  n2 = int(input('n2:'))\n",
        "  soma = n1 + n2\n",
        "  print('soma = ', soma)\n",
        "  continua = input('deseja continuar?(sim/nao)')\n"
      ],
      "metadata": {
        "colab": {
          "base_uri": "https://localhost:8080/"
        },
        "id": "6LZsdNoJlBvW",
        "outputId": "97867eb2-9b7f-4d68-9337-b4797423568b"
      },
      "execution_count": null,
      "outputs": [
        {
          "name": "stdout",
          "output_type": "stream",
          "text": [
            "n1:6\n",
            "n2:4\n",
            "soma =  10\n",
            "deseja continuar?(sim/nao)sim\n",
            "n1:9\n",
            "n2:4\n",
            "soma =  13\n",
            "deseja continuar?(sim/nao)sim\n",
            "n1:1\n",
            "n2:2\n",
            "soma =  3\n",
            "deseja continuar?(sim/nao)nao\n"
          ]
        }
      ]
    },
    {
      "cell_type": "code",
      "source": [
        "# Adaptação do exemplo dos eixos pedagio\n",
        "\n",
        "eixos = int(input('nº de eixos:'))\n",
        "while eixos < 2 or eixos > 9:\n",
        "  print('Número de eixos não permitido1')\n",
        "  eixos = int(input('nº de eixos:'))\n",
        "print('Calculava pedagio')\n"
      ],
      "metadata": {
        "colab": {
          "base_uri": "https://localhost:8080/"
        },
        "id": "oAfoh9yYQt4q",
        "outputId": "bb1b0475-f11e-4159-91b5-ba768b9b56bf"
      },
      "execution_count": null,
      "outputs": [
        {
          "output_type": "stream",
          "name": "stdout",
          "text": [
            "nº de eixos:99\n",
            "Número de eixos não permitido1\n",
            "nº de eixos:5\n",
            "Calculava pedagio\n"
          ]
        }
      ]
    },
    {
      "cell_type": "markdown",
      "source": [
        "# **Exercícios**\n",
        "Revisão P1\n"
      ],
      "metadata": {
        "id": "u4NKLk_2LdYA"
      }
    },
    {
      "cell_type": "markdown",
      "source": [
        "1. Faça a descrição narrativa, fluxograma e programa em Python que calcule o volumede um cilindro dado altura e raio (V = π. r^2. h)."
      ],
      "metadata": {
        "id": "5_-giqFEiLUL"
      }
    },
    {
      "cell_type": "code",
      "source": [
        "import math\n",
        "\n",
        "r = h = v = 0\n",
        "\n",
        "h = float(input('Digite a altura do cilindro: '))\n",
        "r = float(input('Digite o raio do cilindro: '))\n",
        "\n",
        "v = math.pi * math.pow(r,2) * h\n",
        "\n",
        "\n",
        "print('O volume do cilindro é ', round(v,2))\n"
      ],
      "metadata": {
        "colab": {
          "base_uri": "https://localhost:8080/"
        },
        "id": "TKAo7sIeiXcr",
        "outputId": "2d384be3-8877-4e13-9275-2e0ef0f8d4da"
      },
      "execution_count": null,
      "outputs": [
        {
          "output_type": "stream",
          "name": "stdout",
          "text": [
            "Digite a altura do cilindro: 2\n",
            "Digite o raio do cilindro: 7\n",
            "O volume do cilindro é  307.88\n"
          ]
        }
      ]
    },
    {
      "cell_type": "markdown",
      "source": [
        "2. Faça a descrição narrativa, fluxograma e programa em Python que receba um raio, calcule e mostre\n",
        "\n",
        "\n",
        "\n",
        "*   a) O comprimento de uma esfera (C = 2πR);\n",
        "*   b) A área de uma esfera (A = πR2);\n",
        "\n",
        "*   c) O volume de uma esfera (V= 4πR3/3);\n",
        "\n",
        "\n",
        "\n"
      ],
      "metadata": {
        "id": "YzG5PADCiTDT"
      }
    },
    {
      "cell_type": "code",
      "source": [
        "#fiz no caderno"
      ],
      "metadata": {
        "id": "KWbDFhFciTLD"
      },
      "execution_count": null,
      "outputs": []
    },
    {
      "cell_type": "markdown",
      "source": [
        "3. Faça a descrição narrativa, o fluxograma e o programa em Python que receba uma temperatura em Celsius, calcule e mostre essa temperatura em Fahrenheit e em\n",
        "Kelvin. (F = 180*(C+32) /100) (K = C + 273,15)."
      ],
      "metadata": {
        "id": "tIFve4f0iTRy"
      }
    },
    {
      "cell_type": "code",
      "source": [
        "#exercicio repetido"
      ],
      "metadata": {
        "id": "OD5HSTTMiTYi"
      },
      "execution_count": null,
      "outputs": []
    },
    {
      "cell_type": "markdown",
      "source": [
        "4. Sabe-se que um cachorro de porte pequeno come 120g de ração por dia, de porte\n",
        "médio 380g e de porte grande 740g. Faça a descrição narrativa, fluxograma e\n",
        "programa que receba o número de cães de cada porte e calcule a quantidade de ração necessária para alimentá-los durante o mês."
      ],
      "metadata": {
        "id": "fnd6zCJ_iTez"
      }
    },
    {
      "cell_type": "code",
      "source": [],
      "metadata": {
        "id": "rbpCY_d_iTlj"
      },
      "execution_count": null,
      "outputs": []
    },
    {
      "cell_type": "markdown",
      "source": [
        "5. Em uma lavanderia, para cada kg de roupa são necessários 180g de sabão em pó e\n",
        "100 ml de amaciante. Faça um programa que receba a quantidade de kg de roupas e\n",
        "o valor por kg de sabão em pó e o valor por litro de amaciante e calcule o custo final\n",
        "para lavar a quantidade de roupas desejada."
      ],
      "metadata": {
        "id": "-QL2TS1KiTwC"
      }
    },
    {
      "cell_type": "code",
      "source": [],
      "metadata": {
        "id": "StiZ0RmyiT2D"
      },
      "execution_count": null,
      "outputs": []
    },
    {
      "cell_type": "markdown",
      "source": [
        "6. Um tijolo padrão possui medidas de 14 cm de comprimento e 19 cm de altura. Dadas\n",
        "as medidas de altura e comprimento de uma parede, calcule quantos tijolos serão\n",
        "necessários para cobrir a área de interesse."
      ],
      "metadata": {
        "id": "o4B9rIhpiUKj"
      }
    },
    {
      "cell_type": "code",
      "source": [],
      "metadata": {
        "id": "ev80yjibiURy"
      },
      "execution_count": null,
      "outputs": []
    },
    {
      "cell_type": "markdown",
      "source": [
        "7. Escreva um programa que receba duas coordenadas (x, y) e determine em qual\n",
        "quadrante o ponto se encontra."
      ],
      "metadata": {
        "id": "jXxzNdrHiUYT"
      }
    },
    {
      "cell_type": "code",
      "source": [
        "x = y = 0\n",
        "\n",
        "x = float(input('Digite a coordenada x: '))\n",
        "y = float(input('Digite a coordenada y: '))\n",
        "\n",
        "if x > 0 and y > 0:\n",
        "  print('primeiro')\n",
        "elif x < 0 and y > 0:\n",
        "  print('segundo')\n",
        "elif x < 0 and y < 0:\n",
        "  print('terceiro')\n",
        "else:\n",
        "  print('quarto')\n"
      ],
      "metadata": {
        "id": "5uE9yFqxiUfK"
      },
      "execution_count": null,
      "outputs": []
    },
    {
      "cell_type": "markdown",
      "source": [
        "8. Faça um programa que receba o valor de glicemia e categorize entre normal (inferior\n",
        "a 99 mg/dL), alterada (entre 100 mg/dL e 125 mg/dL), diabetes (igual ou acima de\n",
        "126 mg/dL) e hipoglicemia (igual ou inferior a 70 mg/dL)."
      ],
      "metadata": {
        "id": "OuzvbYUIiUlj"
      }
    },
    {
      "cell_type": "code",
      "source": [],
      "metadata": {
        "id": "JvFhaCD2iUrr"
      },
      "execution_count": null,
      "outputs": []
    },
    {
      "cell_type": "markdown",
      "source": [
        "9. Escreva um programa que receba a quantidade de horas diárias trabalhadas, valor da\n",
        "hora e o turno (diurno ou noturno). O programa não deve aceitar mais que 12h e caso\n",
        "seja informado o turno da noite, há um adicional de 35% ao valor da hora. O\n",
        "programa deve mostrar o valor ganho a partir das informações fornecidas."
      ],
      "metadata": {
        "id": "_UTj5pgqiUyk"
      }
    },
    {
      "cell_type": "code",
      "source": [],
      "metadata": {
        "id": "_fFV719xiU4b"
      },
      "execution_count": null,
      "outputs": []
    },
    {
      "cell_type": "markdown",
      "source": [
        "10. Faça um programa que determine a data cronologicamente maior entre duas datas\n",
        "fornecidas pelo usuário. Cada data deve ser composta de 3 valores inteiros,\n",
        "representando dia, mês e ano, respectivamente."
      ],
      "metadata": {
        "id": "2JzAW3fxiU-7"
      }
    },
    {
      "cell_type": "code",
      "source": [
        "dia1 = dia2 = mes1 = mes2 = ano1 = ano2 = maior = 0\n",
        "\n",
        "dia1 = int(input('Digite o dia da primeira data: '))\n",
        "mes1 = int(input('Digite o mês da primeira data: '))\n",
        "ano1 = int(input('Digite o ano da primeira data: '))\n",
        "\n",
        "dia2 = int(input('Digite o dia da segunda data: '))\n",
        "mes2 = int(input('Digite o mês da segunda data: '))\n",
        "ano2 = int(input('Digite o ano da segunda data: '))\n",
        "\n",
        "if ano1 > ano2:\n",
        "  maior = 'primeira'\n",
        "\n",
        "elif ano1 == ano2:\n",
        "  if mes1 > mes2:\n",
        "    maior = 'primeira'\n",
        "\n",
        "  elif mes1 == mes2:\n",
        "    if dia1 > dia2:\n",
        "      maior = 'primeira'\n",
        "    elif dia1 == dia2:\n",
        "      maior = 's duas'\n",
        "    else:\n",
        "      maior = 'segunda'\n",
        "\n",
        "  else:\n",
        "    maior = 'segunda'\n",
        "\n",
        "else:\n",
        "  maior = 'segunda'\n",
        "\n",
        "print('A maior data é a',maior)"
      ],
      "metadata": {
        "colab": {
          "base_uri": "https://localhost:8080/"
        },
        "id": "7yovSb-ziVF7",
        "outputId": "29a8a724-89ea-47a7-e2ce-56a304748014"
      },
      "execution_count": null,
      "outputs": [
        {
          "output_type": "stream",
          "name": "stdout",
          "text": [
            "Digite o dia da primeira data: 24\n",
            "Digite o mês da primeira data: 12\n",
            "Digite o ano da primeira data: 2004\n",
            "Digite o dia da segunda data: 24\n",
            "Digite o mês da segunda data: 12\n",
            "Digite o ano da segunda data: 2004\n",
            "A maior data é a s duas\n"
          ]
        }
      ]
    },
    {
      "cell_type": "markdown",
      "source": [
        "11. Dados 3 valores x, y e z, verifique se eles podem ser os comprimentos dos lados de\n",
        "um triângulo e, se forem, verifique se é um triângulo equilátero, isósceles ou\n",
        "escaleno. Se eles não formarem um triângulo, escreve uma mensagem.\n",
        "Considere:\n",
        "• O comprimento de cada lado de um triângulo é menor que a soma dos outros\n",
        "2 lados;\n",
        "• Equilátero: triângulo que tem os 3 lados iguais;\n",
        "• Isósceles: triângulo que tem o comprimento de 2 lados iguais;\n",
        "• Escaleno: triângulo que possui os 3 lados diferentes;"
      ],
      "metadata": {
        "id": "l9R_l9VDiVMF"
      }
    },
    {
      "cell_type": "code",
      "source": [],
      "metadata": {
        "id": "T-qR23t3iVTa"
      },
      "execution_count": null,
      "outputs": []
    },
    {
      "cell_type": "markdown",
      "source": [
        "12. A cia aérea Verde oferece uma viagem de Rio Preto a Maceió por R$678.47 caso o\n",
        "passageiro vá na classe econômica. Caso escolha a primeira classe, há um acréscimo\n",
        "de 42% ao preço. E caso escolha a classe executiva, há o acréscimo de 82,57% ao\n",
        "preço básico da passagem. Escreva um programa que receba o número de passagens\n",
        "e a classe escolhida e mostre o valor final da viagem."
      ],
      "metadata": {
        "id": "XW9O648qiVZq"
      }
    },
    {
      "cell_type": "code",
      "source": [],
      "metadata": {
        "id": "Jz0lX2eEiVgr"
      },
      "execution_count": null,
      "outputs": []
    },
    {
      "cell_type": "markdown",
      "source": [
        "13. Faça um programa que receba a renda familiar mensal e o valor do salário mínimo.\n",
        "A partir disso, deve-se classificar a classe social a partir da quantidade de salários\n",
        "mínimos recebidos:\n",
        "\n",
        "\n",
        "\n",
        "*   Classe | Salários mínimos\n",
        "\n",
        "*   A      | Acima de 20\n",
        "\n",
        "*   B      | 10 a 20\n",
        "*   C | 4 a 10\n",
        "\n",
        "\n",
        "*   D | 2 a 4\n",
        "\n",
        "\n",
        "*   E | Até 2\n"
      ],
      "metadata": {
        "id": "LXPVtQrmiVnc"
      }
    },
    {
      "cell_type": "code",
      "source": [],
      "metadata": {
        "id": "ois6CoHMiVuc"
      },
      "execution_count": null,
      "outputs": []
    },
    {
      "cell_type": "markdown",
      "source": [
        "14. Faça um programa que receba o preço de um produto, calcule e mostre, de acordo\n",
        "com as tabelas, o novo preço e classificação"
      ],
      "metadata": {
        "id": "4q3rak7jiV1C"
      }
    },
    {
      "cell_type": "code",
      "source": [],
      "metadata": {
        "id": "juLdVIQNiV7i"
      },
      "execution_count": null,
      "outputs": []
    },
    {
      "cell_type": "markdown",
      "source": [
        "15. Escreva um programa que receba a temperatura em oC e exiba uma mensagem de\n",
        "acordo com a tabela:"
      ],
      "metadata": {
        "id": "I6T7drdfiWB7"
      }
    },
    {
      "cell_type": "code",
      "source": [],
      "metadata": {
        "id": "ALt7xSpOiWJr"
      },
      "execution_count": null,
      "outputs": []
    }
  ]
}