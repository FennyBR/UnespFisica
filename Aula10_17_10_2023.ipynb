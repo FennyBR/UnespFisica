{
  "nbformat": 4,
  "nbformat_minor": 0,
  "metadata": {
    "colab": {
      "provenance": [],
      "authorship_tag": "ABX9TyPcFFDCpEuV1WEF928icJL0",
      "include_colab_link": true
    },
    "kernelspec": {
      "name": "python3",
      "display_name": "Python 3"
    },
    "language_info": {
      "name": "python"
    }
  },
  "cells": [
    {
      "cell_type": "markdown",
      "metadata": {
        "id": "view-in-github",
        "colab_type": "text"
      },
      "source": [
        "<a href=\"https://colab.research.google.com/github/FennyBR/UnespFisica/blob/main/Aula10_17_10_2023.ipynb\" target=\"_parent\"><img src=\"https://colab.research.google.com/assets/colab-badge.svg\" alt=\"Open In Colab\"/></a>"
      ]
    },
    {
      "cell_type": "markdown",
      "source": [
        "# **Aula 10 - 17/10/2023**\n",
        "Matrizes e Randomização"
      ],
      "metadata": {
        "id": "BdM6g18IZNvr"
      }
    },
    {
      "cell_type": "markdown",
      "source": [
        "## Matrizes"
      ],
      "metadata": {
        "id": "vI_vdrXe1BpN"
      }
    },
    {
      "cell_type": "code",
      "execution_count": null,
      "metadata": {
        "id": "PHqW3mLeZNOk"
      },
      "outputs": [],
      "source": [
        "import numpy as np\n",
        "\n",
        "vetor = np.array([1,6,-7,2])\n",
        "print(vetor)\n",
        "print('Segundo valor do vetor:', vetor[1])\n",
        "print('Último valor do vetor:', vetor[3])\n",
        "print('Último valor do vetor:', vetor[len(vetor)-1])\n"
      ]
    },
    {
      "cell_type": "code",
      "source": [
        "# Informações de matrizes\n",
        "import numpy as np\n",
        "\n",
        "matriz = np.array([[1,3,5,7],[9.7,8,6.74,1],[9,8,6,1]])\n",
        "# Mostra todos os elementos\n",
        "print(matriz)\n",
        "print('Quantidade de elementos:', matriz.size)\n",
        "print('Número de dimensões:', matriz.ndim)\n",
        "print('Quantidade de linhas e colunas:', matriz.shape)\n",
        "print('Número de linhas:', matriz.shape[0])\n",
        "print('Número de colunas:', matriz.shape[1])\n"
      ],
      "metadata": {
        "id": "rN6ZoKw6c8xi"
      },
      "execution_count": null,
      "outputs": []
    },
    {
      "cell_type": "code",
      "source": [
        "# Acessando valores\n",
        "import numpy as np\n",
        "\n",
        "matriz = np.array([[-1.24,3.4,5],\n",
        "                   [9.7,8,6.74]])\n",
        "\n",
        "print(matriz)\n",
        "print('Valor da linha 0, coluna 1: ', matriz[0][1]) # jeito geral\n",
        "print('Valor da linha 0, coluna 1: ', matriz[0,1]) # jeito python\n"
      ],
      "metadata": {
        "id": "ECQpr4UjenY8"
      },
      "execution_count": null,
      "outputs": []
    },
    {
      "cell_type": "code",
      "source": [
        "# Inicialização de matriz\n",
        "import numpy as np\n",
        "\n",
        "matriz_zero = np.zeros([4,4])\n",
        "matriz_uns = np.ones([5,4])\n",
        "\n",
        "print(matriz_zero)\n",
        "print()\n",
        "print(matriz_uns)\n",
        "print()\n",
        "\n",
        "# Definindo matrizes de inteiros\n",
        "zero_inteiro = np.zeros([4,4], dtype=int)\n",
        "print(zero_inteiro)\n",
        "print()\n",
        "\n",
        "# Definindo matrizes de string\n",
        "matriz_string = np.array([['x','x'],['o','x']], dtype=str)\n",
        "print(matriz_string)\n"
      ],
      "metadata": {
        "id": "6SnmV0cufgW1"
      },
      "execution_count": null,
      "outputs": []
    },
    {
      "cell_type": "code",
      "source": [
        "# Preenchendo um vetor\n",
        "tam = int(input('Digite o tamanho do vetor:'))\n",
        "vetor = np.zeros(tam) # inicializando o vetor com zeros\n",
        "print(vetor)\n",
        "\n",
        "# Preenchendo os valores\n",
        "for i in range(tam):\n",
        "  print('Digite o valor da posição ', i + 1,':')\n",
        "  vetor[i] = float(input())\n",
        "\n",
        "print(vetor)\n"
      ],
      "metadata": {
        "id": "YGVzD-q2ifh-"
      },
      "execution_count": null,
      "outputs": []
    },
    {
      "cell_type": "code",
      "source": [
        "# Preenchendo uma matriz\n",
        "import numpy as np\n",
        "\n",
        "matriz = np.zeros([2,3]) # matriz de 2 linhas e 3 colunas\n",
        "\n",
        "for i in range(2):\n",
        "  for j in range(3):\n",
        "    print('Digite o valor da linha ', i+1, 'coluna ',j+1,':')\n",
        "    matriz[i,j] = float(input())\n",
        "    print(matriz)\n",
        "\n",
        "print('Matriz preenchida:\\n',matriz)\n"
      ],
      "metadata": {
        "id": "LRBknRG6k2tt"
      },
      "execution_count": null,
      "outputs": []
    },
    {
      "cell_type": "code",
      "source": [
        "# Criando valores em intervalos\n",
        "import numpy as np\n",
        "vetor1 = np.arange(4) # 0 a 3\n",
        "vetor2 = np.arange(2,7) # 2 a 6\n",
        "vetor3 = np.arange(0,8,2) # 0 a 6 de 2 em 2\n",
        "vetor4 = np.arange(0,3,0.5) # 0 a 2.5 de 0.5 em 0.5\n",
        "\n",
        "print(vetor1)\n",
        "print(vetor2)\n",
        "print(vetor3)\n",
        "print(vetor4)\n",
        "\n",
        "# Maneira de preencher vetor 1 sem arange\n",
        "vetor1_sem_arange = np.zeros(4)\n",
        "for i in range(4):\n",
        "  vetor1_sem_arange[i] = i\n",
        "print(vetor1_sem_arange)\n"
      ],
      "metadata": {
        "id": "LHwefPIRmyv1"
      },
      "execution_count": null,
      "outputs": []
    },
    {
      "cell_type": "code",
      "source": [
        "# Acesso a elementos de um array\n",
        "import numpy as np\n",
        "\n",
        "a = np.array([25,8,35,-1,12])\n",
        "\n",
        "print('Primeiro elemento:', a[0])\n",
        "# duas maneiras de acessar o ultimo elemento:\n",
        "print('Ultimo elemento:', a[-1], a[len(a)-1])\n",
        "print('Terceiro elemento na ordem inversa: ', a[-3])\n",
        "print('4º indice: ', a[3])\n",
        "print('1 até 4 (4 nao incluso):', a[1:4])\n",
        "print('Posição 0 até 3 (3 nao incluso):', a[:3])\n",
        "print('Posição 3 até o fim:', a[3:])\n"
      ],
      "metadata": {
        "id": "ijIg5_QPvOaP"
      },
      "execution_count": null,
      "outputs": []
    },
    {
      "cell_type": "code",
      "source": [
        "# Acessando valores de matrizes\n",
        "import numpy as np\n",
        "\n",
        "matriz_a = np.array([[1,23, 9],\n",
        "                     [9,5,4]])\n",
        "print(matriz_a)\n",
        "print('Linha 1, coluna 0:', matriz_a[1,0])\n",
        "print('Todos elementos da coluna 2: ', matriz_a[:,2])\n",
        "print('Todos elementos da linha 0:', matriz_a[0,:])\n",
        "print('Matriz de todas linhas, coluna a partir de 1:')\n",
        "print(matriz_a[:,1:])\n"
      ],
      "metadata": {
        "id": "KRhfQkP5vR8u"
      },
      "execution_count": null,
      "outputs": []
    },
    {
      "cell_type": "code",
      "source": [
        "# Acrescentando elementos ao final do vetor\n",
        "import numpy as np\n",
        "\n",
        "vetor = np.arange(5)\n",
        "print(vetor)\n",
        "\n",
        "novo_vetor = np.append(vetor, [99, 100])\n",
        "print(novo_vetor)\n"
      ],
      "metadata": {
        "id": "NfIhVSCPxT_P"
      },
      "execution_count": null,
      "outputs": []
    },
    {
      "cell_type": "code",
      "source": [
        "# Ccrescentando elementos em posição especifica\n",
        "import numpy as np\n",
        "\n",
        "vetor = np.arange(5)\n",
        "print(vetor)\n",
        "\n",
        "novo_vetor = np.insert(vetor,3,[99])\n",
        "print(novo_vetor)"
      ],
      "metadata": {
        "id": "PRZeul89xb-9"
      },
      "execution_count": null,
      "outputs": []
    },
    {
      "cell_type": "code",
      "source": [
        "# Cálculos Aritméticos\n",
        "import numpy as np\n",
        "\n",
        "x = np.arange(0,11)\n",
        "y1 = x**2\n",
        "y2 = 2**x\n",
        "y3 = 2*x + 5\n",
        "\n",
        "print('x =', x)\n",
        "print('y1 = x ²:', y1)\n",
        "print('y2 = 2 ^ x:', y2)\n",
        "print('y3 = 2x + 5:', y3)\n"
      ],
      "metadata": {
        "id": "eU2SiKZ_xUBu"
      },
      "execution_count": null,
      "outputs": []
    },
    {
      "cell_type": "code",
      "source": [
        "#Estatísticas\n",
        "import numpy as np\n",
        "\n",
        "vetor = np.arange(0,11)\n",
        "matriz = np.array([[1,2,3],\n",
        "                   [5,6,7]])\n",
        "\n",
        "print('Média vetor:', np.mean(vetor))\n",
        "print('Média matriz:', np.mean(matriz))\n",
        "\n",
        "print('Desvio vetor:', np.std(vetor))\n",
        "print('Desvio matriz:', np.std(matriz))\n",
        "\n",
        "print('Somatório vetor:', np.sum(vetor))\n",
        "print('Somatório matriz:', np.sum(matriz))\n",
        "\n",
        "print('Mínimo vetor:', np.min(vetor))\n",
        "print('Mínimo matriz:', np.min(matriz))\n",
        "\n",
        "print('Máximo vetor:', np.max(vetor))\n",
        "print('Máximo matriz:', np.max(matriz))\n"
      ],
      "metadata": {
        "id": "zhJ2jKiHxhQE"
      },
      "execution_count": null,
      "outputs": []
    },
    {
      "cell_type": "code",
      "source": [
        "# Operações vetoriais\n",
        "import numpy as np\n",
        "\n",
        "v1 = np.array([1,2,1])\n",
        "v2 = np.array([3,4,5])\n",
        "\n",
        "print('Produto interno: ', np.inner(v1,v2))\n",
        "# produto vetorial: apenas vetores de dimensao 2 e 3\n",
        "print('Produto vetorial: ', np.cross(v1,v2))\n"
      ],
      "metadata": {
        "id": "t9eSTL8q0tiH"
      },
      "execution_count": null,
      "outputs": []
    },
    {
      "cell_type": "code",
      "source": [
        "# Multiplicaçao de matrizes\n",
        "import numpy as np\n",
        "\n",
        "m1 = np.array([[2,3],\n",
        "               [0,1],\n",
        "               [-1,4]])\n",
        "m2 = np.array([[1,2,3],\n",
        "               [-2,0,4]])\n",
        "\n",
        "print('Multiplicação:\\n', np.matmul(m1,m2))\n"
      ],
      "metadata": {
        "id": "sa2npglR0zM3"
      },
      "execution_count": null,
      "outputs": []
    },
    {
      "cell_type": "markdown",
      "source": [
        "## Números Aleatórios"
      ],
      "metadata": {
        "id": "-UkVwwsM1F9t"
      }
    },
    {
      "cell_type": "code",
      "source": [
        "import random\n",
        "# 1 dado\n",
        "dado = random.randint(1,6)\n",
        "print('Dado:', dado)\n"
      ],
      "metadata": {
        "id": "t75lV2Gr1Mn2"
      },
      "execution_count": null,
      "outputs": []
    },
    {
      "cell_type": "code",
      "source": [
        "import random\n",
        "# 2 dados\n",
        "dado1 = random.randint(1,6) # 1 até 6, 6 incluso\n",
        "dado2 = random.randint(1,6)\n",
        "print('Dado 1:', dado1, 'Dado 2: ', dado2)\n"
      ],
      "metadata": {
        "id": "3lhIOX6X1lYv"
      },
      "execution_count": null,
      "outputs": []
    },
    {
      "cell_type": "code",
      "source": [
        "import random\n",
        "# 2 dados\n",
        "#sortear 10x\n",
        "for i in range(10):\n",
        "  dado1 = random.randint(1,6) # 1 até 6, 6 incluso\n",
        "  dado2 = random.randint(1,6)\n",
        "  print('Sorteio nº',i+1)\n",
        "  print('Dado 1:', dado1, 'Dado 2: ', dado2)\n",
        ""
      ],
      "metadata": {
        "id": "Juwq1_5j1pb3"
      },
      "execution_count": null,
      "outputs": []
    },
    {
      "cell_type": "code",
      "source": [
        "import random\n",
        "\n",
        "for i in range(6):\n",
        "  n = random.randint(1,60)\n",
        "  print(n)\n",
        ""
      ],
      "metadata": {
        "id": "Bfjl_8Iq1quA"
      },
      "execution_count": null,
      "outputs": []
    }
  ]
}