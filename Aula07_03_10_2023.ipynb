{
  "nbformat": 4,
  "nbformat_minor": 0,
  "metadata": {
    "colab": {
      "provenance": [],
      "toc_visible": true,
      "authorship_tag": "ABX9TyP5GyR5BxQXBhu/YJ1Rmh17",
      "include_colab_link": true
    },
    "kernelspec": {
      "name": "python3",
      "display_name": "Python 3"
    },
    "language_info": {
      "name": "python"
    }
  },
  "cells": [
    {
      "cell_type": "markdown",
      "metadata": {
        "id": "view-in-github",
        "colab_type": "text"
      },
      "source": [
        "<a href=\"https://colab.research.google.com/github/FennyBR/UnespFisica/blob/main/Aula07_03_10_2023.ipynb\" target=\"_parent\"><img src=\"https://colab.research.google.com/assets/colab-badge.svg\" alt=\"Open In Colab\"/></a>"
      ]
    },
    {
      "cell_type": "markdown",
      "source": [
        "# **Aula 07 - 03/10/2023**\n",
        "Exercícios 0/14"
      ],
      "metadata": {
        "id": "N6WNPbIwPNV_"
      }
    },
    {
      "cell_type": "markdown",
      "source": [
        "1. Faça um programa que calcule e escreva uma tabela de metros (1 a 25m) para pés e\n",
        "polegadas. (1m = 3,28 pés; 1m = 39,37 polegadas)."
      ],
      "metadata": {
        "id": "AP2C0BvGQxtu"
      }
    },
    {
      "cell_type": "code",
      "source": [
        "print('Metro \\tPé \\tPolegada')\n",
        "for m in range(1,26,1):\n",
        "  pe = m* 3.28\n",
        "  pol = m* 39.37\n",
        "  print(\"{} \\t{} \\t{}\". format(m, round(pe,3), round(pol,3)))\n",
        ""
      ],
      "metadata": {
        "colab": {
          "base_uri": "https://localhost:8080/"
        },
        "id": "grIAP10jQx-9",
        "outputId": "557a589f-c95a-4538-bb26-0639025a9e43"
      },
      "execution_count": 9,
      "outputs": [
        {
          "output_type": "stream",
          "name": "stdout",
          "text": [
            "Metro \tPé \tPolegada\n",
            "1 \t3.28 \t39.37\n",
            "2 \t6.56 \t78.74\n",
            "3 \t9.84 \t118.11\n",
            "4 \t13.12 \t157.48\n",
            "5 \t16.4 \t196.85\n",
            "6 \t19.68 \t236.22\n",
            "7 \t22.96 \t275.59\n",
            "8 \t26.24 \t314.96\n",
            "9 \t29.52 \t354.33\n",
            "10 \t32.8 \t393.7\n",
            "11 \t36.08 \t433.07\n",
            "12 \t39.36 \t472.44\n",
            "13 \t42.64 \t511.81\n",
            "14 \t45.92 \t551.18\n",
            "15 \t49.2 \t590.55\n",
            "16 \t52.48 \t629.92\n",
            "17 \t55.76 \t669.29\n",
            "18 \t59.04 \t708.66\n",
            "19 \t62.32 \t748.03\n",
            "20 \t65.6 \t787.4\n",
            "21 \t68.88 \t826.77\n",
            "22 \t72.16 \t866.14\n",
            "23 \t75.44 \t905.51\n",
            "24 \t78.72 \t944.88\n",
            "25 \t82.0 \t984.25\n"
          ]
        }
      ]
    },
    {
      "cell_type": "markdown",
      "source": [
        "2. Faça um programa que calcule e escreva uma tabela de conversão de oC para oF e K.\n",
        "Considere o intervalo de oC de -100 a 100 incrementando de 10 em 10. Considere: F = C * 9/5 + 32 e K = 273,15 + C."
      ],
      "metadata": {
        "id": "n4BuIRZEQyF9"
      }
    },
    {
      "cell_type": "code",
      "source": [
        "print('Celsius \\tFahrenheit \\tKelvin')\n",
        "for c in range(-100,101,10):\n",
        "  f = c* 9/5 + 32\n",
        "  k = 273.15 + c\n",
        "  print(\"{} \\t\\t{} \\t\\t{}\". format(c, round(f,2), round(k,2)))"
      ],
      "metadata": {
        "colab": {
          "base_uri": "https://localhost:8080/"
        },
        "id": "ufzDhv27QyMV",
        "outputId": "10ff2121-b5b8-4b56-a7b7-a52937d09124"
      },
      "execution_count": 12,
      "outputs": [
        {
          "output_type": "stream",
          "name": "stdout",
          "text": [
            "Celsius \tFahrenheit \tKelvin\n",
            "-100 \t\t-148.0 \t\t173.15\n",
            "-90 \t\t-130.0 \t\t183.15\n",
            "-80 \t\t-112.0 \t\t193.15\n",
            "-70 \t\t-94.0 \t\t203.15\n",
            "-60 \t\t-76.0 \t\t213.15\n",
            "-50 \t\t-58.0 \t\t223.15\n",
            "-40 \t\t-40.0 \t\t233.15\n",
            "-30 \t\t-22.0 \t\t243.15\n",
            "-20 \t\t-4.0 \t\t253.15\n",
            "-10 \t\t14.0 \t\t263.15\n",
            "0 \t\t32.0 \t\t273.15\n",
            "10 \t\t50.0 \t\t283.15\n",
            "20 \t\t68.0 \t\t293.15\n",
            "30 \t\t86.0 \t\t303.15\n",
            "40 \t\t104.0 \t\t313.15\n",
            "50 \t\t122.0 \t\t323.15\n",
            "60 \t\t140.0 \t\t333.15\n",
            "70 \t\t158.0 \t\t343.15\n",
            "80 \t\t176.0 \t\t353.15\n",
            "90 \t\t194.0 \t\t363.15\n",
            "100 \t\t212.0 \t\t373.15\n"
          ]
        }
      ]
    },
    {
      "cell_type": "markdown",
      "source": [
        "3. Faça um programa que receba dois números. Calcule e mostre:\n",
        "\n",
        "\n",
        "\n",
        "*   A soma dos números pares desse intervalo de números, incluindo os números\n",
        "digitados.\n",
        "*   A multiplicação dos números ímpares desse intervalo, considerando os números\n",
        "digitados.\n"
      ],
      "metadata": {
        "id": "eZ2LFEkHQyvN"
      }
    },
    {
      "cell_type": "code",
      "source": [
        "n1 = n2 = soma = 0\n",
        "mult = 1\n",
        "\n",
        "n1 = int(input('Digite um número: '))\n",
        "n2 = int(input('Digite um número maior que o anterior: '))\n",
        "\n",
        "for n in range(n1,n2+1,1):\n",
        "  if n % 2 == 0:\n",
        "    soma = soma + n\n",
        "  else:\n",
        "    mult = mult * n\n",
        "\n",
        "print('Soma dos pares:', soma)\n",
        "print('Multiplicação dos ímpares:', mult)\n"
      ],
      "metadata": {
        "colab": {
          "base_uri": "https://localhost:8080/"
        },
        "id": "eZ3E1cXjQy4l",
        "outputId": "9f285bea-1490-4df1-adfc-46a7fa5532a5"
      },
      "execution_count": 17,
      "outputs": [
        {
          "output_type": "stream",
          "name": "stdout",
          "text": [
            "Digite um número: 8\n",
            "Digite um número maior que o anterior: 999\n",
            "Soma dos pares: 249488\n",
            "Multiplicação dos ímpares: 959507902511912895276561118021938459526889700795718244809655023936522361246332428821068094501799204897375684345734322083902990149904475291454131657685986117807756549555002068401010834556447859561301874829180263598926061431533684638171325889372156390228330017716951089296695357787388265149843564055228594891471341828407583858686997227024201400069831205971752540857841097328886552882278622292656601421138277976180566946999834801076253487803388858232756300596672489285431760656938193231812074606021104099359105296295900794978840266453195490523227825373645729482910412765849221801399363726196243602084731426507020542838034401655653023314118023105804228689051304675391136794434052644156467428832313099179248803931260399590622958906527647469733359025058608252330599583284478160333943662024673133551663780986961426285246689893028221701859970310671364724797897495685093147281345586525523573073146393044766847286887163633026910155274073375161893883739304848030195075505050019369071011168501609421017693926032203686995195278393019428305828250759094049387232119707106946853514578044579128612055092117302719742527755504817682447092065152216944628133630850907208540194379552891400473480082510519823550866443771454885104571893762129740263459691741160088353235213531888803117908537387847900390625\n"
          ]
        }
      ]
    },
    {
      "cell_type": "markdown",
      "source": [
        "4. Faça um programa que receba 8 números que calcule e mostre a quantidade de números\n",
        "entre 30 e 90."
      ],
      "metadata": {
        "id": "11QgrvRIQy_l"
      }
    },
    {
      "cell_type": "code",
      "source": [],
      "metadata": {
        "id": "uZskXifhQzHN"
      },
      "execution_count": null,
      "outputs": []
    },
    {
      "cell_type": "markdown",
      "source": [
        "5. Faça um programa que receba os seguintes dados de 9 veículos: tipo (moto, carro ou\n",
        "caminhão) e o valor de venda. Calcule e mostre:\n",
        "\n",
        "\n",
        "*   Valor total vendido;\n",
        "\n",
        "*   Valor vendido por cada tipo;\n",
        "*   Média de valor dos carros vendidos.\n"
      ],
      "metadata": {
        "id": "tdxojnvFQzOd"
      }
    },
    {
      "cell_type": "code",
      "source": [],
      "metadata": {
        "id": "PABlErdSQzV1"
      },
      "execution_count": null,
      "outputs": []
    },
    {
      "cell_type": "markdown",
      "source": [
        "6. Faça um programa que receba a idade e o peso de 5 pessoas. Calcule e mostre:\n",
        "• A quantidade de pessoas com mais de 90kg;\n",
        "• A média da idade das 5 pessoas."
      ],
      "metadata": {
        "id": "2X_1HSb-QzeV"
      }
    },
    {
      "cell_type": "code",
      "source": [],
      "metadata": {
        "id": "sn5ZQKhiQzmd"
      },
      "execution_count": null,
      "outputs": []
    },
    {
      "cell_type": "markdown",
      "source": [
        "7. Uma loja utiliza o código V para uma transação à vista e P para transação a prazo. Faça\n",
        "um programa que receba o código e o valor de 7 transações. Calcule e mostre:\n",
        "• O valor total das compras à vista;\n",
        "• O valor total das compras a prazo;\n",
        "• O valor total das compras efetuadas."
      ],
      "metadata": {
        "id": "DHYbfa7sQztt"
      }
    },
    {
      "cell_type": "code",
      "source": [],
      "metadata": {
        "id": "yr9nNglDQz0l"
      },
      "execution_count": null,
      "outputs": []
    },
    {
      "cell_type": "markdown",
      "source": [
        "8. Uma empresa fez uma pesquisa de mercado para saber se gostaram ou não de um novo\n",
        "produto que foi lançado no mercado. Na entrevista foi perguntado o sexo do entrevistado\n",
        "(M ou F) e sua resposta (S – Sim ou N – Não). Sabe-se que foram entrevistadas dez\n",
        "pessoas. Faça um programa que calcule e mostre:\n",
        "• O número de pessoas que respondeu sim;\n",
        "• O número de pessoas que respondeu não;\n",
        "• O número de mulheres que respondeu sim;\n",
        "• A porcentagem de homens que respondeu não entre todos os homens analisados."
      ],
      "metadata": {
        "id": "r1tkYLToQz8N"
      }
    },
    {
      "cell_type": "code",
      "source": [],
      "metadata": {
        "id": "1l6h5q-AQ0DN"
      },
      "execution_count": null,
      "outputs": []
    },
    {
      "cell_type": "markdown",
      "source": [
        "9. Foi feito uma pesquisa em cinco cidades do Brasil para coletar dados sobre acidentes de\n",
        "trânsito. Foram obtidos os dados de nome da cidade, número de veículos de passeio,\n",
        "número de acidentes de trânsito com vítimas.\n",
        "Deseja-se saber:\n",
        "• Qual o maior e o menor índice de acidades de trânsito e qual cidades pertencem;\n",
        "• Qual é a média de veículos nas cinco cidades juntas;\n",
        "• Qual a média de acidentes de trânsito nas cidades com menos de 15 mil veículos\n",
        "de passeio."
      ],
      "metadata": {
        "id": "d6KeNVqPQ0MF"
      }
    },
    {
      "cell_type": "code",
      "source": [],
      "metadata": {
        "id": "X8g3Y9vxQ0TG"
      },
      "execution_count": null,
      "outputs": []
    },
    {
      "cell_type": "markdown",
      "source": [],
      "metadata": {
        "id": "UFp3KJ0iQ0Z9"
      }
    },
    {
      "cell_type": "code",
      "source": [],
      "metadata": {
        "id": "uynAMoM8Q0hN"
      },
      "execution_count": null,
      "outputs": []
    },
    {
      "cell_type": "markdown",
      "source": [],
      "metadata": {
        "id": "KN5H1ViwQ0oF"
      }
    },
    {
      "cell_type": "code",
      "source": [],
      "metadata": {
        "id": "nzgVaVKIQ0wd"
      },
      "execution_count": null,
      "outputs": []
    },
    {
      "cell_type": "markdown",
      "source": [],
      "metadata": {
        "id": "zxnFhAtOQ04n"
      }
    },
    {
      "cell_type": "code",
      "source": [],
      "metadata": {
        "id": "uufywRgRQ1AV"
      },
      "execution_count": null,
      "outputs": []
    },
    {
      "cell_type": "markdown",
      "source": [],
      "metadata": {
        "id": "mwy8JeBDQ1G1"
      }
    },
    {
      "cell_type": "code",
      "source": [],
      "metadata": {
        "id": "LSLC9g2XQ1OO"
      },
      "execution_count": null,
      "outputs": []
    },
    {
      "cell_type": "markdown",
      "source": [
        "14. Faça um programa de gerenciamento dos vendedores da Loja Marilsa. O programa deve\n",
        "considerar se o vendedor é junior (J) ou sênior (S) e valor vendido. Calcule e mostre:\n",
        "* O valor médio de venda dos vendedores junior;\n",
        "* A soma de vendas dos vendedores sênior;\n",
        "* O valor máximo e valor mínimo vendido.\n",
        "* Finalize o programa quando o usuário digitar F (finalizar)\n"
      ],
      "metadata": {
        "id": "Js0OFt7eQ1U0"
      }
    },
    {
      "cell_type": "code",
      "source": [
        "op = cod = soma_J = venda_J = soma_S = venda_S = cont = maximo = 0\n",
        "minimo = 99999999\n",
        "\n",
        "while cod != 'F':\n",
        "  cod = input('Digite o código: \\nJ - Junior \\nS - Sênior \\nF - Finalizar \\n')\n",
        "\n",
        "  if cod == 'J':\n",
        "    venda_J = float(input('Insira o valor de venda do vendedor: '))\n",
        "    cont = cont + 1\n",
        "    soma_J = soma_J + venda_J\n",
        "\n",
        "  elif cod == 'S':\n",
        "    venda_S = float(input('Insira o valor de venda do vendedor: '))\n",
        "    soma_S = soma_S + venda_S\n",
        "\n",
        "\n",
        "  if maximo < venda_S:\n",
        "    maximo = venda_S\n",
        "  elif maximo < venda_J:\n",
        "    maximo = venda_J\n",
        "  elif minimo > venda_S:\n",
        "    minimo = venda_S\n",
        "  elif minimo > venda_J:\n",
        "    minimo = venda_J\n",
        "\n",
        "\n",
        "media = soma_J / cont\n",
        "\n",
        "print('O valor médio de venda dos vendedores junior:', round(media,2))\n",
        "print('A soma de vendas dos vendedores sênior:', round(soma_S,2))\n",
        "print('O valor máximo vendido:', maximo)\n",
        "print('O valor mínimo vendido:', minimo)\n"
      ],
      "metadata": {
        "colab": {
          "base_uri": "https://localhost:8080/"
        },
        "id": "vi0Hpu1wQ1bO",
        "outputId": "e3c23584-69e6-4e0d-bdb0-9abd174353c2"
      },
      "execution_count": 22,
      "outputs": [
        {
          "output_type": "stream",
          "name": "stdout",
          "text": [
            "Digite o código: \n",
            "J - Junior \n",
            "S - Sênior \n",
            "F - Finalizar \n",
            "J\n",
            "Insira o valor de venda do vendedor: 15246\n",
            "Digite o código: \n",
            "J - Junior \n",
            "S - Sênior \n",
            "F - Finalizar \n",
            "S\n",
            "Insira o valor de venda do vendedor: 4512365\n",
            "Digite o código: \n",
            "J - Junior \n",
            "S - Sênior \n",
            "F - Finalizar \n",
            "S\n",
            "Insira o valor de venda do vendedor: 896\n",
            "Digite o código: \n",
            "J - Junior \n",
            "S - Sênior \n",
            "F - Finalizar \n",
            "J\n",
            "Insira o valor de venda do vendedor: 5555\n",
            "Digite o código: \n",
            "J - Junior \n",
            "S - Sênior \n",
            "F - Finalizar \n",
            "F\n",
            "O valor médio de venda dos vendedores junior: 10400.5\n",
            "A soma de vendas dos vendedores sênior: 4513261.0\n",
            "O valor máximo vendido: 4512365.0\n",
            "O valor mínimo vendido: 896.0\n"
          ]
        }
      ]
    }
  ]
}