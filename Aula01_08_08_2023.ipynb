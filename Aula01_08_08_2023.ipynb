{
  "nbformat": 4,
  "nbformat_minor": 0,
  "metadata": {
    "colab": {
      "provenance": [],
      "authorship_tag": "ABX9TyMdOfbpde7762KESUKXDUi7",
      "include_colab_link": true
    },
    "kernelspec": {
      "name": "python3",
      "display_name": "Python 3"
    },
    "language_info": {
      "name": "python"
    }
  },
  "cells": [
    {
      "cell_type": "markdown",
      "metadata": {
        "id": "view-in-github",
        "colab_type": "text"
      },
      "source": [
        "<a href=\"https://colab.research.google.com/github/FennyBR/OlaMundo/blob/main/Aula01_08_08_2023.ipynb\" target=\"_parent\"><img src=\"https://colab.research.google.com/assets/colab-badge.svg\" alt=\"Open In Colab\"/></a>"
      ]
    },
    {
      "cell_type": "markdown",
      "source": [
        "# **Aula 01 - 08/08/2023**\n",
        "Linguagem Computacional: Python"
      ],
      "metadata": {
        "id": "wjE66KEe-0qk"
      }
    },
    {
      "cell_type": "code",
      "source": [
        "# Verificação de Tipagem de dados\n",
        "\n",
        "idade = 18\n",
        "temp = 28.7\n",
        "nome = 'Milena'\n",
        "\n",
        "print(idade)\n",
        "\n",
        "print('Tipo idade:', type(idade))\n",
        "print('Tipo temp (temperatura):', type(temp))\n",
        "print('Tipo nome:', type(nome))\n"
      ],
      "metadata": {
        "id": "3Hp7n4gz6HoL",
        "outputId": "367f0230-d6ba-43a7-c7e0-ac6bc11e38a3",
        "colab": {
          "base_uri": "https://localhost:8080/"
        }
      },
      "execution_count": null,
      "outputs": [
        {
          "output_type": "stream",
          "name": "stdout",
          "text": [
            "18\n",
            "Tipo idade: <class 'int'>\n",
            "Tipo temp (temperatura): <class 'float'>\n",
            "Tipo nome: <class 'str'>\n"
          ]
        }
      ]
    },
    {
      "cell_type": "code",
      "source": [
        "# Redefinição de variável\n",
        "\n",
        "x = 4\n",
        "print(x)\n",
        "\n",
        "x = x + 2\n",
        "print(x)\n"
      ],
      "metadata": {
        "id": "W6UNhEHO_qec",
        "outputId": "700798fc-bf9f-49b0-b0f9-c898995ef2fd",
        "colab": {
          "base_uri": "https://localhost:8080/"
        }
      },
      "execution_count": null,
      "outputs": [
        {
          "output_type": "stream",
          "name": "stdout",
          "text": [
            "4\n",
            "6\n"
          ]
        }
      ]
    },
    {
      "cell_type": "code",
      "source": [
        "# Entrada e saída de dados\n",
        "\n",
        "nome = input('Digite o seu nome: ')\n",
        "print('Seja bem-vindo,', nome, '!')\n",
        "\n",
        "print('Digite a sua cor favorita: ')\n",
        "cor = input()\n",
        "print('A cor', cor, 'é muito bonita!')\n"
      ],
      "metadata": {
        "id": "21z0oaIs_wPM",
        "outputId": "b144ce3c-8e86-4904-f2b1-902af144f286",
        "colab": {
          "base_uri": "https://localhost:8080/",
          "height": 390
        }
      },
      "execution_count": null,
      "outputs": [
        {
          "output_type": "error",
          "ename": "KeyboardInterrupt",
          "evalue": "ignored",
          "traceback": [
            "\u001b[0;31m---------------------------------------------------------------------------\u001b[0m",
            "\u001b[0;31mKeyboardInterrupt\u001b[0m                         Traceback (most recent call last)",
            "\u001b[0;32m<ipython-input-3-787e50770568>\u001b[0m in \u001b[0;36m<cell line: 3>\u001b[0;34m()\u001b[0m\n\u001b[1;32m      1\u001b[0m \u001b[0;31m# Entrada e saída de dados\u001b[0m\u001b[0;34m\u001b[0m\u001b[0;34m\u001b[0m\u001b[0m\n\u001b[1;32m      2\u001b[0m \u001b[0;34m\u001b[0m\u001b[0m\n\u001b[0;32m----> 3\u001b[0;31m \u001b[0mnome\u001b[0m \u001b[0;34m=\u001b[0m \u001b[0minput\u001b[0m\u001b[0;34m(\u001b[0m\u001b[0;34m'Digite o seu nome: '\u001b[0m\u001b[0;34m)\u001b[0m\u001b[0;34m\u001b[0m\u001b[0;34m\u001b[0m\u001b[0m\n\u001b[0m\u001b[1;32m      4\u001b[0m \u001b[0mprint\u001b[0m\u001b[0;34m(\u001b[0m\u001b[0;34m'Seja bem-vindo,'\u001b[0m\u001b[0;34m,\u001b[0m \u001b[0mnome\u001b[0m\u001b[0;34m,\u001b[0m \u001b[0;34m'!'\u001b[0m\u001b[0;34m)\u001b[0m\u001b[0;34m\u001b[0m\u001b[0;34m\u001b[0m\u001b[0m\n\u001b[1;32m      5\u001b[0m \u001b[0;34m\u001b[0m\u001b[0m\n",
            "\u001b[0;32m/usr/local/lib/python3.10/dist-packages/ipykernel/kernelbase.py\u001b[0m in \u001b[0;36mraw_input\u001b[0;34m(self, prompt)\u001b[0m\n\u001b[1;32m    849\u001b[0m                 \u001b[0;34m\"raw_input was called, but this frontend does not support input requests.\"\u001b[0m\u001b[0;34m\u001b[0m\u001b[0;34m\u001b[0m\u001b[0m\n\u001b[1;32m    850\u001b[0m             )\n\u001b[0;32m--> 851\u001b[0;31m         return self._input_request(str(prompt),\n\u001b[0m\u001b[1;32m    852\u001b[0m             \u001b[0mself\u001b[0m\u001b[0;34m.\u001b[0m\u001b[0m_parent_ident\u001b[0m\u001b[0;34m,\u001b[0m\u001b[0;34m\u001b[0m\u001b[0;34m\u001b[0m\u001b[0m\n\u001b[1;32m    853\u001b[0m             \u001b[0mself\u001b[0m\u001b[0;34m.\u001b[0m\u001b[0m_parent_header\u001b[0m\u001b[0;34m,\u001b[0m\u001b[0;34m\u001b[0m\u001b[0;34m\u001b[0m\u001b[0m\n",
            "\u001b[0;32m/usr/local/lib/python3.10/dist-packages/ipykernel/kernelbase.py\u001b[0m in \u001b[0;36m_input_request\u001b[0;34m(self, prompt, ident, parent, password)\u001b[0m\n\u001b[1;32m    893\u001b[0m             \u001b[0;32mexcept\u001b[0m \u001b[0mKeyboardInterrupt\u001b[0m\u001b[0;34m:\u001b[0m\u001b[0;34m\u001b[0m\u001b[0;34m\u001b[0m\u001b[0m\n\u001b[1;32m    894\u001b[0m                 \u001b[0;31m# re-raise KeyboardInterrupt, to truncate traceback\u001b[0m\u001b[0;34m\u001b[0m\u001b[0;34m\u001b[0m\u001b[0m\n\u001b[0;32m--> 895\u001b[0;31m                 \u001b[0;32mraise\u001b[0m \u001b[0mKeyboardInterrupt\u001b[0m\u001b[0;34m(\u001b[0m\u001b[0;34m\"Interrupted by user\"\u001b[0m\u001b[0;34m)\u001b[0m \u001b[0;32mfrom\u001b[0m \u001b[0;32mNone\u001b[0m\u001b[0;34m\u001b[0m\u001b[0;34m\u001b[0m\u001b[0m\n\u001b[0m\u001b[1;32m    896\u001b[0m             \u001b[0;32mexcept\u001b[0m \u001b[0mException\u001b[0m \u001b[0;32mas\u001b[0m \u001b[0me\u001b[0m\u001b[0;34m:\u001b[0m\u001b[0;34m\u001b[0m\u001b[0;34m\u001b[0m\u001b[0m\n\u001b[1;32m    897\u001b[0m                 \u001b[0mself\u001b[0m\u001b[0;34m.\u001b[0m\u001b[0mlog\u001b[0m\u001b[0;34m.\u001b[0m\u001b[0mwarning\u001b[0m\u001b[0;34m(\u001b[0m\u001b[0;34m\"Invalid Message:\"\u001b[0m\u001b[0;34m,\u001b[0m \u001b[0mexc_info\u001b[0m\u001b[0;34m=\u001b[0m\u001b[0;32mTrue\u001b[0m\u001b[0;34m)\u001b[0m\u001b[0;34m\u001b[0m\u001b[0;34m\u001b[0m\u001b[0m\n",
            "\u001b[0;31mKeyboardInterrupt\u001b[0m: Interrupted by user"
          ]
        }
      ]
    },
    {
      "cell_type": "code",
      "source": [
        "# Conversão de dados\n",
        "\n",
        "num_str = input('Digite um número: ')\n",
        "print(type(num_str), num_str)\n",
        "\n",
        "num_int = int(num_str)\n",
        "print(type(num_int), num_int)\n",
        "\n",
        "num_float = float(num_str)\n",
        "print(type(num_float), num_float)\n",
        "\n",
        "# Sem mudança de nomes\n",
        "\n",
        "numero = input('Digite outro número: ')\n",
        "print(type(numero), numero)\n",
        "\n",
        "numero = float(numero)\n",
        "print(type(numero), numero)\n",
        "#\n",
        "#resumido\n",
        "#\n",
        "nota = float(input('Digite a nota: '))\n",
        "print(type(nota), 'Sua nota é:', nota)\n"
      ],
      "metadata": {
        "id": "PauoJX7bA6O1"
      },
      "execution_count": null,
      "outputs": []
    },
    {
      "cell_type": "code",
      "source": [
        "# Operações matemáticas\n",
        "\n",
        "import math\n",
        "\n",
        "num1 = num2 = sub = mult = div = pot = mod = raiz = 0 #reset de variáveis\n",
        "\n",
        "num1 = float(input('Digite um número: '))\n",
        "num2 = float(input('Digite outro número: '))\n",
        "\n",
        "soma = num1 + num2\n",
        "sub = num1 - num2\n",
        "mult = num1 * num2\n",
        "div = num1 / num2\n",
        "div_int = num1 // num2\n",
        "resto = num1 % num2\n",
        "pot1 = num1 ** num2\n",
        "pot2 = math.pow(num1,num2)\n",
        "raiz1 = math.sqrt(num1)\n",
        "raiz2 = math.sqrt(num2)\n",
        "mod1 = abs(num1)\n",
        "mod2 = abs(num2)\n",
        "\n",
        "print('\\tResultados utlizando os número', num1, 'e', num2,\n",
        "      '\\nSoma:', soma,\n",
        "      '\\nSubtração:', sub,\n",
        "      '\\nMultiplicação:', mult,\n",
        "      '\\nDivisão:', div,\n",
        "      '\\nDivisão Inteira:', div_int,\n",
        "      '\\nResto da Divisão:', resto,\n",
        "      '\\nPotência:', pot1,\n",
        "      '\\nPotência com math:', pot2,\n",
        "      '\\nRaiz do primeiro número:', raiz1,\n",
        "      '\\nRaiz do segundo número:', raiz2,\n",
        "      '\\nMódulo do primeiro número:', mod1,\n",
        "      '\\nMódulo do segundo número:', mod2)\n",
        "\n"
      ],
      "metadata": {
        "id": "ONopFVKrEUiU"
      },
      "execution_count": null,
      "outputs": []
    },
    {
      "cell_type": "code",
      "source": [
        "# Operações avançadas (com ângulos)\n",
        "\n",
        "import math\n",
        "\n",
        "theta = float(input('Digite o ângulo: '))\n",
        "theta = math.radians(theta)\n",
        "\n",
        "seno_theta= math.sin(theta)\n",
        "cos_theta= math.cos(theta)\n",
        "tg_theta= math.tan(theta)\n",
        "\n",
        "print('Seno = {} \\nCosseno = {} \\nTangente = {}'\n",
        "      .format(seno_theta, cos_theta, tg_theta))\n",
        "\n",
        "\n",
        "seno = float(input('Digite o seno: '))\n",
        "ang_rad = math.asin(seno) #arcosseno\n",
        "ang_graus = math.degrees(ang_rad)\n",
        "\n",
        "# print('O ângulo do seno é:', ang_graus)\n",
        "print('O ângulo do seno é:', round(ang_graus, 1))\n"
      ],
      "metadata": {
        "id": "vD9hwOpxTVB7"
      },
      "execution_count": null,
      "outputs": []
    },
    {
      "cell_type": "code",
      "source": [
        "# Arredondamento de valores\n",
        "\n",
        "salario = float(input('Insira o salário: '))\n",
        "salario = round(salario, 2)\n",
        "\n",
        "print('R$ ', salario)\n"
      ],
      "metadata": {
        "id": "leEpwW5PZWu1"
      },
      "execution_count": null,
      "outputs": []
    },
    {
      "cell_type": "markdown",
      "source": [
        "# **Exercícios**"
      ],
      "metadata": {
        "id": "MGBUK4IIdD1W"
      }
    },
    {
      "cell_type": "code",
      "execution_count": null,
      "metadata": {
        "colab": {
          "base_uri": "https://localhost:8080/"
        },
        "id": "Ckxs2O-UdDE8",
        "outputId": "3caa1dc3-482c-4399-c8dd-2ce058432e72"
      },
      "outputs": [
        {
          "output_type": "stream",
          "name": "stdout",
          "text": [
            "Digite a primeira nota:1\n",
            "Digite a segunda nota:6\n",
            "Digite a terceira nota:3\n",
            "A média desse aluno é: 3.3\n"
          ]
        }
      ],
      "source": [
        "#1 Calcular a media de 3 notas de um aluno\n",
        "\n",
        "n1 = n2 = n3 = media = 0\n",
        "\n",
        "n1 = float(input('Digite a primeira nota:' ))\n",
        "n2 = float(input('Digite a segunda nota:' ))\n",
        "n3 = float(input('Digite a terceira nota:' ))\n",
        "\n",
        "media = (n1+n2+n3)/3\n",
        "\n",
        "print('A média desse aluno é:', round(media,1))\n"
      ]
    },
    {
      "cell_type": "code",
      "source": [
        "#2 Calcular o salário de um funcionário com 10% de aumento\n",
        "\n",
        "salario = novo_sal = 0\n",
        "\n",
        "salario = float(input('Insira o salário atual do funcionário: '))\n",
        "\n",
        "novo_sal = salario*1.1\n",
        "\n",
        "print('O valor do novo salário é:', round(novo_sal,2))\n"
      ],
      "metadata": {
        "colab": {
          "base_uri": "https://localhost:8080/"
        },
        "id": "KlkKRTXBd-gn",
        "outputId": "0f1c9cda-11a2-4743-ba21-f083b1b2fac5"
      },
      "execution_count": null,
      "outputs": [
        {
          "output_type": "stream",
          "name": "stdout",
          "text": [
            "Insira o salário atual do funcionário: 1000\n",
            "O valor do novo salário é: 1100.0\n"
          ]
        }
      ]
    },
    {
      "cell_type": "code",
      "source": [
        "#3 Somar, subtrair, multiplicar e dividir 2 números\n",
        "\n",
        "n1 = n2 = soma = sub = mult = div = 0 #reset de variáveis\n",
        "\n",
        "n1 = float(input('Digite um número: '))\n",
        "n2 = float(input('Digite mais um número: '))\n",
        "\n",
        "soma = n1 + n2\n",
        "sub = n1 - n2\n",
        "mult = n1 * n2\n",
        "div = n1 / n2\n",
        "\n",
        "print('\\tResultados utlizando os número {} e {}'.format(n1,n2))\n",
        "print('Soma: {} \\nSubtração: {} \\nMultiplicação: {} \\nDivisão: {}'.format(soma, sub, mult, div))\n"
      ],
      "metadata": {
        "colab": {
          "base_uri": "https://localhost:8080/"
        },
        "id": "iZb2MdfzfAW3",
        "outputId": "bcd7336a-c1c3-4a27-ca8e-965cd8f3aeca"
      },
      "execution_count": null,
      "outputs": [
        {
          "output_type": "stream",
          "name": "stdout",
          "text": [
            "Digite um número: 5\n",
            "Digite mais um número: 2\n",
            "\tResultados utlizando os número 5.0 e 2.0\n",
            "Soma: 7.0 \n",
            "Subtração: 3.0 \n",
            "Multiplicação: 10.0 \n",
            "Divisão: 2.5\n"
          ]
        }
      ]
    },
    {
      "cell_type": "code",
      "source": [
        "#4 Valor do lado do quadrado e exibir o perímetro\n",
        "\n",
        "lado = perimetro = 0\n",
        "\n",
        "lado = float(input('Insira o tamanho do lado do quadrado: '))\n",
        "\n",
        "perimetro = lado * 4\n",
        "\n",
        "print('O perímetro do quadrado é:', perimetro)\n"
      ],
      "metadata": {
        "colab": {
          "base_uri": "https://localhost:8080/"
        },
        "id": "WLg7Q7lXf7en",
        "outputId": "daae5d3d-b30d-490a-e8e9-d860b9c0275e"
      },
      "execution_count": null,
      "outputs": [
        {
          "output_type": "stream",
          "name": "stdout",
          "text": [
            "Insira o tamanho do lado do quadrado: 2\n",
            "O perímetro do quadrado é: 8.0\n"
          ]
        }
      ]
    },
    {
      "cell_type": "code",
      "source": [
        "#5 Exiba área do trapézio\n",
        "\n",
        "base_maior = base_menor = altura = area = 0\n",
        "\n",
        "base_maior = float(input('Insira o tamanho da maior base do trapézio: '))\n",
        "base_menor = float(input('Insira a tamanho da menor base do trapézio: '))\n",
        "altura = float(input('Insira a tamanho da altura do trapézio: '))\n",
        "\n",
        "area = (base_maior + base_menor)* altura /2\n",
        "\n",
        "print('A área do trapézio é:', area)\n"
      ],
      "metadata": {
        "colab": {
          "base_uri": "https://localhost:8080/"
        },
        "id": "Lh2r9XzdgmOH",
        "outputId": "cfb64a7e-dc94-49c4-b82f-38423f1b99c6"
      },
      "execution_count": null,
      "outputs": [
        {
          "output_type": "stream",
          "name": "stdout",
          "text": [
            "Insira o tamanho da maior base do trapézio: 4\n",
            "Insira a tamanho da menor base do trapézio: 2\n",
            "Insira a tamanho da altura do trapézio: 5\n",
            "A área do trapézio é: 15.0\n"
          ]
        }
      ]
    },
    {
      "cell_type": "code",
      "source": [
        "#6 Receber ano de nascimento e ano atual e mostrar idade da pessoa em anos, meses, semanas e dias\n",
        "\n",
        "nascimento = atual = mes = dia = ano = semana = 0\n",
        "\n",
        "nascimento = int(input('Qual o ano em que você nasceu? '))\n",
        "atual = int(input('Em qual ano estamos? '))\n",
        "\n",
        "ano = atual - nascimento\n",
        "mes = ano * 12\n",
        "dia = ano * 365\n",
        "semana = ano * 52\n",
        "\n",
        "print('\\tA sua idade convertida em: \\nAnos:{} \\nMeses:{} \\nSemanas:{} \\nDias:{}'. format(ano, mes, semana, dia))\n"
      ],
      "metadata": {
        "id": "pUfJpxqMg0_6",
        "colab": {
          "base_uri": "https://localhost:8080/"
        },
        "outputId": "9571a9fd-9719-45dd-9d16-f26e9419d9ca"
      },
      "execution_count": null,
      "outputs": [
        {
          "output_type": "stream",
          "name": "stdout",
          "text": [
            "Qual o ano em que você nasceu? 2004\n",
            "Em qual ano estamos? 2023\n",
            "\tA sua idade convertida em: \n",
            "Anos: 19 \n",
            "Meses: 228 \n",
            "Semanas: 988 \n",
            "Dias: 6935\n"
          ]
        }
      ]
    }
  ]
}