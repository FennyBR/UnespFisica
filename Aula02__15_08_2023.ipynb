{
  "nbformat": 4,
  "nbformat_minor": 0,
  "metadata": {
    "colab": {
      "provenance": [],
      "authorship_tag": "ABX9TyNoeKEYBB6IzX6PzdTWBxF5",
      "include_colab_link": true
    },
    "kernelspec": {
      "name": "python3",
      "display_name": "Python 3"
    },
    "language_info": {
      "name": "python"
    }
  },
  "cells": [
    {
      "cell_type": "markdown",
      "metadata": {
        "id": "view-in-github",
        "colab_type": "text"
      },
      "source": [
        "<a href=\"https://colab.research.google.com/github/FennyBR/UnespFisica/blob/main/Aula02__15_08_2023.ipynb\" target=\"_parent\"><img src=\"https://colab.research.google.com/assets/colab-badge.svg\" alt=\"Open In Colab\"/></a>"
      ]
    },
    {
      "cell_type": "markdown",
      "source": [
        "# **Aula 02 - 15/08/2023**\n",
        "TEVE PARALISAÇÃO!!"
      ],
      "metadata": {
        "id": "MGBUK4IIdD1W"
      }
    },
    {
      "cell_type": "markdown",
      "source": [
        "# **Exercícios**\n",
        "15/20\n",
        "\n"
      ],
      "metadata": {
        "id": "HmyjRjJ6PgYY"
      }
    },
    {
      "cell_type": "markdown",
      "source": [
        " 1. Faça um programa que receba três notas, calcule e mostre a média ponderada. Considera peso 2 para a primeira prova, peso 3 para a segunda e peso 5 para a terceira. Ao final exiba a média."
      ],
      "metadata": {
        "id": "S7ZlE9xNQYJE"
      }
    },
    {
      "cell_type": "code",
      "source": [
        "n1 = n2 = n3 = media = 0\n",
        "\n",
        "n1 = float(input('Digite a nota da primeira prova: '))\n",
        "n2 = float(input('Digite a nota da segunda prova: '))\n",
        "n3 = float(input('Digite a nota da terceira prova: '))\n",
        "\n",
        "media = (n1*2 + n2*3 + n3*5)/10\n",
        "\n",
        "print('A média do aluno é: ', round(media,1))\n"
      ],
      "metadata": {
        "id": "FOzDoca6P8Js"
      },
      "execution_count": null,
      "outputs": []
    },
    {
      "cell_type": "markdown",
      "source": [
        "2. Faça um programa que calcule e exiba a área do losango:\n",
        "\n",
        "> Area = diagonal maior * diagonal menor / 2\n"
      ],
      "metadata": {
        "id": "UEggSwoxRU_q"
      }
    },
    {
      "cell_type": "code",
      "source": [
        "menor = maior = area = 0\n",
        "\n",
        "menor = float(input('Insira o tamanho da menor diagonal: '))\n",
        "maior = float(input('Insira o tamanho da maior diagonal: '))\n",
        "\n",
        "area = menor*maior / 2\n",
        "\n",
        "print('A aréa desse losango é: ', area)\n"
      ],
      "metadata": {
        "id": "yEB4wOo6VtSq"
      },
      "execution_count": null,
      "outputs": []
    },
    {
      "cell_type": "markdown",
      "source": [
        "3. Faça um programa que calcule e exiba o volume de um cilindro:\n",
        "\n",
        "> Volume = 𝜋𝑟²ℎ"
      ],
      "metadata": {
        "id": "xodDtghcV46T"
      }
    },
    {
      "cell_type": "code",
      "source": [
        "import math\n",
        "\n",
        "r = h = vol = 0\n",
        "\n",
        "r = float(input('Digite o tamanho do raio: '))\n",
        "h = float(input('Digite o tamanho da altura: '))\n",
        "\n",
        "vol = math.pi * r**2 * h\n",
        "\n",
        "print('O volume desse cilindrio é: ', vol)\n"
      ],
      "metadata": {
        "id": "Yy6xwl8OWEzQ"
      },
      "execution_count": null,
      "outputs": []
    },
    {
      "cell_type": "markdown",
      "source": [
        "4. Faça um programa que receba o ano de nascimento e o ano atual, calcule e mostre: a\n",
        "idade da pessoa em décadas, anos, meses, semanas, dias, horas, minutos e segundos."
      ],
      "metadata": {
        "id": "SubUp3INWEBi"
      }
    },
    {
      "cell_type": "code",
      "source": [
        "nascimento = atual = mes = dia = ano = semana = decada = minuto = segundo = hora = 0\n",
        "\n",
        "nascimento = int(input('Qual o ano em que você nasceu? '))\n",
        "atual = int(input('Em qual ano estamos? '))\n",
        "\n",
        "ano = atual - nascimento\n",
        "mes = ano * 12\n",
        "dia = ano * 365\n",
        "semana = ano * 52\n",
        "hora = dia * 24\n",
        "minuto = hora * 60\n",
        "segundo = minuto * 60\n",
        "decada = ano * 0.1\n",
        "\n",
        "print('A sua idade convertida em: \\nDécadas: {} \\nAnos: {} \\nMeses: {} \\nSemanas: {} \\nDias: {} \\nHoras: {} \\nMinutos: {} \\nSegundos: {}'\n",
        "      . format(decada, ano, mes, semana, dia, hora, minuto, segundo))\n"
      ],
      "metadata": {
        "id": "c9By7gR4Wmw7"
      },
      "execution_count": null,
      "outputs": []
    },
    {
      "cell_type": "markdown",
      "source": [
        "5. Faça um programa que receba o valor de calorias (kcal) e converta para kJ (quilojoule)\n",
        "\n",
        "\n",
        "> (1 kcal = 4,184 kJ).\n",
        "\n"
      ],
      "metadata": {
        "id": "LMdzFTtPWnhx"
      }
    },
    {
      "cell_type": "code",
      "source": [
        "kcal = kj = 0\n",
        "\n",
        "kcal = float(input('Digite as calorias (em kcal): '))\n",
        "\n",
        "kj = kcal * 4.184\n",
        "\n",
        "print('As calorias são equivalentes a {} kJ.'. format(kj))\n"
      ],
      "metadata": {
        "id": "CTrL-5XHWnSK"
      },
      "execution_count": null,
      "outputs": []
    },
    {
      "cell_type": "markdown",
      "source": [
        "6. Faça um programa que receba a massa em kg e converta em libras e onças.\n",
        "\n",
        "\n",
        ">(1 libra =\n",
        "0,453 kg; 1 onça = 28,349 g)\n",
        "\n"
      ],
      "metadata": {
        "id": "5C7z4fSoWnCr"
      }
    },
    {
      "cell_type": "code",
      "source": [
        "kg = libra = onca = 0\n",
        "\n",
        "kg = float(input('Digite a massa em kg: '))\n",
        "\n",
        "libra = kg * (1/0.453)\n",
        "onca = kg * (1/0.028349)\n",
        "\n",
        "print('A massa é equivalente a {} libras e a {} onças.'. format(round(libra, 3), round(onca, 3)))\n"
      ],
      "metadata": {
        "id": "xFSq2YJ2WntK"
      },
      "execution_count": null,
      "outputs": []
    },
    {
      "cell_type": "markdown",
      "source": [
        "7. Faça um programa que receba o valor dos catetos de um triângulo, calcule e mostre o valor da hipotenusa.\n"
      ],
      "metadata": {
        "id": "I36TkBccWn23"
      }
    },
    {
      "cell_type": "code",
      "source": [
        "import math\n",
        "\n",
        "cat1 = cat2 = hip = 0\n",
        "\n",
        "cat1 = float(input('Digite o valor do cateto: '))\n",
        "cat2 = float(input('Digite o valor do outro cateto: '))\n",
        "\n",
        "hip = math.sqrt(math.pow(cat1,2) + math.pow(cat2,2))\n",
        "\n",
        "print('O valor da hipotenusa é: ', hip)\n"
      ],
      "metadata": {
        "id": "CJr5H7diWoAc"
      },
      "execution_count": null,
      "outputs": []
    },
    {
      "cell_type": "markdown",
      "source": [
        "8. Faça um programa que receba o volume do tanque de combustível de um carro, o seu\n",
        "consumo em km/l em gasolina e etanol. Exiba a autonomia que este carro possui em\n",
        "km, tanto para gasolina, quanto para etanol."
      ],
      "metadata": {
        "id": "bRSY9KZsWoI1"
      }
    },
    {
      "cell_type": "code",
      "source": [
        "#enunciado meio confuso\n",
        "volume = etanol = gasolina = km_etanol = km_gasolina = 0\n",
        "\n",
        "volume = float(input('Digite o volume do tanque de combustível: '))\n",
        "gasolina = float(input('Digite o seu consumo km/l com gasolina: '))\n",
        "etanol = float(input('Digite o seu consumo km/l com etanol: '))\n",
        "\n",
        "km_gasolina = gasolina * volume\n",
        "km_etanol = etanol * volume\n",
        "\n",
        "print('Seu veículo consegue fazer {}km com gasolina e {}km com etanol.'.format(round(km_gasolina,1),round(km_etanol,1)))\n"
      ],
      "metadata": {
        "id": "qTmW-hAHWoSc"
      },
      "execution_count": null,
      "outputs": []
    },
    {
      "cell_type": "markdown",
      "source": [
        "9. Faça um programa que receba o raio de uma circunferência e calcule a área (a=𝜋𝑟²) e o\n",
        "perímetro (c=2𝜋𝑟)"
      ],
      "metadata": {
        "id": "uI49ROjRWoip"
      }
    },
    {
      "cell_type": "code",
      "source": [
        "import math\n",
        "\n",
        "a = c = r = 0\n",
        "\n",
        "r = float(input('Digite o raio da circunferência: '))\n",
        "\n",
        "a = math.pi * r**2\n",
        "c = math.pi * r*2\n",
        "\n",
        "print('O valor da área é {} e do perímetro é {}.'. format(a,c))\n"
      ],
      "metadata": {
        "id": "xyKX4d_nWord"
      },
      "execution_count": null,
      "outputs": []
    },
    {
      "cell_type": "markdown",
      "source": [
        "10. Faça um programa que receba uma velocidade em m/s e converta em km/h."
      ],
      "metadata": {
        "id": "hb-62FuSWozj"
      }
    },
    {
      "cell_type": "code",
      "source": [
        "vel_m = vel_k = 0\n",
        "\n",
        "vel_m = float(input('Digite a velocidade em m/s: '))\n",
        "\n",
        "vel_k = vel_m * 3.6\n",
        "\n",
        "print('Essa velocidade equivale a {} km/h'. format(vel_k))\n"
      ],
      "metadata": {
        "id": "HqT_eHYZWo8K"
      },
      "execution_count": null,
      "outputs": []
    },
    {
      "cell_type": "markdown",
      "source": [
        "11. Sabe-se que a velocidade do som é de 1216 km/h, a medida mach mensura a relação\n",
        "entre a velocidade aferida e a velocidade do som, assim: 1 mach = 1216 km/h. Faça um\n",
        "programa que uma velocidade em km/h e mostre o número mach correspondente. (874\n",
        "km/h -> mach 0,718."
      ],
      "metadata": {
        "id": "h5oYbDGjWpEP"
      }
    },
    {
      "cell_type": "code",
      "source": [
        "vel = mach = 0\n",
        "\n",
        "vel = float(input('Insira a velocidade em km/h: '))\n",
        "\n",
        "mach = vel / 1216\n",
        "\n",
        "print('O número mach correspondente é: ', round(mach,3))\n"
      ],
      "metadata": {
        "id": "NtkLz0ycWpNF"
      },
      "execution_count": null,
      "outputs": []
    },
    {
      "cell_type": "markdown",
      "source": [
        "12. Faça um programa que receba uma medida em metros e converta em jardas, pés e\n",
        "polegadas. (1 jarda = 0,914 m; 1 pé = 30,4 cm; e 1 polegada = 2,54 cm).\n"
      ],
      "metadata": {
        "id": "TFmqwZnYWpU5"
      }
    },
    {
      "cell_type": "code",
      "source": [
        "metro = jarda = pe = polegada = 0\n",
        "\n",
        "metro = float(input('Digite a medida em metros: '))\n",
        "\n",
        "jarda = metro * (1/0.914)\n",
        "pe = metro * (1/0.304)\n",
        "polegada = metro * (1/0.0254)\n",
        "\n",
        "print('Ela equivale a {} jardas, {} pés e {} polegadas.'.format(round(jarda, 3), round(pe, 3), round(polegada, 3)))\n"
      ],
      "metadata": {
        "id": "FttnIlOmWpeS"
      },
      "execution_count": null,
      "outputs": []
    },
    {
      "cell_type": "markdown",
      "source": [
        "13. Faça um programa que receba a temperatura em ºC e mostre a temperatura em\n",
        "Fahrenheit (F = 1.8 C + 32), Kelvin (K = C + 273), Réaumur (R = C * 4/5), Rankine\n",
        "(Ra = (C + 273) * 1.8) e Newton (N = C * 33/100)."
      ],
      "metadata": {
        "id": "b8wrS5EzWpl4"
      }
    },
    {
      "cell_type": "code",
      "source": [
        "c = f = k = r = ra = n = 0\n",
        "\n",
        "c = float(input('Digite a temperatura em °C: '))\n",
        "\n",
        "f = 1.8*c+32\n",
        "k = c+273\n",
        "r = c*4/5\n",
        "ra = (c+273)*1.8\n",
        "n = c*33/100\n",
        "\n",
        "print('A temperatura convertida em: \\nFahrenheit: {} \\nKelvin: {} \\nRéaumur: {} \\nRankine: {} \\nNewton: {}'\n",
        "      . format(f, k, r, ra, n))\n"
      ],
      "metadata": {
        "id": "jxRwydYJWptw"
      },
      "execution_count": null,
      "outputs": []
    },
    {
      "cell_type": "markdown",
      "source": [
        "14. Escreva programa que receba o valor do salário mínimo e o valor do salário de um\n",
        "funcionário, então calcule e exiba na tela a quantidade de salários mínimos que esse\n",
        "funcionário ganha.\n"
      ],
      "metadata": {
        "id": "A4BvkfqtYJwQ"
      }
    },
    {
      "cell_type": "code",
      "source": [],
      "metadata": {
        "id": "LOZaSPpuYKMo"
      },
      "execution_count": null,
      "outputs": []
    },
    {
      "cell_type": "markdown",
      "source": [
        "15. Faça um programa que receba o salário bruto de um funcionário, o percentual de\n",
        "recolhimento de INSS e o percentual de recolhimento de imposto de renda. O imposto\n",
        "de renda deve ser descontado a partir do valor restante após o recolhimento do INSS.\n",
        "Ao final o salário líquido deverá ser exibido junto com o valor recolhido para INSS e\n",
        "imposto de renda."
      ],
      "metadata": {
        "id": "Nr88FkKfYKlG"
      }
    },
    {
      "cell_type": "code",
      "source": [],
      "metadata": {
        "id": "YLq3A2uRYK0P"
      },
      "execution_count": null,
      "outputs": []
    },
    {
      "cell_type": "markdown",
      "source": [
        "16. Faça um programa que receba o valor total de uma conta de um restaurante, o percentual\n",
        "de gorjeta do garçom e a quantidade de pessoas para divisão. Ao final o programa deverá\n",
        "mostrar o valor a ser pago por cada pessoa."
      ],
      "metadata": {
        "id": "V6c9bblxYLHH"
      }
    },
    {
      "cell_type": "code",
      "source": [],
      "metadata": {
        "id": "sPBRBNjYYLTg"
      },
      "execution_count": null,
      "outputs": []
    },
    {
      "cell_type": "markdown",
      "source": [
        "17. Faça um programa que receba as medidas de uma propriedade e calcule sua área em m².\n",
        "Posteriormente, converta a área para hectares (10.000 m²) e para: alqueire paulista\n",
        "(24.200 m²); alqueire mineiro (“alqueirão”) (48.400m²); e alqueire baiano (96.800m²)."
      ],
      "metadata": {
        "id": "JvOD3FibYLh0"
      }
    },
    {
      "cell_type": "code",
      "source": [],
      "metadata": {
        "id": "Kdc02SzqYLs7"
      },
      "execution_count": null,
      "outputs": []
    },
    {
      "cell_type": "markdown",
      "source": [
        "18. Você trabalha em uma loja de materiais para construção, faça um programa que receba\n",
        "o tamanho de um cômodo (largura e comprimento) e o tamanho do piso (largura e\n",
        "comprimento) e exiba a quantidade de pisos necessários para cobrir todo o cômodo,\n",
        "considere um acréscimo de 15% devido a quebras e defeitos do piso."
      ],
      "metadata": {
        "id": "9TCjWsqGYL4X"
      }
    },
    {
      "cell_type": "code",
      "source": [],
      "metadata": {
        "id": "7RckK6agYMCq"
      },
      "execution_count": null,
      "outputs": []
    },
    {
      "cell_type": "markdown",
      "source": [
        "19. Sabe-se que para iluminar de maneira correta os cômodos de uma casa, para cada m² é\n",
        "necessário 3,5W de potência da lâmpada. Faça um programa que receba as duas\n",
        "dimensões do cômodo em metros, calcule e mostre a sua área em m² e a potência da\n",
        "iluminação que deve ser utilizada"
      ],
      "metadata": {
        "id": "x_ulEZROYMN4"
      }
    },
    {
      "cell_type": "code",
      "source": [
        "area = pot_luz = comp = larg = 0\n",
        "\n",
        "comp = float(input('Digite o comprimento do cômodo em metros: '))\n",
        "larg = float(input('Digite a largura do cômodo em metros: '))\n",
        "\n",
        "area = comp * larg\n",
        "pot_luz = area * 3.5\n",
        "\n",
        "print('Para uma iluminação eficiente, é necessária uma potência de iluminação de {}W.'. format(round(pot_luz, 2)))\n"
      ],
      "metadata": {
        "id": "RI87roR2YMYl"
      },
      "execution_count": null,
      "outputs": []
    },
    {
      "cell_type": "markdown",
      "source": [
        "20. Faça um programa de uma casa de câmbio que realize a conversão de valores em reais\n",
        "para:\n",
        "\n",
        "*   a) Dólar: R$ 4,96\n",
        "\n",
        "*   b) Euro: R$ 5,41\n",
        "\n",
        "*   c) Libra Esterlina: R$ 6,30\n",
        "\n",
        "*   d) Lira Turca: R$ 0,18\n",
        "\n",
        "*   e) Peso Argentino: R$ 0,014\n",
        "\n",
        "*   f) Sol Peruano: R$ 1,34\n",
        "\n",
        "\n",
        "\n",
        "\n",
        "\n",
        "\n"
      ],
      "metadata": {
        "id": "W-hsiFw7YMif"
      }
    },
    {
      "cell_type": "code",
      "source": [
        "dolar = real = euro = libra = lira = peso = sol = 0\n",
        "\n",
        "real = float(input('Insira o valor em reais: '))\n",
        "\n",
        "dolar = real / 4.96\n",
        "euro = real / 5.41\n",
        "libra = real / 6.3\n",
        "lira = real / 0.18\n",
        "peso = real / 0.014\n",
        "sol = real / 1.34\n",
        "\n",
        "print('\\tO valor R${} convertido em: \\nDólar: {} \\nEuro: {} \\nLibra Esterlina: {} \\nLira Turca: {} \\nPeso Argentino: {} \\nSol Peruano: {}'\n",
        "      . format(real, round(dolar,2), round(euro,2), round(libra,2), round(lira,2), round(peso,2), round(sol,2)))\n",
        "#perguntar se tem como definir a casa decimal de todos para 2 de uma vez\n"
      ],
      "metadata": {
        "id": "B83v8flSYMuO"
      },
      "execution_count": null,
      "outputs": []
    }
  ]
}