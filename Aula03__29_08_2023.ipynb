{
  "nbformat": 4,
  "nbformat_minor": 0,
  "metadata": {
    "colab": {
      "provenance": [],
      "authorship_tag": "ABX9TyPcxQsydRTEUqWxBghk0d4j",
      "include_colab_link": true
    },
    "kernelspec": {
      "name": "python3",
      "display_name": "Python 3"
    },
    "language_info": {
      "name": "python"
    }
  },
  "cells": [
    {
      "cell_type": "markdown",
      "metadata": {
        "id": "view-in-github",
        "colab_type": "text"
      },
      "source": [
        "<a href=\"https://colab.research.google.com/github/FennyBR/UnespFisica/blob/main/Aula03__29_08_2023.ipynb\" target=\"_parent\"><img src=\"https://colab.research.google.com/assets/colab-badge.svg\" alt=\"Open In Colab\"/></a>"
      ]
    },
    {
      "cell_type": "markdown",
      "source": [
        "# **Aula 03 - 29/08/2023**\n",
        "9,5/10\n"
      ],
      "metadata": {
        "id": "8PDok4pj_y_J"
      }
    },
    {
      "cell_type": "markdown",
      "source": [
        "# **Exercícios**"
      ],
      "metadata": {
        "id": "YvDfftFnAf6A"
      }
    },
    {
      "cell_type": "markdown",
      "source": [
        "1. Considerando o exemplo da média aritmética simples de 2 notas. Faça um programa que converta a nota numérica em conceitos, conforme tabela: ![8.png](data:image/png;base64,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)"
      ],
      "metadata": {
        "id": "zvXQGHDGA3ER"
      }
    },
    {
      "cell_type": "code",
      "execution_count": null,
      "metadata": {
        "colab": {
          "base_uri": "https://localhost:8080/"
        },
        "id": "aAER87b5_isw",
        "outputId": "a7232f1d-fbbc-4cb0-ce24-6ddfe9e274f2"
      },
      "outputs": [
        {
          "output_type": "stream",
          "name": "stdout",
          "text": [
            "Insira a primeira nota: 10\n",
            "Insira a segunda nota: 9\n",
            "A\n"
          ]
        }
      ],
      "source": [
        "n1 = n2 = media = conceito = 0\n",
        "erro = 'ERRO: Inserir apenas valores de 0 a 10.'\n",
        "\n",
        "n1 = float(input('Insira a primeira nota: '))\n",
        "n2 = float(input('Insira a segunda nota: '))\n",
        "\n",
        "media = (n1 + n2)/2\n",
        "\n",
        "if media > 10 or media <0:\n",
        "  conceito = erro\n",
        "elif media <= 10 and media >= 8.5:\n",
        "  conceito = 'A'\n",
        "elif media <= 8.5 and media >= 7:\n",
        "  conceito = 'B'\n",
        "elif media < 7 and media >= 5:\n",
        "  conceito = 'C'\n",
        "else:\n",
        "  conceito = 'D'\n",
        "\n",
        "print(conceito)\n"
      ]
    },
    {
      "cell_type": "markdown",
      "source": [
        "2. Faça um programa que receba um número e verifique se ele é par ou ímpar."
      ],
      "metadata": {
        "id": "WjCDwNCGCDZI"
      }
    },
    {
      "cell_type": "code",
      "source": [
        "num = resto = 0\n",
        "\n",
        "num = int(input('Digite um número inteiro: '))\n",
        "\n",
        "resto = num % 2\n",
        "\n",
        "if resto != 0:\n",
        "  print('Esse número é ímpar.')\n",
        "else:\n",
        "  print('Esse número é par.')\n"
      ],
      "metadata": {
        "colab": {
          "base_uri": "https://localhost:8080/"
        },
        "id": "NOhVKy8nCC_B",
        "outputId": "e6a0f388-f2a8-4d9b-d56f-d5c68d026b6e"
      },
      "execution_count": null,
      "outputs": [
        {
          "output_type": "stream",
          "name": "stdout",
          "text": [
            "Digite um número inteiro: 7\n",
            "Esse número é ímpar.\n"
          ]
        }
      ]
    },
    {
      "cell_type": "markdown",
      "source": [
        "3. Elabore um programa que receba o peso de um cachorro e classifique o seu porte,\n",
        "sendo: até 10kg: pequeno; 10 a 15kg: médio; acima de 15kg: grande"
      ],
      "metadata": {
        "id": "8LzEFMHuCCvC"
      }
    },
    {
      "cell_type": "code",
      "source": [
        "peso = 0\n",
        "\n",
        "peso = float(input('Digite o peso do cachorro: '))\n",
        "\n",
        "if peso < 0:\n",
        "  print('ERRO: Insira um valor válido!')\n",
        "elif peso <= 10:\n",
        "  print('Pequeno')\n",
        "elif peso <= 15:\n",
        "  print('Médio')\n",
        "else:\n",
        "  print('Grande')\n"
      ],
      "metadata": {
        "colab": {
          "base_uri": "https://localhost:8080/"
        },
        "id": "XcNOV_s-CESB",
        "outputId": "7cf9ff15-d211-4c41-b71c-e7d79e11a41a"
      },
      "execution_count": null,
      "outputs": [
        {
          "output_type": "stream",
          "name": "stdout",
          "text": [
            "Digite o peso do cachorro: 12\n",
            "Médio\n"
          ]
        }
      ]
    },
    {
      "cell_type": "markdown",
      "source": [
        "4. Faça um programa que receba dois números e mostre qual deles é o maior."
      ],
      "metadata": {
        "id": "cTW8bFTVCEqA"
      }
    },
    {
      "cell_type": "code",
      "source": [
        "num1 = num2 = 0\n",
        "\n",
        "num1 = float(input('Digite o primeiro número: '))\n",
        "num2 = float(input('Digite o segundo número: '))\n",
        "\n",
        "if num1 == num2:\n",
        "  print('Esses números são iguais')\n",
        "elif num1 > num2:\n",
        "  print('O primeiro número ({}) é maior do que o segundo ({}).'.format(num1,num2))\n",
        "else:\n",
        "  print('O segundo número ({}) é maior do que o primeiro ({}).'.format(num2,num1))\n"
      ],
      "metadata": {
        "colab": {
          "base_uri": "https://localhost:8080/"
        },
        "id": "Cvz7UsCjCFEZ",
        "outputId": "a319ee49-699d-4343-9107-5eb822d0a238"
      },
      "execution_count": null,
      "outputs": [
        {
          "output_type": "stream",
          "name": "stdout",
          "text": [
            "Digite o primeiro número: 9\n",
            "Digite o segundo número: 5\n",
            "O primeiro número (9.0) é maior do que o segundo (5.0).\n"
          ]
        }
      ]
    },
    {
      "cell_type": "markdown",
      "source": [
        "5. Faça um projeto básico de calculadora:\n",
        "\n",
        "\n",
        "*   O programa vai receber 2 números e calcular uma das operações básicas escolhidas pelo usuário: +, -, * ou /\n",
        "*   Obs: o programa não deve permitir a divisão por zero\n"
      ],
      "metadata": {
        "id": "qo_ulAHMCFzb"
      }
    },
    {
      "cell_type": "code",
      "source": [
        "num1 = num2 = op = resultado = 0\n",
        "mensagem = 'O resultado da operação é: '\n",
        "\n",
        "num1 = float(input('Digite o primeiro número: '))\n",
        "num2 = float(input('Digite o segundo número: '))\n",
        "\n",
        "print('Escolha a operação a ser efetuada: \\n+ para adição \\n- para suntração \\n* para multiplicação \\n/ para divisão')\n",
        "op = input()\n",
        "\n",
        "if op == '/':\n",
        "  if not num2 == 0:\n",
        "    resultado = num1 / num2\n",
        "  else:\n",
        "    print('ERRO: O segundo número não pode ser 0 (zero) para divisão!')\n",
        "    mensagem = ''\n",
        "    resultado = ''\n",
        "elif op == '+':\n",
        "  resultado = num1 + num2\n",
        "elif op == '-':\n",
        "  resultado = num1 - num2\n",
        "elif op == '*':\n",
        "  resultado = num1 * num2\n",
        "else:\n",
        "  print('ERRO: Escolha uma operação válida! ({})'. format(op))\n",
        "  mensagem = ''\n",
        "  resultado = ''\n",
        "\n",
        "print(mensagem, resultado)\n"
      ],
      "metadata": {
        "colab": {
          "base_uri": "https://localhost:8080/"
        },
        "id": "0bKfDpEqCGAp",
        "outputId": "2875ad9b-d800-4aa1-b889-381dbabdb629"
      },
      "execution_count": null,
      "outputs": [
        {
          "output_type": "stream",
          "name": "stdout",
          "text": [
            "Digite o primeiro número: 9\n",
            "Digite o segundo número: 2\n",
            "Escolha a operação a ser efetuada: \n",
            "+ para adição \n",
            "- para suntração \n",
            "* para multiplicação \n",
            "/ para divisão\n",
            "/\n",
            "O resultado da operação é:  4.5\n"
          ]
        }
      ]
    },
    {
      "cell_type": "markdown",
      "source": [
        "6. Faça um programa que receba 3 números e mostre-os em ordem crescente."
      ],
      "metadata": {
        "id": "5869pB5hCGHp"
      }
    },
    {
      "cell_type": "code",
      "source": [
        "##NAO GOSTEI\n",
        "\n",
        "num1 = num2 = num3 = 0\n",
        "\n",
        "num1 = float(input('Digite o primeiro número: '))\n",
        "num2 = float(input('Digite o segundo número: '))\n",
        "num3 = float(input('Digite o terceiro número: '))\n",
        "\n",
        "if num1 == num2 or num1 == num3 or num2 == num3:\n",
        "  print('ERRO: Escolha 3 números diferentes!')\n",
        "elif num1 > num2:\n",
        "  if num2 > num3:\n",
        "    print('')\n",
        "  else:\n",
        "    print('')\n",
        "elif num2 > num1:\n",
        "  if num1 > num3:\n",
        "    print('')\n",
        "  else:\n",
        "    print('')\n",
        "elif num3 > num"
      ],
      "metadata": {
        "id": "P2en9l0XCGPJ"
      },
      "execution_count": null,
      "outputs": []
    },
    {
      "cell_type": "markdown",
      "source": [
        "7. Faça um programa que receba a idade de um usuário e classifique entre criança (até\n",
        "12 anos), adolescente (13 a 17 anos), adulto (18 a 55), idoso (acima de 66)."
      ],
      "metadata": {
        "id": "Nmi5e5TpCGWp"
      }
    },
    {
      "cell_type": "code",
      "source": [
        "idade = 0\n",
        "\n",
        "idade = int(input('Digite a sua idade: '))\n",
        "\n",
        "if idade < 0:\n",
        "  print('ERRO: somente valores positivos!')\n",
        "elif idade > 66:\n",
        "  print('idoso')\n",
        "elif idade >= 18 and idade <= 55:\n",
        "  print('adulto')\n",
        "elif idade >= 13 and idade <= 17:\n",
        "  print('adolescente')\n",
        "elif idade <= 12:\n",
        "  print('criança')\n",
        "else:\n",
        "  print('Você está no limbo')\n"
      ],
      "metadata": {
        "colab": {
          "base_uri": "https://localhost:8080/"
        },
        "id": "uYE2koWNCGdx",
        "outputId": "652d31f0-71b2-41ea-82bc-207d4877af6a"
      },
      "execution_count": null,
      "outputs": [
        {
          "output_type": "stream",
          "name": "stdout",
          "text": [
            "Digite a sua idade: -22\n",
            "ERRO: somente valores positivos!\n"
          ]
        }
      ]
    },
    {
      "cell_type": "markdown",
      "source": [
        "8. Faça um programa que receba o código correspondente ao cargo de um funcionário e seu salário atual e mostre o cargo, valor do aumento e seu novo salário. Os cargos são:\n",
        "![8.png](data:image/png;base64,iVBORw0KGgoAAAANSUhEUgAAAbUAAACZCAIAAAAn0TNzAAAAAXNSR0IArs4c6QAAAARnQU1BAACxjwv8YQUAAAAJcEhZcwAADsMAAA7DAcdvqGQAADgnSURBVHhe7ZsFXBVZ+8fV/e+6KiImoqQIdoOFjYooJrZY2AoidmInEtIlEkojHdLdKY2KhYqNHav7/n94dN67467sq1e4cznz+X78zDxzZi4755zveZ65dxv9h250oxvd6PZ3G/Uj3ehGN7r9/Vbjx9DCeO/sMAoviVeziu5dZQUplO8g+HJs5dN7rCBFkIkpS/v48eNnP86y2zjo1FwKL/q+xx1TfFhBCuU70LBeH38lgxWkCDJr3Pf/8eED9eM/Qv1I4RfUj5yD+rEWqB8p/IL6kXNQP9YC9SOFX1A/cg7qx1qgfqTwC+pHzlFvfhxmtGiy1dphRgtZccLQ0wvQgBWsF6gfKfyC+vEHGW26VMlwHiv4U/mJfhxutEjLads2v1MrL+zFfxjvqaGnF0YUJ1U+rVrotI03ThhiOD/1eu6NR5WjTJYonZp3JsY56HLMVJv1rGZ1Q8P0o9KpuWoWq9Z7Htx68eQMWx1lw/msBpTvoF78qGKsNd9xM2Gy1Zp/ykgEn50BRnerH8AGrPhP5Wf5canzjtKqa3/++Sdui+3O0/tLnHcwZ/cFnfnw8cPxcFsmwgu68NaTu7hq7JllQ04vgEZxn43eR1jN6oYG6Ec8f9f0gJdvX5G+e//hD++ccCxUrGaU/5V68eP5jEDSj9g+fPxYcKdsuesuVps6QOvcthOX7Gc7bGLF/z24HP8Jrun+rPhP5af4ERnH/WePILWCO+VmMS5nU7yRDB4Pt2MabPcz3B1o8k+pMq8fcbji/B60xzLI26bOaIB+dE7zQ989f/PSOzvsdKRjdGnq1Yc3sVCxmlH+V+rFjyGFcZhKQZejT0U4pFbkffzzzztPq8aY1sysuuRssjf+DAwnVvzfIzx+dEnzx92K710de2Y5iaiaaauar8DO0NMLTkY4oM/ir2Q6JvugiCMNADzolxcZXpSg532U14+GEWfdM4Mnmq/E/njzlXaJHjFlabiDX16Eb074dJsNiKMSN4l2wrVx5ek2Ce5jPl3IFxqaH/E8q18/hx8Ngs1IBJmjpn3NwNCwXmeb6IEnjOdvn+Q5yXI1aYAl0Cru/MoLe3HqWFhNTTDFep1Lmh+aBV2OQTd5ZoeSkTDOTNs20T2iJCmmNBVTpb7WvPqiHv148pI99jHdHj5/jEN0Fg6XOO9E18SWpzunXkROQ9qjJXp5meuumLJU42gnctW51IvozYu5lxad20qaoT2mOa71yAphSkPkMefTAzAwziZ74ZRDkhd5sYZkCNUkPje/shSLLp7DJIvV2IGyyYXrPQ7i5qvc9mEfitgfbBZWFB9fnuGfF7nGzYC0ERI/Yjpde3ATd+NNGAkqxouxguHU3eoHpGrGUjbxkyKXuex88+7Nxz8/YnL+8eEPVN9oBj8qG84vvHvl7ft36Bg8azj31bvXCVcyH7yo6eaqZw9xIeZe0d0rOLz95N69Zw+xU1J1jV+KbGh+3Bd0Bg+w4uGtr+VVdO/qs9cv8KgrHt5Gm7zKkqGna15moTF67fmbFwiGFsarW65B/z599QzdhDgSlsqn96barIdeK5/cQ8/efHzn8cun6P2MG5cb1JvNevcjJsXd6vs41HLaput1+O0f79A16KaXb189evFk6qdUI+dWEXoZ3YdmSVez0HHoTUxMTFV08eU7ZWgz33EzevDJy6e4Fhe+ef8WyQ3ifrkR7/54f/NxJf59/+E97hBelIg4LIzPwiFaPnlZvcxlF/4AHGbfLCQDADkNDi3izmP/aJgNBgkcguoTV0ELmOOIC4kfR5suwSPA3da672ed2h9kjtmSebNggsVKdBVSSEwS6wQ3nELq9+k/PgCnkFng+eKQ5UcsenhwSEzQfmeAERqYxjhDx2YxzrgPykDcc7z5irzbJTg8EmrNfO6P0ND8iO7Ag824nv/1C0c972MaNuuxvGOhwjR78ebldJuapAN+xCW5t4swbWba6pKuIasjOgh9sTfQFPtumUHYRymAy5Fg3nh0B71ZX6+V64V69KN1/IW5Z/XPZwR++PgRaQSmScGdstfvXiOINphx6BqbTzMRfkR7TDrMOAjhQkYQDiE+ZCFwJTJBtIkoTkISo+9zHPs6nofRIKwwHvtohv0r92/MO6uP+IcPH+49ezDObDnKO/R+zZ+R4IYJjkn9DT/Ost+ImT7SePGQ0wtIJWr6KY0VEj+OMV1K/KjjeYh1yic7DN3AfC2zK8AYzaJKU/Agyu5XYI2aba+HOO/7R14/Yhl5/+GPS8WJI0wWowRAgwNB5mgfXZaK2269eIrc1ijSEaewZJHDH6Sh+dHu04PNvvV54PICY2Lgno46dy7F98Hzx6/fvSGzi/iRLPIA0waHWOowK3xzL6Fr1nkcQByJJ/YxMUgzNEAzrG3ksCFQj35kNiSDGzwPTbFaW/3q2bPXz92zQlARw3c4hRwF7YkfSZcBJIw4JJUvQenUXOSSyGAu5kbgWu+cMDRAxYZTxI8HQmpmJXr/wbNHKCCwpuIQkwinjKLOkZt8w48Ay+fhUGvINO16Tblpn+SJoPDU10gNcLevhz7UhhlCsgmwyecYmiFFx6O8/qgS2QRKMMT/yY9YUq4/vI07vP/jPZbBrBsF5O1G1s2Cjx8/rvc4SG6LzBHX+udFkcMfpKH58VCIJZ7enaf3sc7xxocZLYosSUYfwYap13JRgrH8SPbBJMvVD58/xmqHCgtjK6Ikefinn7LeenwXfUdeZQIyYUj10ECoRz9i6h0Ns4YZyZTRtNeD4F69fZ18LRsTEKCYOxBigVPEj4udt5PLkQzicInLf398ggmOxBOZSvr1fHItsIqv6UfiR4PgM9jHpK569hAl+TTbmrL9b/2Yc6v4az9uvXgSQwsFPv6S8qrriAuVH4FvTjjudvPxnZl2ujhUMpyHnBnzxznVD3HkzKSZY7IPJgxy/hoJ3inHqS2+JxGf47CJvP5g+XGz7wloEVdhDut6HUEWSe4TXBCLxiQJx+IGM+K25rEu5OwP0tD8iBQehTMeoFmMC0ppRFSMtbD2zHfcgl4ouncV4x4zpPBu+T/5EZU1LsdMOBhqsdZtP1Y7Es+8cRlxFA3Yx5BIvpbz8cthA6He3z8yYA17/PIpmMTzBSmB5ceEq5k1l3/6IkXZcB6R3Y1HlW/ev+X9xR55G/MNP8JxOGWT6E7aY46/++MdlszRpkswQsinED9Cu9iHmLB/8pID9oXNj9AiUmvcEIV20rVs/Ae/evf6VIQDHihWnjfv36DQds8MxgTDVCQ/iYLO0B4P1D8v8t6zh8hTcMjy40avI1i1Hr94kne7BJPNN+fSYqeaXkQci+HLt6/Opwci58d+1fNHU6xqUtEfp6H5EZCXPliKYMO48nTk7MgH553VxxN++qr6SKiVU+pFdNA/+fFomA3Ed6/6Qe7tYtRHFzICka0gjvQEfsTAwDKJUg4JJoqGESZLyFUNAcHxI9IIv7xIxNFBOGUYeTa8KHGde01NzfLj7kAT9Bo055t7CX881kUEyRv/0qprpyMdT1yyC8iPOhhck3t+w4+HQ61w6t6zB2iMoaJqpo0iHTfJuHH5cmUpme/Ej3HlGdj3ygpFnY46BvvC5kcw33FzSkUuFijy1RgycPLt2K4AI0wnVGfVr56VVF1jimIkKZeKEp+/efn89Qs8Qa/s0LvVD7C2YF2KKUtDwY4FB3rFhdce3IooScLcQ01d+bRqvPnKwafmHQ+3xZqGy5+8qs6vLOVd2X6QBuhHrOeYAFjbMbgBHiymEBYqq/gL6FA85KK7V7CMVTy8PdO2pj5AR6OzmB+I6HkfffvHu+J7V9FNMCw8iB5Hwjj0023REosi7pN5o4B5F9lAqBc/QihIOAyCapzFyzgz7aDLMfefP0LuUv36Oepo4sRLxUlY25jVbsjpBeh3RFCM419SlmG2ooyrqn6I2Y0RgkoRRTHiCMKAZB9tMBPLH1yfbLUGh5inWTcL0fX4RNLvO/2NYAZ8eun9Cgywu9X3j336ZgJJD/6YF29fQq8emcEYfsafqvI9Qab4D7H88o6ybvhZfgRQm5rFKuQOvD9yBMONFk232aBhvY6UbwyYgZhv02x1cOHQ0wux/pD4cONFI01r9iNLkpE/omTDPuYwHtzrt6/nfvlFPvoDeSs6A/chEb7QAP1IUDFeDOWhO/BgmeBEy1V4yHj4mDakU8BwYy1mH+RXlmAsTfn0Khk3wfx58+4N8zIE3Yo7YEiQiqxBUS9+xFQabbr0bycFukDVfAUKuE+T8fNrEExP8o6SF1RyaMb8nJkJatpvxCBhRgj5bQPzWeh9ZhZ/OrsQXa/+SZcElPnIezB+8JfgwsGnP1+I0QIXweDYx9AiosBt0YYljZ/NT/Qj33HLDEZCjsTkfHpAckUO/uDkaznk3f/Po8H68buJKklG12TdLEA35d4uQa0dXBDHatMwqRc/Un4ELvkRy5dZjEv6jXzUdxhnptFOrAXtZ0D9+L8ywWKlXZJnakVuwZ2y6NLUI2HWDeol4zegfuQcXPJjvUD9SOEX1I+cg/qxFqgfKfyC+pFz/MWPewNNV7sZUHgxj3MNKYhjBSmU72Cnv1He7WJWkCLIGEY6fmD8SDe60Y1udPt6q/HjR7p9vf358c8///y8Tze6/dhGxxLHtj8//teP5ZUVRTfKKLzcqrr9sPoRK0ihfAdlt689f/mcFaQIMterav7fsM9+LLhekl2eT+HlSmXFvcdVrCCF8h1criiuflHNClIEmbLbV5FEUj/+I9SPFH5B/cg5qB9rgfqRwi+oHzkH9WMtUD9S+AX1I+egfqwF6sefRHR6vHfoRVZQuKF+5ByC6MfEvNQDJw65+Lqx4vUCd/2YUZJz2tLk4KkjDD/oo0Mnj2zbsx23ZcW/g7TCrL4D+mmvXcGKM5yxt1ijuy61MJMV5zQc9aOjp8tfR5Efc8o9wGvz7q162/RtXOyZgeEV4rt9304TG7P04mym5Umz07sO7Mkqy2MinECw/JhZmuvk5dqnf99ffvll7cZ1rLP1Anf9GJuZ2KRJEzl5OTxPwhGj46w2/xPztOZPVJ+YVpSFfTMHS92terxn/yf2HjYYOXZUYm4KK86wcdumQYOVEv65ARfhoh9hPaWhyq3btGZG0eHTxxCH6Y6ZnGwl1mq06pix48eJtBRZu3E94oHRIVIyUjAm1r/NO7cQIfqE+0vLyrj4XCD35BCC5ccLfh54uEgeJaUlqR9/EPixUaNGVudsWXG+gN7p1bc3K/jvCYgKjs1KZAWFHo76EQvVdM0ZrDjWNlk5uZXrVyGnwaH+zi3NmjWLSInedXDPuImq0OKJM4b9Bw5IL8rGgjp42JBN2/V5L+cKguXHpPy02MwEPFxkPdSPP8g/+TGlIAPZ2QClAQMGDdhzxICM74CokDkL52LNHz1ujLWzHSJYqxCxcrIdNHjQXK35mSW5uw/vW6+vg1Mbt26SkZNt2bLlqHGjFyxdhAlw3PTU0lXLyf3Byg2rUYhhJyotbtqs6Y4eziqjRiDRSMhJsb/gqD51cq8+vTBnkEWSTw9LjJw6c5q927lhKsPUpkxKzk8zsjadv3gBuVtmSY6x9RlVtfFIXiZOUbM7fzarlGNlGkGY/IheaNy4cVBsGDkMjAlt0aKFoYWR7ha9iZPVMIXNHazQX2mFWRhsI8aMxKhjruUQAvr9DPXjj0P8aGhuFJMRD+KyEkmxs+vQXmkZaVtXB6hTb9um9OLs5Px0mS6yQ0cMO2VupLNZFztodsbOQrSVqLSs9PpNG4jIoEsUxTgF36lOVO0sJYlSy8zeEqdW66zp068P+VyAGUV0ifnTUrRlZ8nOi7WXbNm1FfUyLKm/Y7OVk53Olo3NmjezdqpxsU+YH7IPSSnJ5WtWbNu7I+Vy+qYdm7t0lSd3O2J0HDfZoK9rbHNGc95s7OMPIKe4BXf9OEBp4M79u7FKhSdFkVFkcPwgFsjUL9aLyUiQ6CSBNuZnrTG6/CODFi3Tmr9koZO3KypClAukGeegfqwFrvuxhUgLsdZiQLG7Inl1qKW9BMkj2SccOHGobft2l5KiyGHy5XT8Cz/ichMbMxIEjB8Bq77+hh9/a9p0je5a5hQDJl63Ht0gX+zDj/gsmJE5y/gRf6dc1y4r1q4k0xIuHqg8cIL6RKYlh+CiH/HYl6/WRqEwYvRILGBiYmKoFRDH8tZRoiPSQ9IsMTdVtovs+k066K8N+jpKQ5RnL5gTHBvWu2/vAycP+0cFHzp5xMHtHOlEDkH9WAtc96ORlWl8TjLACCaj84K/p3hHcZTShwyPJuWnIbJkxdK+/fuigmauBcSPvAP6u/3oetGdOYUUEmnIGt11yCjbd2i/cv0qBIkfA6NDmGaMH3EHkZYtLR1tmFMo3rsqKjCHHIKLfgRYkzAMQGJeqtoUtdZtWmeW5Gzbsx2jiPmBAfEjs8Jh8QNLVy6bMmOqX0QgUkjttSu7KnY9bHiUNOAK1I+1IJTfz4TEha/WXdu2Xdsx48emXM6A+PorDWS91IMfGzduzBv5hh9x2L1nD0amLD+e9/MgcdTyg4cN6dG759Y920+anZaVk+X1Y1BMKGkGGD/6RQa1EBGxcbFnTq3asBqJJ3PIITjqR16OGp/EqIhIicbi+ttvvyXkfP6BwaXkaAwnkloSrJ3tYEzEN+/aOmW6BsaGwdEDw0epMA04AfVjLQilHwmuvm5ogOV9y+5tHTqKR6XGkTj5Vc23/ai7ZaO8Qlfm1A6DXZ06dyKzJS4zUU6+y9/60Tv0Iu5JfoaJ/KJXn161+hH37CDeQWezLpEv/lUeOnjarOlMSw4hBH5EodBKrBUySo8gnyZNmpjZW5K4mYPl781+j0yJIYcRydHI8c0drMglmvNnYwf2xMJJGnAFwfIjJoOJjZmxzZkOHTtM0lDHTr3/LxZc9+OipVp7Du8jeAR5I75i3Srkbl4hvihyO4iLR2fEh8RfQo42QX2ilZPtdoOdAwcPQrNv+/GUuVELkRYY8eZnrTKKc6DaZs2bLVutjUOV0SNaiYn9rR8jUmKQdEB2nsG+y1drN2/evFY/AqyUoqKiew8b2J0/i6oceYpbgCfTkkNw0Y8YMzPnahpZmzpcOIdFsaWoqN62TYijslYZpaLYo9uJM4anLU2wIhIJAthzmub0hcu0sINDQwvjHr16BseFz100j4wKDiFYfvSPClYeNhgJAsM2g52sNnUMd/2YnJ8+doIq78Pcd3Q/4qiM+g3sLyktBZExXwSfdXcarTpGSkYa9a+x9RlEnL3PDx4+hJwlbNu7Y8W6lWQfOebMObO6KnadPnsmqmakdbsO7EHhrNhdcdehvXrb9PccMUAzCHH4qBF+EUHkKjQ7YnQchblCNwWUyRs26+4/fhBx1Pvod9RipBnArJuuOZPspxZkoB7vN7CfpJSkyqgRXPyZMYGLfoxKi5u9YA48iAEzRGXoUeMTzDd74YmR8CCKaFQSy9eswHgjcSSVvfv1jslMIIdphVkLly4aqDxIY8bUmIzPQa4gWH7E/MGawwupquoR7voR/O3DxL+obTHKEWE1rgl++ZaG9AVztiZS+pcIDmFGJlJz2+Ic4koEmc9i9v/brORzM9zhG814Pwv87d/MLThaX6Mv0F/k4fP20edTRdmkN5kgacwcAnIH1rWcQEDfPwoOnPYjRaAQgvePDQ3qx1qgfqTwC+pHzkH9WAvUjxR+Qf3IOagfa4H6kcIvqB85B/VjLVA/UvgF9SPn+IsfH1U/vv/kAYWXpy+qX75+yQpSKN/Bw+pHb9+9ZQUpgsyT508hxs9+xAEUSeHl2cvnr968ZgUplO/gyfMn796/YwUpgkz1i2cf//Mlf3z49FHV4/sUXrBmvHj9khWkUL6DB08fIn9kBSmCzONnT6gfvwX1I4VfUD9yDurHWqB+pPAL6kfOQf1YC9SPFH5B/cg5qB9rgfqRwi+oHzkH9WMtUD/yi2u3KkzNzxSVFbPiDQfqR84hWH68XnnD1sF23vx5mnNmHzh04OqNa6wGdY/Q+PHGnZsW1hbzFsyfNXvW8VMnKm5dZzXgF/ceVVXev3PvYRUruHPPrkGDBl2/fYM3zpBbmKc6XtXH35cVFya46Ed0XHp2xuZtW2bMmrFQa6GHj+fdh/dI3NzKfPXa1QwXAy8ijrPOF1wWaS1Cd1+5cZW5ye59u7ft2IYdEuEKguXHvQZ7ZeXk8Ky1V60QFRXVmKZxu6qS1aaOERo/rtuwrl37dlu2b92+c3u/Af3sHR1YDfhFecWViZPUgsOCeYOZuVlKykpJacm8QV4ulxTMnjs76K9XCRlc9COy/r79+s6eO+fQ0cOT1NWbNm3q5umOOJbAIUOHKCoqLtNeRiBrW1RctLSMtLuXx2SNKWvXryVC9Avyl+8qn5mXRe7JIQTLj5m5mVhz8EwBcpxWYq0ycjJZbeoY4fAjsjYJCYlDRw+R8Xrr3m2kk8xZHBaWFd28e4uJEJDOF5YW4iw5xA6WK0wMNGaCOCwqL664/TkbRfqQlZfdrl07+BdT686DuwjiQwtKC7Pys5mrAD4O15KPrsk3H1Xh40h7Am5VcqW0/PoV8jcLAVz0I3ok53IuyRkxisQ7iq9cvRL7xI9ai7WYlgSMsRmzZqLLnM+7DBw0EAOm7Fp5z549Hc6dZbXkBIL7/hFZumgr0bSsdFa8jhESP1bW+HHFqpW8AgIYx7YOtv3698Oa36dvH7uzdmQmYPRjferRs4ekpOTgoUNCLoUiiMRz287t8xcu6Ny589ETx3BtQEig0mBlGVmZbt27Hz52GFclpCRgMvzyyy+dJTt3697Nxc01JSNl6rSpaCMlLaU8WDk6PoZ89KLFi04Ynhw/YTzu5nzeGZJVUlIiWSfufCk6QmWEiqysbBf5LjM1Z+YV5ZOrOA3X3z9iFHXo0EF/iz72/8mP+w8dQNmHHnR1O48GWP9WrFqBvkZ7VktOIKB+xPNFld1/QH/ejKNeEJr6eteeXdCW5pzZEdERTNDDx7Ntu3ZY6q/drDCzNGvevHlMYiziyP6wOJmYmWJ9OmF44sixowiihhJpKTJ1+lTfgItxSfEolpHgG50xRsrv6evVunVrB6ez6C9Is3WbNsdOHItNjMUpVzdXlGYZuZnp2emw4fARKuSdyZixY/ARy7WX+/j5oPrOL77cpk0bL18vnMopyMXd1qxbk5KRGhweMnDQoBEjR7DMzkU46keUGhExkRcD/abNmN6zV090FoLEj917dF+otXDrjm3+QQGkg0IjwiQ6SWD8qE9W37V391lnR7Qpqyhn7sYtBNSPmH6Yew7nftY7sn+P0PgR5jI1PyPXRa5FixaLly5B3YpUEUs98kFMAIAIEsm9Bnsx0CdMnKA5dzZWKVyIf8nQhx8VFBXLv4z1TVv0MUNQWZPLkSTOWzAP8aKy4vYdOkCLpBkvFtaWyCJLr5VhH36E9Zj3y7x+3LV3l4KiAspzcgozs3HjxsnpKeSQu3DUj0lpSYrdFFF/iLUWW71uNTJ9BDEqDE1Ob9m+VW/zprGq41qItNizbw/idx/cczrvvHLNqlNGp9JzMhQVFb0uert7eyDdQbnw9TscAUcQ/YgOQMqwYNFCQcjJhcaPBEjw8NHDTZs2RdUDN/Xt11dcXByVNUFERERnow5M2q1H9z0GNcOdF/hxgtoE5hDZRCsxMebatm3bqqmrIc7yIzrxrJPj7LlzRo4a2b17d9TdJVdLEYcfV61ZTdoAXj/OmTtHfcpkYmeQW5CHxNbD24McchdO19dXb14LDgvp1r2b6nhV1in0lPZK7ZYtW97mqfbQ7zM1Z27cpIfcU0ZW1t7RfrjKcIOD+5kGnEDg/Fh8pURJWWmyxhSkJKxT9YKQ+RFgNC9ZtqSLfBckaIOUlZav0M7Ky2bACg8/oozatnM760KWH+fMn4vEAdUWcy3J+Fh+RJEl0amTnYNdbGLc8VMn/o0fkdKqTlAlb0IBPuLXX38N/fQOlNNw/f0jsLC2aNKkCVZZVtzK1uqXX34hqSXB+IwJJvL12zcwALSWLMaoQxuVkSOYBpxAsPyIymvsuLGATCFBQDj8WF5xJa8on2RkKJY152gqDx6MnYVai0aNHsUUuVASAcXyiFGfi1/oMqcgFzssPyIXkJGVYb65vvfwcxleerWss6QkSmkSx5RYunxpTYNHVScNT/4bPx44fKB9+/aXSwqwj6uMTI1btWr19ZzkHFz0I8ZAeUU5GTn4d/e+3egmdDRghg32Fy9ZjMFAmoHE1CR5efmouGjs79i1Y6HWQpyytrMZOXoUacAVBMuPi5cubtSo0fSZ05csW0pwdDnHalPHCIcfA0OD2rZru2BRzav02XNmt2jRwuWCC+LI6cQ7imtM0zAxMz164pjGtKlhEWE17UMCUS7hcP/B/aNrRLYKQZYfC0oLFRQVRowaecro1Ckjw3kL5tuetUMc02bU6NH9B/Y3OGAQHB6yXmd9p06dTM1Nt2zfiqT13/gRNQTuPGDAAHz6Bt0NqNyReDJzj7tw0Y+RsVHoshWrVmB4LF+xXFRU9NDRw4ijZ5UHK2M4HT52ZMbMGSIiIo7OjuQSDIARI0ccPlbTDFwM9JOVlfXw8Zw4SY3W1z+EmaXZmnVreHG58Dev+esS4fDjnft33b3ckcdNmqy+eu2ayNhIUr1COskZKRt0dSapT9KcM/uE4UmSDyIecilEe6X25CmT9x0wIN+onHU6i6KJ3JC0gSI3b9uiMVVj+ozpaFZYVkROJaQkLlqsNWfuHOxcuXF1z749UzSmwI9xyfHbd+0gH2FofNrJ1Zm0B2imv3VzSkbNlzA1dy4pQIE/WWPyvAXzMLVIZsp1uOjHyvt3XN1cFy9doqauhvHj7eeDsYT49cobp4wNZ8+drT5ZHUsgFlrmfch5jwvzF85n3o+h70wtzmBtPnj4IGoREuQKgvj9jEAhfO8fKfWFELx/bGhQP9YC9SOFX1A/cg7qx1qgfqTwC+pHzkH9WAvUjxR+Qf3IOagfa4H6kcIvqB85B/VjLVA/UvgF9SPn+IsfX7998+rtawovGNDv/3jPClIo38Hrt6//+PCBFaQIMm/evYEYP/ux6GZZ3tVCCi8Vd25UPbnPClIo30HRjdJnL56xghRB5kplxcePX/LHgusl2eX5FF7wgO49rmIFKZTv4HJFcfWLalaQIsiU3b5K/fgtqB8p/IL6kXNQP9YC9SOFX1A/cg7qx1qgfqTwC+pHzkH9WAvUjxR+Qf3IOQTOj1lleenF2elF2ZmluaxT9QL1Y0ZJTnpRVq3dkVaUhY5jBSm8cNeP6H1MyYziHExP3jgzW3njJMgaMIikFmayLhd8BMuPEcnRS1Ys69aze1dFhUka6hcjAlkN6p6G7Me47CSdzRsHKA2UV5AfNW70iTOG37CkyqgRU2dNYwUpvHDRjzCaravDuAnjuip27dO/z9Y926E5cioxL1V7zYpuPbrJK3SdrjkjJO4SglgmdTbrYsxMVJ8YHBtOWmKJnTJjKhpTP/4Qetv01adNNnOwOmVuJCktOVB5ENMZ9UWD9SPkOERlqHhH8fWbdI6ZnFyxbmVnqc5eIRdZzRgOnz5mYmPGClJ44aIfE3JS+g3st3TlMkMLo8XaS3777be9RwwQx0qpOX+OpLTUaUsTE1tzhW6KykMHI2h3/ixW05D4S4uWaU2dOQ0ROPHQ6WO9+vaOzUzgvTMnECw/JuWlMRmK3nb9tu3aXkqOZs7WCw3Wj1irfv31V14hhiZEJOWlYgcj3jfc3zPIJz4nmTkbn52cmFtzNiEnOTYrkckUotPjUwoysIMKyyv0IkAvk1MNDS76MbMkNyYjgfQm5mb/QQPGT5qA/fCkyJaiokZWpqSZlZPtL7/84h7gtXHbJvWpk9H+jL1Fzz690gqz4MrOkp0dPZxJS24hoN/PoCdmzdNU6K6YnJ/OOlXHNEw/4vnLyMpM05zBigMnb1dZeTlpWRkg2kr0pNlpEh+tOmbOwnnY2XvYQKSliH9UMPYd3M61EhNzvehmamveSbKzbBfZzlKS7Tu0tzvvSK5qUAjB9zODhw/RmFnzFgUVHoQYl5VE4uFJUW3atjl48vAOg10jx47C+EGDIcOHoAYfOXa07hY9Zr3kFoLlRzxEGxd7g+MHZ86dhelkcdaa1aDuaZh+xHCH47bu2c6KA1dfNyQL8dlJYM6ied16dEu+XLOGjRo3evaCudjBlBigNEBVbTwmT5/+fZdoL8VssXa2c/JyRWoZk5kAk6qMGpFRksPcs4HAdT8GxYa1atXqqNEJ7O/YvwtCZF5/oa8lpSU379rqE+bfUaKj9toV/Qb023/i0Na925WGKKcWZKK7uahIwfIjJtKqDatHjB4hryDfpWuXPUcM6n0WNUw/BsWENm/e/JDhEVacxSkLow4dO0SmxmKf8SNw8XVr+nvT0ePGSElLQYgkyIBZJK/QNa0oixUXejjtx4zinEka6pAdWQ51tmxE1cx0YlJempy83PpNOtj3DvU7eOKwg7uTZ5CPlIwU/t28c4vy0MGz5mpy7hWkINbXWaW56IMDJw793qyZhWM9p5AN049JealircX0tm1ixQEyhTW663r37S2v2LWzVOcO4n/jR2QK4yaqNmrUCBODZA2XkqMXLl3UC1cpdO0gLt6lqzz1I4dAmrJaZw1KOv/ImtcmYPehva3btP5r/ii178h+cggSclMGKg00OHrAwtFGsbuif2TQlBkaWtqLmQacQEDfPwJ0iVjr1hv/borWJQ32+5mevXoOHjbk65po+Wpt2S6yF/w9ocUjRsf/1o9BMWGYPN16dlfopohyG2XBpKmTByoP8grxjUqL092qR/3IITAG9HdtadehvZOXKxM8bWXauHHjkPia3/SAgKiQFiIi1s525BCXrN24buwEVfTyWt11sxfMQfCYyUmMAdKAKwiWH529zyflf/5y08Xnwu+//25sc4Y5Wy80WD+eNDvdpEmTXQf2EJEl56cdMTyGLGD4SJWpn97QZ5bkbtis+7Uf0wozR6mOUdOYFBQb1rZd2zUb16UVZnVV7Lpady3Ophdnay6YQ/3IFbC27dy/u03bNjYu9rzxsJrvr1tu2q4PFYIN+jrtxTswfWrr6iDbRS48MQr7G7fqTZ4+BW1QdI8YPZI04AqC5ccx48fKyMqoTZk0ftKEtu3bqmmok5cd9UiD9SNKp3la85s1byYtIz14+BAZORkU1CFx4TsMdmFi4BT6CPWyeEdxlh+Pnj4u2ko0MCYEU2Kbwc5WYq3cA7yWrVrern27hcu0VEaP6NGrB/UjVwhLiGjatCk6sXff3r379QF9+vcJTYiAN3X0dTASho9SQddjITS0MCaXxGcnK/bodurLoWeQj0QnCb2dm/v074uCgwS5gmD5EU/W2PoM1qJNOzdbnbNFrsFqUPc0WD+CrNJcZPRb927X265vamsen13zYw50ipmD5fpNOqfMjSLTYk9bGpOfN9q6nnX2uVCz4+Jgd/4s5Ij91IJMVFXeYX5og4R0/aYNZg5WYYmRJjZmmGBo0KDgoh9Rz0FqhwyP8pL46Wew6EFrZ3udzboYHuf9PJhLMBIwf5lvVjESznm6bt2z3fKcDRkVHEJw3z8KCA3ZjxT+wt3vZxos1I+1QP1I4RfUj5yD+rEWqB8p/IL6kXNQP9YC9SOFX1A/cg7qx1qgfqTwC+pHzvEXPxbdKMu9WkDh5dqd61WP77OCFMp3UHi9FH5kBSmCDNKj//rx9dvXr968ovDy5t3b93+8ZwUplO8A8+uPDx9YQYog8+bdG4jxsx8fPn2EXInCy5PnT1+8fskKUijfwYOnD9++e8sKUgSZx8+efPzPl/yR+vFrqB8p/IL6kXNQP9YC9SOFX1A/cg7qx1qgfqTwC+pHzkH9WAvUjxR+Qf3IOagfa4H6kcIvqB85h4D68XZVZVF58a17t1nxuqch+PHeo6r8ovzs/OySq6XYZ52l8AtO+/HOg7v5xZfvPrzHG8RhXmFedn4O71RFy8vFBdcrbzARUFBSmJiayLnRJYh+xENfuXqluLi4/pbNrFN1j3D7EY/a09drxMgRnT9tkpKS02dMT0pPZjXjL3cf3EtKS7564yorLvRw14/pORlTp09r164dshYmmFuQN37ieCkpqc6SnQcMHBAWGY5gxa3rmnM0Bykp9RvQn0TAjTs3R40ZdeT4UepHPhAYGtRRQkJeXn6Z9jLWqbpHiP2IwWpmadasWbMFWgsjY6OS05P9Av0WLdbat38fqyV/Kaso79ixo8M5B1Zc6OGoH+0c7SHBsapjGzVqVFBaSIKV9++oqaspD1ZOSElIyUhRHa+qqKiILNL5gssgpUGo//bu3zdpsjpySQyz3Xt3j58w/ubdW8w9uYLA+RHPffCQwXsM9o4cNZL68aeSV5gvKiq6XmcDBjETREaJwU32MbIzc7McnR3POjuihiJBdBAWMDjOL8jfytYKqQGCOPS66I3DqLho5m6op1Kz0gpLC+0d7V3dz5deK0MQ+YXTeefWrVvrb9H38PFEyYYgPigjNxOfUvNBlz9/kPDBUT+eMT8THR/jG3CR148p6SlNf28aFBZMDsOjLv3626/+wQG79+2ZNVsTHerh7dmvfz8YE6dkZGXSstJJS24hWH7EY7W0sezZq1fJ1VLqx5/N8VMnWrRokZGTyYoT0BcuF1wlJCQmqk0cM25MR4mObl7uiJdXlMvKyS5YtLBd+3adOndKTEvKysvqP6D/wEEDp8+cjuBGfT1ci5YLtRaqqU/q0bMHEoo2bdoMGz7syo2rGTkZQ4cN/fXXX1EfKCkrwZtoDGPWfNAktdFjx2DHw9uD+TOECU6/f8RyyOtHG3vbpk2bXrtVQQ4RF+8obmJmamRqPGr0KKyR5lYW4ydOwERG75tbW5AhwTkEy4+FZUWysrJunu54vtSPP5vFSxf37NWTvEfH8m5uZU5ITE1CpKi8WFpG2viMMRnZm7bod+/ZA/s1fsQmJ4fcEHFE5sybO3nKZJJ1BgQHiomJxSTEYh9+RH7q6euFfeSVzZs3h3Cxz6qvi8qKpaSlTcxNyQdt3LSxV+9eHJ1O30aY/Hjo6GFxcXHmaxmsfHJd5PYdMEBB0L1Hd9UJ47Eu+vj7rlqzSnPubDSASVnf7XACAfIjpgRSD2QckCP1Yx0wd/68vv36krdCqI7VJ6uDlqKievp6iJD54O3nExweAo6dPNa8RXOkA8SPyD3JTcqvX5GUlNy6fStphioMfrQ7a4dT8OMk9UnEdJgbEp0kThiexD7Lj77+vo0bN/bx//xBR44fERERwQeRs8KEMPlx7/59UlJSjB8rbl9XUFTYY7AX++UVV7BAXi4pcPdy79mzZ3pOBhlpg4cMJmsqhxAgPyKFaduu7YHDBz18PFHK9e7de4LaBP8gf1azOkaI/YiUsG27dsVXSniDvfv0QQaHHSs7a8yH0WNGM2hM07h28xrxo4W1BWmfnZ/duk1rZHxMszHjxkJzOAU/TpmqQZoB5BdHjh/FDsuPFtaWrA+aNn0aU7gJE8LkR9TRWAiZr1xKr5VJSUuZmp8hhwBlgYKiooe3h52j/bDhw67evLZho878hQuYBpxAgPwYGRuFzFyxW7dPKKIcQwf0H9Cfed9fLwixH4NCg5G4HTpyiDfI+NE/OADzobCsCKkfgWSCLD+isJKUksJsYZoxLb/lR4mOtg62JH4xwK9JkyZff5DwIUx+RBKDw4SURHIYn5zQrFmz8KhL5LCy6s7ceXPX66xHb27etoUUgvaO9kOGDSUNuIIA+RGPElk6AbNuuMpwrSVa5OvRekSI/YiFZ8bMGa1atUKxDGfhsecW5sFixI817x+lpbfv3H698sad+3dwNi275itIlh/hstlz5yBBKCorunP/LhKKzNws0mv/5Efcqlv3bjt270Tj2/cqC0uLJKUkd+7eiQ+qxAfd+vxBwgdH/Xi7qhJdQ4SYmZeFfXQ6yo5OnTutXrcGmT66bMmypd26d2dSGUsbq4GDBl65XvMT18NHD0/RmILZfcLwJO944ASC9f0MA33/WDdcvXFtxaoVIi1FsMnKyTZt2lRaRvq8+3ly9rzHBXFxcST1KiNUZGRlZmrORJDlR5CVn608WFlCQgLNevbqhdw/rzAf8X/yI2aXrt5G1Ae9eve2tLVCxMXNtYN4B3zQcBUVGRkZzTmazFXCBEf9qL9FX76rPGwIP2KQdFXompqZhk60dbDD4or+6iLfBcMG9R9pn305B81CI0LJYU5BrpycnOac2QoKCkhCSZArCKgf8fSxUpEfx9Uvwu1HgIW9uLzYN+Ci10XvmPgYpAN4+OQUSRMCggNcLrjEJsaRl01YulIyU8uvXyFtCDiF6eHk6hQUFoxT5A75RZdzLucybZAVMt+6ICUJiwzDhyKXxOFfPijp8wcJHxz1Y0FJYXxyPA8J5LcK6DV0sZuXO0YO7/dpGAkXPN14RxHu4B/kD1EyQa4goH4UHITej5Q6g9PvHxsm1I+1QP1I4RfUj5yD+rEWqB8p/IL6kXNQP9YC9SOFX1A/cg7qx1qgfqTwC+pHzvEXPz559hSKpPBS/eLZyzevWEEK5TvAZHv77h0rSBFknr6o5vHj86cPqx9ReHn28tkr+PGrOIXyvwI/voMfv4pTBJbql9UfP37xY8H1kuzyfAovVyor7j2uYgUplO/gckVx9YtqVpAiyJTdvkr9+C2oHyn8gvqRc1A/1gL1I4VfUD9yDurHWqB+pPAL6kfOQf1YC9SPFH5B/cg5qB9rgfqRwi+oHzmHYPkxvSg7MDrEPzKYEBJ/Kassj9WmjmkgfkzMSyXPPDguPDk/LaMkhzmFfSMrU//IICZC+T6EwI+Yj7GZiWfdnVx8L8RnJzPTM7Uw0zPYJyAqOLM0l2kcnhR51Og471jiHILlR1M780aNGolia1VDr769ky+ns9rUMQ3Ej3O15v/yf7/gmbcUbdmsebPho1ScvM+TU5gP7Tt0WLFuJdP43+AT5mdiY8YKNnCEwI/6OzaLtRaTV5Bv3bZNh47iLj4XEIQTx08aP3jYkK7dFNZv0iEt0wqzRo0bvXbjenLIUQTLj6etTODH8KSo6PR4EJeVRPPHumH67JlKQ5XxzKPS41x93QYNURJr09otwBOn0AWRqbFJeWm87Wtl41Y9hW4KrGADRwj8uMNgl0eQT1J+WlBsmLSczGjVMQhe8PeUkZONz0nGmiolLZWQm4Ixs3P/7oHKg/7XYSNoCKIf04qyWPF6pOH4cdjI4cwhVia5LnJY/7GfXpy9/9hBN/8aVybmpmDcX0qO3qCvu0Z3HcnuPYK812/asGz1cnQfuRx1wPCRKm3btdXdomdw9ACpsHDPfUf2ay1frLtVzzv0ImlZc8MDe77ccG29lws/FSF7/6g6aXy/gf2xY2ZvKSffBU4MiA7pLCWJ3vQKuQhRegb58LbnIoLoRycvV6xRMRkJ9Z48gobpR6C/a0uTJk0SclKQLKCeQuKAYEj8pTZt2/Tu2xupwcTJasg3T1uatGvfDtZbu3FdZ6nOC5cuQrV16NSRPv37thJrNXfRvHV662HYsIQIecWuvfv1Wb5ae/S4Mc1btDBzsPxyw7Y8N4xj/gDhQ5j8eMHPA+vfph2bse8R7NOxk0RQTKj5WatuPbshkYQ3dx/cKwjz9wcRLD9aOFpjUrXv0L5t+3Z44kg06v3lboP1o6GFMdYq/6hglh+bN2+uqjY+pSADh+gdFFZ6O/TJTLBysmvWvFl4YiT2eetrnF2ycikOY7MScYj6QE1DvW//vrhJzQ1bNB83UZXcULgRAj/GZiaOU1PFOtdKTAyLH8YGgpkluQuWLJRX6NqjV48zduZYEcdOGIcqOzA6NCIlhvcbG84hWH7Eo0wrzMQOEpP1+jpNmza1drbjbVD3NFg/HjE6Dj+Gxl/62o8ObudIm+C4cOSYy1Zro+gGetv1SfqPU7x+TC/KRobI+w0P5Is8FEkl8aP9hc83FG6EwI9Y26yd7DA2Fq9YItZabLH2EhQH5FRiXir2HT2cJaWkAqNDNGZo9BvQX7aL7N6j+5nLOYdg+ZGX1MJM0Vai6zZtYMXrmAbrx1UbVouIiGQUZ3/tx3OeLqSNe6AX/Dh15rQlK5cRtNeujEqrqZF5/ZhakCklI623bRM5BCjEUCgExYYRPzp+uaFwI0z1NWoCQwuj3377zT3QmwnGZCT07NPrxBnDc16uklKSyZfTbZztscM04ByC60fUYi1EWiAlYcXrmAboRwz96LS4Tp07TZmugcNv+BHV1v/93/9ZnLUmh7yg42S7yJH9jOKcAUoDp2vOIGU4/t26Z7uUjFRCTjL1I7cgPUjwCPJG7zt/+R0Yij9U2TPmzMwoyTltaYIaHMGLEYFIM0kDLiJYfkQq7urrFpka4xsegMnZQbyDf1Qwq00d03D82Kd/3/MX3fH8jxqflJGVkZWXC4wJxalv+BGoqo3vP6i/T6gfyivkgya2Zkj8ET9mclKkZUuPIB+UWpg5Ow/uEWkpcsrCKCIlGuU55LtBX/fzDakfOUJcVpKW9hJU0OhEn3D/8ZPGo0RAkJw9Y28hr9A1Oj0e+84+FyQ6SyTmppg5WHbr0Z004CKC5ceFSxdJdJLA5MHDRcbh6FH/06aB+HHVhjXtar4T64jnj1G+eMXSsE9fswD4caDywP3HDmIfwc6SknAoOQVC4y+Nm6iKLkM+KCktNXnalJRPv9GJSInp27+fuETHISpDUwoywIp1Kzt2kkDPdpToiEqc/JSn5oZSki48NxRiuO7HtMKsGXNmofskMEM7SQwaPIj86gtcSo6SV+xq6+rAtJymOaPfwP49evc0tTMnQS4icPV1TEaCb7g/po2A/G9JDcSP6cXZKJZBfE4y6xRKqoScFJIVIhNEvsDqGgQxPbxD/S4lR/PGIcrA6FDck4ngWp8wP6iTifztDYUV4Xj/iBmK5BEzlPlmBqCXXXxr/l8aBvRpWGIERg5vkHMI7vtHAaGB+JFSBwjT9zMNBOrHWqB+pPAL6kfOQf1YC9SPFH5B/cg5qB9rgfqRwi+oHzkH9WMtUD9S+AX1I+f4ix9v3a+suHuTwkvV4/tPX1SzghTKd4D59fLNK1aQIsjcfVT1Xz/SjW50oxvdvt6oH+lGN7rR7e+2//zn/wG4qzqQBa8BSgAAAABJRU5ErkJggg==)"
      ],
      "metadata": {
        "id": "GpJgP6UECGmx"
      }
    },
    {
      "cell_type": "code",
      "source": [
        "sal = cod_cargo = cargo = aumento = novo_sal = 0\n",
        "\n",
        "print('Insira o código de seu cargo: \\n1 para Escrituário \\n2 para Secretário \\n3 para Caixa \\n4 para Gerente \\n5 para Diretor')\n",
        "cod_cargo = int(input())\n",
        "\n",
        "if cod_cargo < 1 or cod_cargo > 5:\n",
        "  print('ERRO: Escolha um código válido! ({})'. format(cod_cargo))\n",
        "\n",
        "else:\n",
        "  sal = float(input('Digite o valor do seu salário: '))\n",
        "\n",
        "  if cod_cargo == 1:\n",
        "    aumento = sal*0.5\n",
        "    novo_sal = sal + aumento\n",
        "    cargo = 'Escrituário'\n",
        "\n",
        "  elif cod_cargo == 2:\n",
        "    aumento = sal*0.35\n",
        "    novo_sal = sal + aumento\n",
        "    cargo = 'Secretário'\n",
        "\n",
        "  elif cod_cargo == 3:\n",
        "    aumento = sal*0.2\n",
        "    novo_sal = sal + aumento\n",
        "    cargo = 'Caixa'\n",
        "\n",
        "  elif cod_cargo == 4:\n",
        "    aumento = sal*0.1\n",
        "    novo_sal = sal + aumento\n",
        "    cargo = 'Gerente'\n",
        "\n",
        "  else:\n",
        "    aumento = sal*0.03\n",
        "    novo_sal = sal + aumento\n",
        "    cargo = 'Diretor'\n",
        "\n",
        "  print('Seu cargo é {}, seu aumento é de R${} e seu novo salário será R${}'.format(cargo, round(aumento,2), round(novo_sal,2)))\n"
      ],
      "metadata": {
        "colab": {
          "base_uri": "https://localhost:8080/"
        },
        "id": "bjSXFR4fCGxq",
        "outputId": "b10f0beb-cbb1-4318-91a6-ef854e83ae91"
      },
      "execution_count": null,
      "outputs": [
        {
          "output_type": "stream",
          "name": "stdout",
          "text": [
            "Insira o código de seu cargo: \n",
            "1 para Escrituário \n",
            "2 para Secretário \n",
            "3 para Caixa \n",
            "4 para Gerente \n",
            "5 para Diretor\n",
            "2\n",
            "Digite o valor do seu salário: 250\n",
            "Seu cargo é Secretário, seu aumento é de R$87.5 e seu novo salário será R$337.5\n"
          ]
        }
      ]
    },
    {
      "cell_type": "markdown",
      "source": [
        "9. Faça um programa que receba um salário e que mostre qual a faixa de imposto de renda o salário se enquadra e qual o valor final. Considere a tabela: ![8.png](data:image/png;base64,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)"
      ],
      "metadata": {
        "id": "HYRdYPZJCG9R"
      }
    },
    {
      "cell_type": "code",
      "source": [
        "sal = imposto = 0\n",
        "\n",
        "sal = float(input('Digite o valor do seu salário: '))\n",
        "\n",
        "if sal <= 1903.98:\n",
        "  print('Você está isento de imposto.')\n",
        "\n",
        "elif sal <= 2826.65:\n",
        "  imposto = sal * 0.075\n",
        "  print('O portencual do imposto de renda do seu salário é 7,5%, o que equivale a R$', round(imposto,2))\n",
        "\n",
        "elif sal <= 3751.05:\n",
        "  imposto = sal * 0.15\n",
        "  print('O portencual do imposto de renda do seu salário é 15%, o que equivale a R$', round(imposto,2))\n",
        "\n",
        "elif sal <= 4664.68:\n",
        "  imposto = sal * 0.225\n",
        "  print('O portencual do imposto de renda do seu salário é 22,5%, o que equivale a R$', round(imposto,2))\n",
        "\n",
        "else:\n",
        "  imposto = sal * 0.275\n",
        "  print('O portencual do imposto de renda do seu salário é 27,5%, o que equivale a R$', round(imposto,2))\n",
        "\n"
      ],
      "metadata": {
        "colab": {
          "base_uri": "https://localhost:8080/"
        },
        "id": "K5d9sWW0CHEq",
        "outputId": "4568e44e-f6b4-4a6b-8034-9eb3212f374d"
      },
      "execution_count": null,
      "outputs": [
        {
          "output_type": "stream",
          "name": "stdout",
          "text": [
            "Digite o valor do seu salário: 4000\n",
            "O portencual do imposto de renda do seu salário é 22,5%, o que equivale a R$ 900.0\n"
          ]
        }
      ]
    },
    {
      "cell_type": "markdown",
      "source": [
        "10. Faça um programa que o usuário possa escolher qual forma geométrica deve ser\n",
        "calculado a área: retângulo, triângulo retângulo ou círculo. Após a escolha da forma geométrica, o programa deverá solicitar os valores necessários para o cálculo ser realizado."
      ],
      "metadata": {
        "id": "q6FXliSyC7wI"
      }
    },
    {
      "cell_type": "code",
      "source": [
        "import math\n",
        "\n",
        "base = altura = area = forma = 0\n",
        "mensagem = 'O valor da área é: '\n",
        "\n",
        "print('Escolha uma forma geométrica para calcular a área: \\n1 para retângulo \\n2 para triângulo \\n3 para círculo')\n",
        "forma = int(input())\n",
        "\n",
        "if forma == 1:\n",
        "  base = float(input('Digite o valor da base: '))\n",
        "  altura = float(input('Digite o valor da altura: '))\n",
        "  area = base * altura\n",
        "\n",
        "elif forma == 2:\n",
        "  base = float(input('Digite o valor da base: '))\n",
        "  altura = float(input('Digite o valor da altura: '))\n",
        "  area = (base * altura)/2\n",
        "\n",
        "elif forma == 3:\n",
        "  base = float(input('Digite o valor do raio: '))\n",
        "  area = math.pi * math.pow(base,2)\n",
        "\n",
        "else:\n",
        "  print('ERRO: Escolha uma opção válida! ({})'. format(forma))\n",
        "  mensagem = ''\n",
        "  area = ''\n",
        "\n",
        "print(mensagem, area)\n"
      ],
      "metadata": {
        "colab": {
          "base_uri": "https://localhost:8080/"
        },
        "id": "8FTO57mBC9Yw",
        "outputId": "8a6114c4-e22b-4b3d-f8a7-d281c78dcd3e"
      },
      "execution_count": null,
      "outputs": [
        {
          "output_type": "stream",
          "name": "stdout",
          "text": [
            "Escolha uma forma geométrica para calcular a área: \n",
            "1 para retângulo \n",
            "2 para triângulo \n",
            "3 para círculo\n",
            "4\n",
            "ERRO: Escolha uma opção válida! (4)\n",
            " \n"
          ]
        }
      ]
    }
  ]
}