{
  "nbformat": 4,
  "nbformat_minor": 0,
  "metadata": {
    "colab": {
      "provenance": [],
      "authorship_tag": "ABX9TyPzGu6Uw9bVRdpTTR/nVzH3",
      "include_colab_link": true
    },
    "kernelspec": {
      "name": "python3",
      "display_name": "Python 3"
    },
    "language_info": {
      "name": "python"
    }
  },
  "cells": [
    {
      "cell_type": "markdown",
      "metadata": {
        "id": "view-in-github",
        "colab_type": "text"
      },
      "source": [
        "<a href=\"https://colab.research.google.com/github/FennyBR/UnespFisica/blob/main/Aula09_17_10_2023.ipynb\" target=\"_parent\"><img src=\"https://colab.research.google.com/assets/colab-badge.svg\" alt=\"Open In Colab\"/></a>"
      ]
    },
    {
      "cell_type": "markdown",
      "source": [
        "# **Aula 09 - 17/10/2023**\n",
        "0/17"
      ],
      "metadata": {
        "id": "fCC5CU42XCGz"
      }
    },
    {
      "cell_type": "code",
      "source": [],
      "metadata": {
        "id": "LqIcayFA1uQe"
      },
      "execution_count": null,
      "outputs": []
    },
    {
      "cell_type": "markdown",
      "source": [
        "1. Faça um programa que preencha um vetor com 5 elementos que compõem as notas\n",
        "de um aluno. Posteriormente exiba as notas."
      ],
      "metadata": {
        "id": "zx1FeuSbXcS6"
      }
    },
    {
      "cell_type": "code",
      "execution_count": null,
      "metadata": {
        "id": "4dhI-PkkW8Gl"
      },
      "outputs": [],
      "source": []
    },
    {
      "cell_type": "markdown",
      "source": [
        "2. Elabore um programa que preencha 3 vetores de 5 elementos cada, consistindo nas\n",
        "notas de 3 alunos. Calcule a média de cada um, maiores e menores notas."
      ],
      "metadata": {
        "id": "ftrCG8XKXeaa"
      }
    },
    {
      "cell_type": "code",
      "source": [],
      "metadata": {
        "id": "2p9NxzjlXejK"
      },
      "execution_count": null,
      "outputs": []
    },
    {
      "cell_type": "markdown",
      "source": [
        "3. Faça um programa que armazene a temperatura média para cada mês do ano. Ao\n",
        "final exiba o número do mês com a maior e a menor temperatura."
      ],
      "metadata": {
        "id": "3k-S7hFMXepZ"
      }
    },
    {
      "cell_type": "code",
      "source": [],
      "metadata": {
        "id": "d58ya9RXXewx"
      },
      "execution_count": null,
      "outputs": []
    },
    {
      "cell_type": "markdown",
      "source": [
        "4. Faça um programa que carregue um vetor de 6 números inteiros. Calcule e mostre\n",
        "os números superiores a 50 e as posições em que eles se encontram no vetor. O\n",
        "programa deve mostrar uma mensagem caso não exista nenhum número nessa\n",
        "condição."
      ],
      "metadata": {
        "id": "7gRF5x3aXe3K"
      }
    },
    {
      "cell_type": "code",
      "source": [],
      "metadata": {
        "id": "0CIwyA8XXe-i"
      },
      "execution_count": null,
      "outputs": []
    },
    {
      "cell_type": "markdown",
      "source": [
        "5. Faça um programa que preencha um vetor com 10 números reais, calcule e mostre\n",
        "a quantidade de números negativos e a soma dos números positivos desse vetor."
      ],
      "metadata": {
        "id": "kd9U7N_bXfFJ"
      }
    },
    {
      "cell_type": "code",
      "source": [],
      "metadata": {
        "id": "vJ6YJj2kXfMC"
      },
      "execution_count": null,
      "outputs": []
    },
    {
      "cell_type": "markdown",
      "source": [
        "6. Faça um programa que preencha um vetor de seis elementos numéricos inteiros.\n",
        "Calcule e mostre: quantidade de pares, quais são os números pares, quantidade de\n",
        "ímpares, quais são os números ímpares."
      ],
      "metadata": {
        "id": "VwogAfKTXfSB"
      }
    },
    {
      "cell_type": "code",
      "source": [],
      "metadata": {
        "id": "uEx2jKK_XfZR"
      },
      "execution_count": null,
      "outputs": []
    },
    {
      "cell_type": "markdown",
      "source": [
        "7. Faça um programa que carregue um vetor de 8 elementos inteiros, calcule e mostre\n",
        "dois vetores resultantes. O primeiro vetor resultando deve contar os números\n",
        "positivos. O segundo vetor resultante deve contar os números negativos. Cada vetor\n",
        "resultante vai ter no máximo 8 posições."
      ],
      "metadata": {
        "id": "fcLrJXYvXffR"
      }
    },
    {
      "cell_type": "code",
      "source": [],
      "metadata": {
        "id": "SQ8qEMyMXflS"
      },
      "execution_count": null,
      "outputs": []
    },
    {
      "cell_type": "markdown",
      "source": [
        "8. Faça um programa que receba dez números inteiros e armazene-os em um vetor.\n",
        "Calcule e mostre dois vetores resultantes. O primeiro com os números pares e o\n",
        "segundo com os números ímpares."
      ],
      "metadata": {
        "id": "0c64PNllXfrh"
      }
    },
    {
      "cell_type": "code",
      "source": [],
      "metadata": {
        "id": "aNnmRDhPXfw6"
      },
      "execution_count": null,
      "outputs": []
    },
    {
      "cell_type": "markdown",
      "source": [
        "9. Faça um programa que carregue um vetor de cinco elementos inteiros, calcule e\n",
        "mostre:\n",
        "- Os números múltiplos de 2\n",
        "- Os números múltiplos de 3\n",
        "- Os números múltiplos de 2 e 3"
      ],
      "metadata": {
        "id": "Pfivb-TEXf3K"
      }
    },
    {
      "cell_type": "code",
      "source": [],
      "metadata": {
        "id": "XlooQfCIXf9T"
      },
      "execution_count": null,
      "outputs": []
    },
    {
      "cell_type": "markdown",
      "source": [
        "10. Faça um programa que receba o nome e a nota de 7 alunos e mostre da seguinte\n",
        "forma:\n",
        "- Aluno Fulano\n",
        "- Nota 8.4\n",
        "- ...\n",
        "- Média da turma: ??"
      ],
      "metadata": {
        "id": "4ULPBYN8XgFS"
      }
    },
    {
      "cell_type": "code",
      "source": [],
      "metadata": {
        "id": "Nuh4kCNAXgMK"
      },
      "execution_count": null,
      "outputs": []
    },
    {
      "cell_type": "markdown",
      "source": [
        "11. A UniMar deseja saber se existem alunos cursando simultaneamente, as disciplinas\n",
        "de Linguagem Computacional e Cálculo. O programa deve preencher os RAs dos\n",
        "alunos que cursam Linguagem em um vetor de 6 posições. Deve-se ainda preencher\n",
        "os RAs dos alunos que cursam Cálculo em um vetor de 10 posições. Ao final o\n",
        "programa deve mostrar os RAs que aparecem nos dois vetores."
      ],
      "metadata": {
        "id": "jfwpM-h-XgUJ"
      }
    },
    {
      "cell_type": "code",
      "source": [],
      "metadata": {
        "id": "94UOeyzdXgcS"
      },
      "execution_count": null,
      "outputs": []
    },
    {
      "cell_type": "markdown",
      "source": [
        "12. Faça um programa que conte a quantidade letras A em uma frase digitada pelo\n",
        "usuário."
      ],
      "metadata": {
        "id": "SvGase3EXgjK"
      }
    },
    {
      "cell_type": "code",
      "source": [],
      "metadata": {
        "id": "fqzFycyLXgqy"
      },
      "execution_count": null,
      "outputs": []
    },
    {
      "cell_type": "markdown",
      "source": [
        "13. Faça um programa que receba uma frase e torne as 3 primeiras letras em\n",
        "maiúsculas."
      ],
      "metadata": {
        "id": "71LWn4WlXgyq"
      }
    },
    {
      "cell_type": "code",
      "source": [],
      "metadata": {
        "id": "ritunBYLXg6j"
      },
      "execution_count": null,
      "outputs": []
    },
    {
      "cell_type": "markdown",
      "source": [
        "14. Faça um programa que conte quantas palavras uma pessoa digitou em uma frase."
      ],
      "metadata": {
        "id": "7GA-k010XhBT"
      }
    },
    {
      "cell_type": "code",
      "source": [],
      "metadata": {
        "id": "V5CknZs2XhIy"
      },
      "execution_count": null,
      "outputs": []
    },
    {
      "cell_type": "markdown",
      "source": [
        "15. Faça um programa para criptografar uma frase digitada pelo usuário, trocando as\n",
        "vogais por * : Hoje tem aula -> H * j* t * m **l*"
      ],
      "metadata": {
        "id": "75Nszt2aXhQr"
      }
    },
    {
      "cell_type": "code",
      "source": [],
      "metadata": {
        "id": "aep5mJO7XhXi"
      },
      "execution_count": null,
      "outputs": []
    },
    {
      "cell_type": "markdown",
      "source": [
        "16. Faça um programa que receba o nome completo de uma pessoa e mostre os nomes\n",
        "intermediários abreviados: Maria Silva Costa -> Maria S. Costa; João Carlos\n",
        "Gomes Marques -> João C. G. Marques"
      ],
      "metadata": {
        "id": "E5sfxJDtXhfq"
      }
    },
    {
      "cell_type": "code",
      "source": [],
      "metadata": {
        "id": "1laJ-OUsXhnU"
      },
      "execution_count": null,
      "outputs": []
    },
    {
      "cell_type": "markdown",
      "source": [
        "17. Faça um programa que inverta a frase digitada pelo usuário. Ex: Amanhã é sexta ->\n",
        "atxes é ãhnamA"
      ],
      "metadata": {
        "id": "98khxhmNXhvL"
      }
    },
    {
      "cell_type": "code",
      "source": [],
      "metadata": {
        "id": "v_pSgd-FXh9S"
      },
      "execution_count": null,
      "outputs": []
    }
  ]
}