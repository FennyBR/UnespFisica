{
  "nbformat": 4,
  "nbformat_minor": 0,
  "metadata": {
    "colab": {
      "provenance": [],
      "authorship_tag": "ABX9TyNRaLAaw2UA9CbBemZI4PoF",
      "include_colab_link": true
    },
    "kernelspec": {
      "name": "python3",
      "display_name": "Python 3"
    },
    "language_info": {
      "name": "python"
    }
  },
  "cells": [
    {
      "cell_type": "markdown",
      "metadata": {
        "id": "view-in-github",
        "colab_type": "text"
      },
      "source": [
        "<a href=\"https://colab.research.google.com/github/FennyBR/UnespFisica/blob/main/Aula09_17_10_2023.ipynb\" target=\"_parent\"><img src=\"https://colab.research.google.com/assets/colab-badge.svg\" alt=\"Open In Colab\"/></a>"
      ]
    },
    {
      "cell_type": "markdown",
      "source": [
        "# **Aula 09 - 17/10/2023**\n",
        "Exercícios Vetores e Strings 1/17"
      ],
      "metadata": {
        "id": "fCC5CU42XCGz"
      }
    },
    {
      "cell_type": "markdown",
      "source": [
        "1. Faça um programa que preencha um vetor com 5 elementos que compõem as notas\n",
        "de um aluno. Posteriormente exiba as notas."
      ],
      "metadata": {
        "id": "zx1FeuSbXcS6"
      }
    },
    {
      "cell_type": "code",
      "execution_count": null,
      "metadata": {
        "id": "4dhI-PkkW8Gl"
      },
      "outputs": [],
      "source": [
        "vetor = []\n",
        "tam = 5\n",
        "\n",
        "for i in range(tam):\n",
        "  print('Digite a {}ª nota do aluno: '. format(i+1))\n",
        "  nota = float(input())\n",
        "  vetor.append(nota)\n",
        "\n",
        "print('Essas foram as notas do aluno:', vetor)"
      ]
    },
    {
      "cell_type": "markdown",
      "source": [
        "2. Elabore um programa que preencha 3 vetores de 5 elementos cada, consistindo nas\n",
        "notas de 3 alunos. Calcule a média de cada um, maiores e menores notas."
      ],
      "metadata": {
        "id": "ftrCG8XKXeaa"
      }
    },
    {
      "cell_type": "code",
      "source": [
        "pos = nota = media1 = media2 = media3 = maior1 = maior2 = maior3 =  soma1 = soma2 = soma3 = 0\n",
        "menor1 = menor2 = menor3 = 999\n",
        "aluno1 = []\n",
        "aluno2 = []\n",
        "aluno3 = []\n",
        "tam = 5\n",
        "\n",
        "for i in range(tam):\n",
        "  nota = float(input('Digite a {}ª nota do aluno 1: '. format(i+1)))\n",
        "  aluno1.append(nota)\n",
        "\n",
        "  nota = float(input('Digite a {}ª nota do aluno 2: '. format(i+1)))\n",
        "  aluno2.append(nota)\n",
        "\n",
        "  nota = float(input('Digite a {}ª nota do aluno 3: '. format(i+1)))\n",
        "  aluno3.append(nota)\n",
        "\n",
        "  print('\\n')\n",
        "\n",
        "  if aluno1[i] < menor1:\n",
        "    menor1 = aluno1[i]\n",
        "  if aluno1[i] > maior1:\n",
        "    maior1 = aluno1[i]\n",
        "\n",
        "  if aluno2[i] < menor2:\n",
        "    menor2 = aluno2[i]\n",
        "  if aluno2[i] > maior2:\n",
        "    maior2 = aluno2[i]\n",
        "\n",
        "  if aluno3[i] < menor3:\n",
        "    menor3 = aluno3[i]\n",
        "  if aluno3[i] > maior3:\n",
        "    maior3 = aluno3[i]\n",
        "\n",
        "for pos in range(tam):\n",
        "  soma1 = soma1 + aluno1[pos]\n",
        "  soma2 = soma2 + aluno1[pos]\n",
        "  soma3 = soma3 + aluno1[pos]\n",
        "\n",
        "media1 = soma1 / tam\n",
        "media2 = soma1 / tam\n",
        "media3 = soma1 / tam\n",
        "\n",
        "print('Aluno 1: \\nMédia: {} \\nMenor nota: {} \\nMaior nota: {}\\n'. format(media1,menor1,maior1))\n",
        "print('Aluno 1: \\nMédia: {} \\nMenor nota: {} \\nMaior nota: {}\\n'. format(media2,menor2,maior2))\n",
        "print('Aluno 1: \\nMédia: {} \\nMenor nota: {} \\nMaior nota: {}\\n'. format(media3,menor3,maior3))\n"
      ],
      "metadata": {
        "id": "2p9NxzjlXejK"
      },
      "execution_count": null,
      "outputs": []
    },
    {
      "cell_type": "markdown",
      "source": [
        "3. Faça um programa que armazene a temperatura média para cada mês do ano. Ao\n",
        "final exiba o número do mês com a maior e a menor temperatura."
      ],
      "metadata": {
        "id": "3k-S7hFMXepZ"
      }
    },
    {
      "cell_type": "code",
      "source": [
        "ano = []\n",
        "tam = 12\n",
        "maior = mes_maior = mes_menor = 0\n",
        "menor = 99\n",
        "\n",
        "for i in range(tam):\n",
        "  temp = float(input('Digite a temperatura média do {}º mês do ano:'. format(i+1)))\n",
        "  ano.append(temp)\n",
        "\n",
        "  if ano[i] > maior:\n",
        "    maior = ano[i]\n",
        "    mes_maior = i + 1\n",
        "  if ano[i] < menor:\n",
        "    menor = ano[i]\n",
        "    mes_menor = i + 1\n",
        "\n",
        "print('O mês com maior temperatura foi o {}º, com {}°C. \\nO mês com menor temperatura foi o {}º, com {}°C.'. format(mes_maior, maior, mes_menor, menor))"
      ],
      "metadata": {
        "id": "d58ya9RXXewx"
      },
      "execution_count": null,
      "outputs": []
    },
    {
      "cell_type": "markdown",
      "source": [
        "4. Faça um programa que carregue um vetor de 6 números inteiros. Calcule e mostre\n",
        "os números superiores a 50 e as posições em que eles se encontram no vetor. O\n",
        "programa deve mostrar uma mensagem caso não exista nenhum número nessa\n",
        "condição."
      ],
      "metadata": {
        "id": "7gRF5x3aXe3K"
      }
    },
    {
      "cell_type": "code",
      "source": [],
      "metadata": {
        "id": "0CIwyA8XXe-i"
      },
      "execution_count": null,
      "outputs": []
    },
    {
      "cell_type": "markdown",
      "source": [
        "5. Faça um programa que preencha um vetor com 10 números reais, calcule e mostre\n",
        "a quantidade de números negativos e a soma dos números positivos desse vetor."
      ],
      "metadata": {
        "id": "kd9U7N_bXfFJ"
      }
    },
    {
      "cell_type": "code",
      "source": [],
      "metadata": {
        "id": "vJ6YJj2kXfMC"
      },
      "execution_count": null,
      "outputs": []
    },
    {
      "cell_type": "markdown",
      "source": [
        "6. Faça um programa que preencha um vetor de seis elementos numéricos inteiros.\n",
        "Calcule e mostre: quantidade de pares, quais são os números pares, quantidade de\n",
        "ímpares, quais são os números ímpares."
      ],
      "metadata": {
        "id": "VwogAfKTXfSB"
      }
    },
    {
      "cell_type": "code",
      "source": [],
      "metadata": {
        "id": "uEx2jKK_XfZR"
      },
      "execution_count": null,
      "outputs": []
    },
    {
      "cell_type": "markdown",
      "source": [
        "7. Faça um programa que carregue um vetor de 8 elementos inteiros, calcule e mostre\n",
        "dois vetores resultantes. O primeiro vetor resultando deve contar os números\n",
        "positivos. O segundo vetor resultante deve contar os números negativos. Cada vetor\n",
        "resultante vai ter no máximo 8 posições."
      ],
      "metadata": {
        "id": "fcLrJXYvXffR"
      }
    },
    {
      "cell_type": "code",
      "source": [],
      "metadata": {
        "id": "SQ8qEMyMXflS"
      },
      "execution_count": null,
      "outputs": []
    },
    {
      "cell_type": "markdown",
      "source": [
        "8. Faça um programa que receba dez números inteiros e armazene-os em um vetor.\n",
        "Calcule e mostre dois vetores resultantes. O primeiro com os números pares e o\n",
        "segundo com os números ímpares."
      ],
      "metadata": {
        "id": "0c64PNllXfrh"
      }
    },
    {
      "cell_type": "code",
      "source": [],
      "metadata": {
        "id": "aNnmRDhPXfw6"
      },
      "execution_count": null,
      "outputs": []
    },
    {
      "cell_type": "markdown",
      "source": [
        "9. Faça um programa que carregue um vetor de cinco elementos inteiros, calcule e\n",
        "mostre:\n",
        "- Os números múltiplos de 2\n",
        "- Os números múltiplos de 3\n",
        "- Os números múltiplos de 2 e 3"
      ],
      "metadata": {
        "id": "Pfivb-TEXf3K"
      }
    },
    {
      "cell_type": "code",
      "source": [],
      "metadata": {
        "id": "XlooQfCIXf9T"
      },
      "execution_count": null,
      "outputs": []
    },
    {
      "cell_type": "markdown",
      "source": [
        "10. Faça um programa que receba o nome e a nota de 7 alunos e mostre da seguinte\n",
        "forma:\n",
        "- Aluno Fulano\n",
        "- Nota 8.4\n",
        "- ...\n",
        "- Média da turma: ??"
      ],
      "metadata": {
        "id": "4ULPBYN8XgFS"
      }
    },
    {
      "cell_type": "code",
      "source": [],
      "metadata": {
        "id": "Nuh4kCNAXgMK"
      },
      "execution_count": null,
      "outputs": []
    },
    {
      "cell_type": "markdown",
      "source": [
        "11. A UniMar deseja saber se existem alunos cursando simultaneamente, as disciplinas\n",
        "de Linguagem Computacional e Cálculo. O programa deve preencher os RAs dos\n",
        "alunos que cursam Linguagem em um vetor de 6 posições. Deve-se ainda preencher\n",
        "os RAs dos alunos que cursam Cálculo em um vetor de 10 posições. Ao final o\n",
        "programa deve mostrar os RAs que aparecem nos dois vetores."
      ],
      "metadata": {
        "id": "jfwpM-h-XgUJ"
      }
    },
    {
      "cell_type": "code",
      "source": [],
      "metadata": {
        "id": "94UOeyzdXgcS"
      },
      "execution_count": null,
      "outputs": []
    },
    {
      "cell_type": "markdown",
      "source": [
        "12. Faça um programa que conte a quantidade letras A em uma frase digitada pelo\n",
        "usuário."
      ],
      "metadata": {
        "id": "SvGase3EXgjK"
      }
    },
    {
      "cell_type": "code",
      "source": [
        "cont = 0\n",
        "\n",
        "frase = input('Digite uma frase: ')\n",
        "\n",
        "for i in range(len(frase)):\n",
        "  if frase[i].lower() == 'a':\n",
        "    cont = cont + 1\n",
        "\n",
        "print('Há', cont, 'letras A na frase.')\n"
      ],
      "metadata": {
        "id": "fqzFycyLXgqy"
      },
      "execution_count": null,
      "outputs": []
    },
    {
      "cell_type": "markdown",
      "source": [
        "13. Faça um programa que receba uma frase e torne as 3 primeiras letras em\n",
        "maiúsculas."
      ],
      "metadata": {
        "id": "71LWn4WlXgyq"
      }
    },
    {
      "cell_type": "code",
      "source": [
        "frase = input('Digite uma frase: ')\n",
        "\n",
        "maiusculo = frase[0:3].upper()\n",
        "resto = frase[3:]\n",
        "\n",
        "print(maiusculo + resto)\n"
      ],
      "metadata": {
        "id": "ritunBYLXg6j",
        "colab": {
          "base_uri": "https://localhost:8080/"
        },
        "outputId": "183e3fc8-720f-46f5-8444-ee4ac7af4714"
      },
      "execution_count": null,
      "outputs": [
        {
          "output_type": "stream",
          "name": "stdout",
          "text": [
            "Digite uma frase: banana\n",
            "BANana\n"
          ]
        }
      ]
    },
    {
      "cell_type": "markdown",
      "source": [
        "14. Faça um programa que conte quantas palavras uma pessoa digitou em uma frase."
      ],
      "metadata": {
        "id": "7GA-k010XhBT"
      }
    },
    {
      "cell_type": "code",
      "source": [
        "frase = input('Digite uma frase: ')\n",
        "cont = 1\n",
        "\n",
        "for i in range(len(frase)):\n",
        "  if frase[i] == ' ':\n",
        "    cont = cont + 1\n",
        "\n",
        "print('O número de palavras dessa frase é', cont)\n"
      ],
      "metadata": {
        "id": "V5CknZs2XhIy",
        "colab": {
          "base_uri": "https://localhost:8080/"
        },
        "outputId": "a2546938-bb3a-4d1a-ca3d-8b7a74c8c464"
      },
      "execution_count": null,
      "outputs": [
        {
          "output_type": "stream",
          "name": "stdout",
          "text": [
            "Digite uma frase: banana é legal\n",
            "O número de palavras dessa frase é 3\n"
          ]
        }
      ]
    },
    {
      "cell_type": "markdown",
      "source": [
        "15. Faça um programa para criptografar uma frase digitada pelo usuário, trocando as\n",
        "vogais por * : Hoje tem aula -> H * j* t * m **l*"
      ],
      "metadata": {
        "id": "75Nszt2aXhQr"
      }
    },
    {
      "cell_type": "code",
      "source": [
        "frase = input('Digite uma frase: ')\n",
        "\n",
        "frase = frase.replace('a','*')\n",
        "frase = frase.replace('e','*')\n",
        "frase = frase.replace('i','*')\n",
        "frase = frase.replace('o','*')\n",
        "frase = frase.replace('u','*')\n",
        "\n",
        "print(frase)\n"
      ],
      "metadata": {
        "id": "aep5mJO7XhXi"
      },
      "execution_count": null,
      "outputs": []
    },
    {
      "cell_type": "markdown",
      "source": [
        "16. Faça um programa que receba o nome completo de uma pessoa e mostre os nomes\n",
        "intermediários abreviados: Maria Silva Costa -> Maria S. Costa; João Carlos\n",
        "Gomes Marques -> João C. G. Marques"
      ],
      "metadata": {
        "id": "E5sfxJDtXhfq"
      }
    },
    {
      "cell_type": "code",
      "source": [],
      "metadata": {
        "id": "1laJ-OUsXhnU"
      },
      "execution_count": null,
      "outputs": []
    },
    {
      "cell_type": "markdown",
      "source": [
        "17. Faça um programa que inverta a frase digitada pelo usuário. Ex: Amanhã é sexta ->\n",
        "atxes é ãhnamA"
      ],
      "metadata": {
        "id": "98khxhmNXhvL"
      }
    },
    {
      "cell_type": "code",
      "source": [
        "frase = input('Digite uma frase: ')\n",
        "\n",
        "re = frase[::-1]\n",
        "\n",
        "print(re)\n"
      ],
      "metadata": {
        "id": "v_pSgd-FXh9S",
        "colab": {
          "base_uri": "https://localhost:8080/"
        },
        "outputId": "43f32a2a-7d7f-4ecb-c327-a301695d5638"
      },
      "execution_count": null,
      "outputs": [
        {
          "output_type": "stream",
          "name": "stdout",
          "text": [
            "Digite uma frase: desenhos\n",
            "sohnesed\n"
          ]
        }
      ]
    }
  ]
}