{
  "nbformat": 4,
  "nbformat_minor": 0,
  "metadata": {
    "colab": {
      "provenance": [],
      "authorship_tag": "ABX9TyNJ5L1mtf5DnoZMTd2oyAc1",
      "include_colab_link": true
    },
    "kernelspec": {
      "name": "python3",
      "display_name": "Python 3"
    },
    "language_info": {
      "name": "python"
    }
  },
  "cells": [
    {
      "cell_type": "markdown",
      "metadata": {
        "id": "view-in-github",
        "colab_type": "text"
      },
      "source": [
        "<a href=\"https://colab.research.google.com/github/FennyBR/UnespFisica/blob/main/Aula08_10_10_2023.ipynb\" target=\"_parent\"><img src=\"https://colab.research.google.com/assets/colab-badge.svg\" alt=\"Open In Colab\"/></a>"
      ]
    },
    {
      "cell_type": "markdown",
      "source": [
        "# **Aula 08 - 10/10/2023**\n",
        "Vetores e Strings\n"
      ],
      "metadata": {
        "id": "wa5BNCnPTrkk"
      }
    },
    {
      "cell_type": "markdown",
      "source": [
        "## Vetores"
      ],
      "metadata": {
        "id": "PKsDAY42uKTi"
      }
    },
    {
      "cell_type": "code",
      "source": [
        "# Declaração\n",
        "vetor = []\n",
        "notas = [9.4, 8.1, 5.4, 6.8]\n",
        "idades = [10, 49, 24, 36, ]\n",
        "tupla = (1,3,4) #não vamos usar\n",
        "dicionario = {'nome' : 'Matheus', 'idade' : 28} #não vamos usar, é um JSON do Python\n",
        "\n",
        "print(vetor)\n",
        "print(notas)\n",
        "print(idades)\n",
        "\n",
        "# Verificar tipo da variável\n",
        "print(type(vetor), type(notas), type(idades), type(tupla), type(dicionario))\n"
      ],
      "metadata": {
        "id": "6xH_CQepV0I0"
      },
      "execution_count": null,
      "outputs": []
    },
    {
      "cell_type": "code",
      "source": [
        "notas = [4.1, 9.5, 7.8]\n",
        "print(notas)\n",
        "\n",
        "# Mostrar individualmente\n",
        "print('Primeira posição: ', notas[0])\n",
        "print('Terceira posição: ', notas[2])\n",
        "\n",
        "# Modificando valor individualmente\n",
        "notas[0] = 5.0\n",
        "print(notas)\n"
      ],
      "metadata": {
        "id": "8hSTGzPeZETc"
      },
      "execution_count": null,
      "outputs": []
    },
    {
      "cell_type": "code",
      "source": [
        "# Preenchendo um vetor com FOR (mais indicado)\n",
        "tam = 5 # vetor com 5 posições de 0 a 4\n",
        "vetor = []\n",
        "\n",
        "for i in range(tam):\n",
        "  print('Digite o valor da posição ', i)\n",
        "  temp = float(input())\n",
        "  vetor.append(temp)\n",
        "\n",
        "  print(vetor)\n"
      ],
      "metadata": {
        "id": "lRK-MAOkao83"
      },
      "execution_count": null,
      "outputs": []
    },
    {
      "cell_type": "code",
      "source": [
        "# Preenchendo um vetor com WHILE\n",
        "tam = 5\n",
        "vetor = []\n",
        "i = 0\n",
        "\n",
        "while i < tam:\n",
        "  print('Digite o valor da posição ', i)\n",
        "  temp = float(input())\n",
        "  vetor.append(temp)\n",
        "\n",
        "  i = i + 1\n",
        "\n",
        "\n",
        "print('Vetor preenchido: ', vetor)\n"
      ],
      "metadata": {
        "id": "JJZ7Wb-IbNtN"
      },
      "execution_count": null,
      "outputs": []
    },
    {
      "cell_type": "code",
      "source": [
        "# Preenchendo um vetor sem repetição (não faça!!)\n",
        "vetor = []\n",
        "\n",
        "print('Digite o valor')\n",
        "temp = float(input())\n",
        "vetor.append(temp)\n",
        "\n",
        "print('Digite o valor')\n",
        "temp = float(input())\n",
        "vetor.append(temp)\n",
        "print(vetor)\n"
      ],
      "metadata": {
        "id": "dpF9zObScsf-"
      },
      "execution_count": null,
      "outputs": []
    },
    {
      "cell_type": "code",
      "source": [
        "# Tamanho do vetor\n",
        "idades = []\n",
        "notas = [6.8, 0.9]\n",
        "nomes = ['Ana', 'Julio', 'Zenaide']\n",
        "\n",
        "print('Tamanho de idades: ', len(idades))\n",
        "print('Tamanho de notas: ', len(notas))\n",
        "print('Tamanho de nomes: ', len(nomes))"
      ],
      "metadata": {
        "id": "8B_dqEtUdPSO"
      },
      "execution_count": null,
      "outputs": []
    },
    {
      "cell_type": "code",
      "source": [
        "notas = []\n",
        "tam = 3\n",
        "\n",
        "for i in range(tam):\n",
        "  print('Digite o valor da posição ', i, ':')\n",
        "  nota = float(input())\n",
        "  notas.append(nota)\n",
        "\n",
        "# Visualizando valores da forma \"pythonica\" (só o python tem isso)\n",
        "print(notas)\n",
        "\n",
        "# Visualizar valores de um vetor de forma geral ( o mais em comum nas linguagens)\n",
        "for i in range(len(notas)):\n",
        "  print('Valor do vetor no índice ', i, 'é: ', notas[i])\n",
        "print()\n",
        "\n",
        "#OU\n",
        "for i in range(tam):\n",
        "  print('Valor do vetor no índice ', i, 'é: ', notas[i])\n",
        "print()\n",
        "\n",
        "# Visualizar valores com o while\n",
        "pos = 0\n",
        "\n",
        "while pos < len(notas):\n",
        "  print('Valor do vetor no índice ', pos, 'é: ', notas[pos])\n",
        "  pos = pos + 1\n"
      ],
      "metadata": {
        "id": "zZO7qKg4cy49"
      },
      "execution_count": null,
      "outputs": []
    },
    {
      "cell_type": "code",
      "source": [
        "# Outras operações em lista\n",
        "nomes = ['Ana', 'Carlos', 'Pedro', 'Zenaide']\n",
        "print(nomes)\n",
        "\n",
        "# Remover pelo índice\n",
        "nomes.pop(1)\n",
        "print(nomes)\n",
        "\n",
        "# Remover pelo conteúdo\n",
        "nomes.remove('Zenaide')\n",
        "print(nomes)"
      ],
      "metadata": {
        "id": "5dgtu70pfmx1"
      },
      "execution_count": null,
      "outputs": []
    },
    {
      "cell_type": "markdown",
      "source": [
        "### Exercícios"
      ],
      "metadata": {
        "id": "ktH6a2C1fvGt"
      }
    },
    {
      "cell_type": "markdown",
      "source": [
        "1. Faça um progama que preencha um vetor com 5 elementos que compõem as notas de um aluno. Posteriormente, exiba as notas."
      ],
      "metadata": {
        "id": "M76RhAnhgNO9"
      }
    },
    {
      "cell_type": "code",
      "source": [
        "nota = 0\n",
        "tam = 5\n",
        "vetor = []\n",
        "\n",
        "for i in range(tam):\n",
        "  print('Digite a nota do aluno ', i+1,': ')\n",
        "  nota = float(input())\n",
        "  vetor.append(nota)\n",
        "\n",
        "for i in range(len(vetor)):\n",
        "  print('Valor da nota do aluno ', i+1, 'é: ', vetor[i])"
      ],
      "metadata": {
        "id": "yunAB17vfy1V"
      },
      "execution_count": null,
      "outputs": []
    },
    {
      "cell_type": "markdown",
      "source": [
        "2. Elabore um programa que preencha 3 vetores de 5 elementos cada, consistindo nas notas de 3 alunos. Calcular a média de cada um, maiores e menores notas."
      ],
      "metadata": {
        "id": "njZ--Vi-gNzV"
      }
    },
    {
      "cell_type": "code",
      "source": [
        "nota = soma1 = soma2 = soma3 = media1 = media2 = media3 = 0\n",
        "aluno1 = []\n",
        "aluno2 = []\n",
        "aluno3 = []\n",
        "tam = 5\n",
        "\n",
        "for i in range(tam):\n",
        "  print('Digite a', i + 1,'ª nota do aluno 1: ')\n",
        "  nota = float(input())\n",
        "  aluno1.append(nota)\n",
        "\n",
        "  print('Digite a', i + 1,'ª nota do aluno 2: ')\n",
        "  nota = float(input())\n",
        "  aluno2.append(nota)\n",
        "\n",
        "  print('Digite a', i + 1,'ª nota do aluno 3: ')\n",
        "  nota = float(input())\n",
        "  aluno3.append(nota)\n",
        "\n",
        "  print()\n",
        "\n",
        "for pos in range(len(aluno1)):\n",
        "  soma1 = soma1 + aluno1[pos]\n",
        "  soma2 = soma2 + aluno2[pos]\n",
        "  soma3 = soma3 + aluno3[pos]\n",
        "\n",
        "media1 = soma1/5\n",
        "media2 = soma2/5\n",
        "media3 = soma3/5\n",
        "\n",
        "menor1 = maior1 = aluno1[0]\n",
        "menor2 = maior2 = aluno2[0]\n",
        "menor3 = maior3 = aluno3[0]\n",
        "\n",
        "for i in range(1,tam):\n",
        "  # aluno 1\n",
        "  if aluno1[i] < menor1:\n",
        "    menor1 = aluno1[i]\n",
        "  if aluno1[i] > maior1:\n",
        "    maior1 = aluno1[i]\n",
        "\n",
        "  # aluno 2\n",
        "  if aluno2[i] < menor2:\n",
        "    menor2 = aluno2[i]\n",
        "  if aluno2[i] > maior2:\n",
        "    maior2 = aluno2[i]\n",
        "\n",
        "  # aluno 3\n",
        "  if aluno3[i] < menor3:\n",
        "    menor3 = aluno3[i]\n",
        "  if aluno3[i] > maior3:\n",
        "    maior3 = aluno3[i]\n",
        "\n",
        "print('Média do aluno 1: ', round(media1,2))\n",
        "print('Média do aluno 2: ', round(media2,2))\n",
        "print('Média do aluno 3: ', round(media3,2))\n",
        "print()\n",
        "print('Menor nota do aluno 1: ', menor1)\n",
        "print('Menor nota do aluno 2: ', menor2)\n",
        "print('Menor nota do aluno 3: ', menor3)\n",
        "print()\n",
        "print('Maior nota do aluno 1: ', maior1)\n",
        "print('Maior nota do aluno 2: ', maior2)\n",
        "print('Maior nota do aluno 3: ', maior3)\n"
      ],
      "metadata": {
        "id": "I_LgzJC7gN9F"
      },
      "execution_count": null,
      "outputs": []
    },
    {
      "cell_type": "markdown",
      "source": [
        "3. Faça um programa que armazene a temperatura média para cada mês do ano. Ao final exiba o número do mês com a maior e a menor temperatura."
      ],
      "metadata": {
        "id": "KpcA7uF4gOFu"
      }
    },
    {
      "cell_type": "code",
      "source": [
        "maior = menor = 0\n",
        "ano = []\n",
        "tam = 12\n",
        "\n",
        "for i in range(tam):\n",
        "  print('Digite a temperatura do', i + 1,'º mês do ano: ')\n",
        "  temperatura = float(input())\n",
        "\n",
        "#   if ano[i] < menor:\n",
        "#     menor = ano[i]\n",
        "\n",
        "#   if ano[i] > maior:\n",
        "#     maior = ano[i]\n",
        "\n",
        "# print('A maior temperatura é a do')"
      ],
      "metadata": {
        "id": "2jInzcjqgOOl"
      },
      "execution_count": null,
      "outputs": []
    },
    {
      "cell_type": "markdown",
      "source": [
        "## Strings\n"
      ],
      "metadata": {
        "id": "8lhqJIzmunqB"
      }
    },
    {
      "cell_type": "code",
      "source": [
        "# Inicializando um string\n",
        "\n",
        "saudacao = 'Oi, tudo bem?'\n",
        "nome = input('Digite o seu nome: ')\n",
        "print(saudacao)\n",
        "print(nome)\n",
        "\n",
        "# \"Parentesco\" com vetores\n",
        "# Acessar a primeira letra do nome:\n",
        "print('Primeira letra de', nome,':', nome[0])\n",
        "print('O nome digitado possui', len(nome), 'caracteres')\n",
        "print('Última letra de', nome,':', nome[len(nome)-1])\n"
      ],
      "metadata": {
        "id": "o64v31jVusnr"
      },
      "execution_count": null,
      "outputs": []
    },
    {
      "cell_type": "code",
      "source": [
        "# Copiar textos\n",
        "nome_completo = 'Maria da Silva'\n",
        "copia_nome = nome_completo\n",
        "\n",
        "print(nome_completo, copia_nome)\n",
        "\n",
        "# Copiar \"recortes\" de um texto\n",
        "\n",
        "primeiro_nome = nome_completo[0:5]\n",
        "print('Primeiro nome:', primeiro_nome)\n",
        "\n",
        "# Pegando o \"da\" de \"da Silva\"\n",
        "meio_nome = nome_completo[6:8]\n",
        "print('Meio do nome:', meio_nome)\n"
      ],
      "metadata": {
        "id": "XRu5wHpdxtfl"
      },
      "execution_count": null,
      "outputs": []
    },
    {
      "cell_type": "code",
      "source": [
        "# Concatenação de strings\n",
        "nome = 'José'\n",
        "sobrenome = 'Oliveira'\n",
        "nome_completo = nome + ' ' + sobrenome\n",
        "\n",
        "print(nome_completo)"
      ],
      "metadata": {
        "id": "2O9t1mcKyFD9"
      },
      "execution_count": null,
      "outputs": []
    },
    {
      "cell_type": "code",
      "source": [
        "# Diferença da concatenação para soma\n",
        "soma = 1 + 1\n",
        "soma_string = '1' + '1'\n",
        "print('Soma: ', soma)\n",
        "print('Concatenação da string: ', soma_string)\n",
        "print('10 numeros 1:', 10 * '1')\n"
      ],
      "metadata": {
        "id": "LnLtsHhWyGWM"
      },
      "execution_count": null,
      "outputs": []
    },
    {
      "cell_type": "code",
      "source": [
        "# Procurando uma palavra em uma frase\n",
        "palavra = input('Digite a palavra: ')\n",
        "frase = 'Atualmente a banana subiu de preço.'\n",
        "\n",
        "# Buscando a palavra na frase\n",
        "posicao_inicial = frase.find(palavra)\n",
        "\n",
        "if posicao_inicial >= 0:\n",
        "  print('Palavra \"', palavra, '\" encontrada na posição inicial: ', posicao_inicial)\n",
        "else:\n",
        "  print('Palavra \"', palavra, '\" não foi encontrada na frase.')"
      ],
      "metadata": {
        "colab": {
          "base_uri": "https://localhost:8080/"
        },
        "id": "BYXNX5IWyUoC",
        "outputId": "1754d912-51c5-4e10-a4c9-62962728b81c"
      },
      "execution_count": 41,
      "outputs": [
        {
          "output_type": "stream",
          "name": "stdout",
          "text": [
            "Digite a palavra: banca\n",
            "Palavra \" banca \" não foi encontrada na frase.\n"
          ]
        }
      ]
    },
    {
      "cell_type": "code",
      "source": [
        "frase = 'A maçã é nutritiva, mas a maçã está cara.'\n",
        "palavra_antiga = 'maçã'\n",
        "palavra_nova = 'jaboticaba'\n",
        "\n",
        "# é possivel passar um valor de quantas ocorrências devem ser substituidas\n",
        "# exemplo frase.replace(palavra_antiga, palavra_nova, 2) as duas primeiras ocorrências\n",
        "nova_frase = frase.replace(palavra_antiga, palavra_nova)\n",
        "\n",
        "print(frase)\n",
        "print(nova_frase)"
      ],
      "metadata": {
        "id": "oY2xAIc1z582"
      },
      "execution_count": null,
      "outputs": []
    },
    {
      "cell_type": "code",
      "source": [
        "# Funções interessantes de string\n",
        "frase = input('Digite uma frase: ')\n",
        "tamanho = len(frase)\n",
        "minusculo = frase.lower()\n",
        "maiusculo = frase.upper()\n",
        "primeira_letra_maiuscula = frase.capitalize()\n",
        "\n",
        "print('Original: ', frase)\n",
        "print('Tamanho da frase: ', tamanho)\n",
        "print('Minúsculo: ', minusculo)\n",
        "print('Maiúsculo: ', maiusculo)\n",
        "print('Primeira letra maiuscula: ', primeira_letra_maiuscula)"
      ],
      "metadata": {
        "id": "_AW20qrz1NgW"
      },
      "execution_count": null,
      "outputs": []
    },
    {
      "cell_type": "code",
      "source": [
        "# Usando format para \"formatar\" uma frase\n",
        "nome = \"Milena\"\n",
        "idade = 18\n",
        "altura = 1.7\n",
        "\n",
        "sa = 'Olá {}! você possui {} anos e tem {}m de altura'\n",
        "\n",
        "print(frase.format(nome, frase, altura))\n"
      ],
      "metadata": {
        "id": "ljwDEw_J3VWP"
      },
      "execution_count": null,
      "outputs": []
    },
    {
      "cell_type": "code",
      "source": [
        "# Definir um campo de texto com enter\n",
        "# Usar 3 apostofros para abrir e 3 pra fechar\n",
        "poema = '''\n",
        "Isso é uma poesia,\n",
        "Pulei de linha\n",
        "E\n",
        "Ele vai manter\n",
        "Essa formatação\n",
        "Para mim\n",
        "'''\n",
        "\n",
        "print(poema)"
      ],
      "metadata": {
        "id": "2CH7Zjcl421D"
      },
      "execution_count": null,
      "outputs": []
    },
    {
      "cell_type": "code",
      "source": [
        "# Comparando strings\n",
        "senha = '123456'\n",
        "senha_digitada = input('Digite sua senha: ')\n",
        "\n",
        "if senha_digitada == senha:\n",
        "  print('Senha correta!')\n",
        "else:\n",
        "  print('Senha incorreta!')\n"
      ],
      "metadata": {
        "id": "QDEwJLzK5m8P"
      },
      "execution_count": null,
      "outputs": []
    },
    {
      "cell_type": "code",
      "source": [
        "disciplina = input('Digite a disciplina:')\n",
        "\n",
        "print('Pegando a 3ª letra: ', disciplina[2])\n",
        "\n",
        "disciplina_modificada = disciplina.replace('i', 'y')\n",
        "\n",
        "print(disciplina)\n",
        "print(disciplina_modificada)"
      ],
      "metadata": {
        "id": "wqrHW4iT53-f"
      },
      "execution_count": null,
      "outputs": []
    },
    {
      "cell_type": "code",
      "source": [
        "# Soletrando uma palavra\n",
        "palavra = input('Digite uma palavra:')\n",
        "\n",
        "for i in range(len(palavra)):\n",
        "  print(f'{i + 1}ª letra: {palavra[i]}')"
      ],
      "metadata": {
        "id": "rRu2vFSw6RVu"
      },
      "execution_count": null,
      "outputs": []
    },
    {
      "cell_type": "markdown",
      "source": [
        "### Exercícios"
      ],
      "metadata": {
        "id": "mIuyP9yN9PmQ"
      }
    },
    {
      "cell_type": "markdown",
      "source": [
        "1. Faça um programa que conte a quantidade de letras A em uma frase digitada pelo usuário."
      ],
      "metadata": {
        "id": "DkkX2Xfu9TZe"
      }
    },
    {
      "cell_type": "code",
      "source": [
        "cont = 0\n",
        "\n",
        "frase = input('Digite uma frase: ')\n",
        "\n",
        "for i in range(len(frase)):\n",
        "  if frase[i].lower() == 'a':\n",
        "    cont = cont + 1\n",
        "\n",
        "print('Há', cont, 'letras A na frase:', frase)"
      ],
      "metadata": {
        "id": "2iunyy619Tj3"
      },
      "execution_count": null,
      "outputs": []
    },
    {
      "cell_type": "markdown",
      "source": [
        "2. Faça um progama que conte quantas palvaras uma pessoa digitou em uma frase."
      ],
      "metadata": {
        "id": "Uofdzfnf9TvX"
      }
    },
    {
      "cell_type": "code",
      "source": [
        "cont = 1\n",
        "\n",
        "frase = input('Digite uma frase: ')\n",
        "\n",
        "for i in range(len(frase)):\n",
        "  if frase[i] == ' ':\n",
        "    cont = cont + 1\n",
        "\n",
        "print('Há', cont, 'palavras A na frase:', frase)\n"
      ],
      "metadata": {
        "id": "uJ_2uiZq9T5f"
      },
      "execution_count": null,
      "outputs": []
    },
    {
      "cell_type": "markdown",
      "source": [
        "3. Faça um programa que receba uma frase e torne as 3 primeiras letras em maiúsculas."
      ],
      "metadata": {
        "id": "anySOAsJ9UBe"
      }
    },
    {
      "cell_type": "code",
      "source": [
        "frase = input('Digite uma frase:')\n",
        "\n",
        "maiusculo = frase[0:3].upper()\n",
        "restante = frase[3:]\n",
        "\n",
        "print(maiusculo + restante)"
      ],
      "metadata": {
        "id": "ZGenkBTv9UJW"
      },
      "execution_count": null,
      "outputs": []
    }
  ]
}